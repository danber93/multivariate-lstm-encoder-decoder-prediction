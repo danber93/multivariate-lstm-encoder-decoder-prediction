{
  "nbformat": 4,
  "nbformat_minor": 0,
  "metadata": {
    "accelerator": "GPU",
    "colab": {
      "name": "multivariate_btc_lstm_seq2seq.ipynb",
      "provenance": [],
      "collapsed_sections": []
    },
    "kernelspec": {
      "display_name": "Python 3",
      "name": "python3"
    },
    "language_info": {
      "name": "python"
    }
  },
  "cells": [
    {
      "cell_type": "markdown",
      "metadata": {
        "id": "CkNVf4FdX3mx"
      },
      "source": [
        "**Bitcoin Price Prediction using Multivariate Data**\n",
        "\n",
        "About this Notebook\n",
        "\n",
        "*   Sources: https://www.analyticsvidhya.com/blog/2020/10/multivariate-multi-step-time-series-forecasting-using-stacked-lstm-sequence-to-sequence-autoencoder-in-tensorflow-2-0-keras/ , https://www.geeksforgeeks.org/principal-component-analysis-with-python/ , various other blogs and python notebook\n",
        "\n",
        "About the Dataset\n",
        "\n",
        "\n",
        "*   Source: https://www.cryptodatadownload.com/\n",
        "\n",
        "**The goal is to use 50 ticks of 1 minute multivariate bitcoin data to predict the next 15 minute through a Recurrent Encoder Decoder model.** \n",
        "\n",
        "Steps followed:\n",
        "\n",
        "\n",
        "1.   Load dataset\n",
        "2.   Build features (new features are financial indicators)\n",
        "3.   Select last 5k rows and divide it in train_set and test_set\n",
        "4.   Normalize dataset and build X_train, X_test, y_train, y_test\n",
        "5.   (Remember that X_train, X_test, y_train and y_test need to be in the shape [n_samples, n_timesteps, n_features] )\n",
        "6.   Init the model and train it\n",
        "7.   Predict data on X_test and reverse normalization\n",
        "8.   Compare results with y_test"
      ]
    },
    {
      "cell_type": "code",
      "metadata": {
        "id": "Zf4AxgtDdEXC"
      },
      "source": [
        "# NOTE: to predict just 1 sequence of n future vectors (one vector would be one tick with all features) you'll need to respect those requirements:\n",
        "#  n_vectors to predict = n_future\n",
        "#  test_set[n_samples, features] => n_samples = n_past + n_future\n",
        "#  In this way in the test_set you can use the first n_past tick to predict the n_future tick\n",
        "#  if n_samples > n_past + n_future the model will predict a number of sequence of n_future vectors equal to the that difference (n_sequence = n_samples - n_past - n_future)\n",
        "#         which won't be very useful because only the last one will have all n_future vectors to predict \n",
        "#         (the other ones will predict some vector of which you already know all the values)"
      ],
      "execution_count": 1,
      "outputs": []
    },
    {
      "cell_type": "code",
      "metadata": {
        "id": "jzZ6ONi9Lqf0"
      },
      "source": [
        "import pandas as pd\n",
        "import numpy as np\n",
        "from sklearn.preprocessing import MinMaxScaler\n",
        "import matplotlib.pyplot as plt\n",
        "import tensorflow as tf\n",
        "import os"
      ],
      "execution_count": 2,
      "outputs": []
    },
    {
      "cell_type": "code",
      "metadata": {
        "colab": {
          "base_uri": "https://localhost:8080/",
          "height": 434
        },
        "id": "fqvhUKWILtpe",
        "outputId": "9f38786a-162b-4b1a-bd9e-4d233e03343b"
      },
      "source": [
        "#--------------------- Data Preprocessing --------------------#\n",
        "# Importing and scaling the data\n",
        "#dataset_train = pd.read_csv(\"Bitcoin_Stock_Price_Trainset.csv\")\n",
        "dataset = pd.read_csv('https://github.com/danber93/multivariate_lstm_encoder_decoder_prediction/blob/main/Binance_BTCUSDT_minute.csv?raw=true', skiprows=1)\n",
        "dataset = dataset.iloc[::-1]\n",
        "print(dataset.shape)\n",
        "dataset"
      ],
      "execution_count": 4,
      "outputs": [
        {
          "output_type": "stream",
          "name": "stdout",
          "text": [
            "(330483, 10)\n"
          ]
        },
        {
          "output_type": "execute_result",
          "data": {
            "text/html": [
              "<div>\n",
              "<style scoped>\n",
              "    .dataframe tbody tr th:only-of-type {\n",
              "        vertical-align: middle;\n",
              "    }\n",
              "\n",
              "    .dataframe tbody tr th {\n",
              "        vertical-align: top;\n",
              "    }\n",
              "\n",
              "    .dataframe thead th {\n",
              "        text-align: right;\n",
              "    }\n",
              "</style>\n",
              "<table border=\"1\" class=\"dataframe\">\n",
              "  <thead>\n",
              "    <tr style=\"text-align: right;\">\n",
              "      <th></th>\n",
              "      <th>unix</th>\n",
              "      <th>date</th>\n",
              "      <th>symbol</th>\n",
              "      <th>open</th>\n",
              "      <th>high</th>\n",
              "      <th>low</th>\n",
              "      <th>close</th>\n",
              "      <th>Volume BTC</th>\n",
              "      <th>Volume USDT</th>\n",
              "      <th>tradecount</th>\n",
              "    </tr>\n",
              "  </thead>\n",
              "  <tbody>\n",
              "    <tr>\n",
              "      <th>330482</th>\n",
              "      <td>1599856800000</td>\n",
              "      <td>2020-09-11 20:40:00</td>\n",
              "      <td>BTC/USDT</td>\n",
              "      <td>10317.00</td>\n",
              "      <td>10317.01</td>\n",
              "      <td>10314.36</td>\n",
              "      <td>10316.00</td>\n",
              "      <td>32.997684</td>\n",
              "      <td>3.403985e+05</td>\n",
              "      <td>342</td>\n",
              "    </tr>\n",
              "    <tr>\n",
              "      <th>330481</th>\n",
              "      <td>1599856860000</td>\n",
              "      <td>2020-09-11 20:41:00</td>\n",
              "      <td>BTC/USDT</td>\n",
              "      <td>10316.00</td>\n",
              "      <td>10321.09</td>\n",
              "      <td>10316.00</td>\n",
              "      <td>10319.50</td>\n",
              "      <td>16.328427</td>\n",
              "      <td>1.684977e+05</td>\n",
              "      <td>256</td>\n",
              "    </tr>\n",
              "    <tr>\n",
              "      <th>330480</th>\n",
              "      <td>1599856920000</td>\n",
              "      <td>2020-09-11 20:42:00</td>\n",
              "      <td>BTC/USDT</td>\n",
              "      <td>10319.50</td>\n",
              "      <td>10320.31</td>\n",
              "      <td>10318.49</td>\n",
              "      <td>10319.34</td>\n",
              "      <td>12.123487</td>\n",
              "      <td>1.251089e+05</td>\n",
              "      <td>193</td>\n",
              "    </tr>\n",
              "    <tr>\n",
              "      <th>330479</th>\n",
              "      <td>1599856980000</td>\n",
              "      <td>2020-09-11 20:43:00</td>\n",
              "      <td>BTC/USDT</td>\n",
              "      <td>10319.34</td>\n",
              "      <td>10320.14</td>\n",
              "      <td>10318.89</td>\n",
              "      <td>10319.00</td>\n",
              "      <td>13.548103</td>\n",
              "      <td>1.398070e+05</td>\n",
              "      <td>187</td>\n",
              "    </tr>\n",
              "    <tr>\n",
              "      <th>330478</th>\n",
              "      <td>1599857040000</td>\n",
              "      <td>2020-09-11 20:44:00</td>\n",
              "      <td>BTC/USDT</td>\n",
              "      <td>10318.99</td>\n",
              "      <td>10319.72</td>\n",
              "      <td>10316.58</td>\n",
              "      <td>10319.47</td>\n",
              "      <td>14.466964</td>\n",
              "      <td>1.492667e+05</td>\n",
              "      <td>284</td>\n",
              "    </tr>\n",
              "    <tr>\n",
              "      <th>...</th>\n",
              "      <td>...</td>\n",
              "      <td>...</td>\n",
              "      <td>...</td>\n",
              "      <td>...</td>\n",
              "      <td>...</td>\n",
              "      <td>...</td>\n",
              "      <td>...</td>\n",
              "      <td>...</td>\n",
              "      <td>...</td>\n",
              "      <td>...</td>\n",
              "    </tr>\n",
              "    <tr>\n",
              "      <th>4</th>\n",
              "      <td>1619742660000</td>\n",
              "      <td>2021-04-30 00:31:00</td>\n",
              "      <td>BTC/USDT</td>\n",
              "      <td>53745.99</td>\n",
              "      <td>53816.36</td>\n",
              "      <td>53700.00</td>\n",
              "      <td>53780.39</td>\n",
              "      <td>169.848725</td>\n",
              "      <td>9.132947e+06</td>\n",
              "      <td>2568</td>\n",
              "    </tr>\n",
              "    <tr>\n",
              "      <th>3</th>\n",
              "      <td>1619742720000</td>\n",
              "      <td>2021-04-30 00:32:00</td>\n",
              "      <td>BTC/USDT</td>\n",
              "      <td>53780.39</td>\n",
              "      <td>53784.04</td>\n",
              "      <td>53674.52</td>\n",
              "      <td>53674.53</td>\n",
              "      <td>53.895245</td>\n",
              "      <td>2.895554e+06</td>\n",
              "      <td>1595</td>\n",
              "    </tr>\n",
              "    <tr>\n",
              "      <th>2</th>\n",
              "      <td>1619742780000</td>\n",
              "      <td>2021-04-30 00:33:00</td>\n",
              "      <td>BTC/USDT</td>\n",
              "      <td>53674.53</td>\n",
              "      <td>53691.13</td>\n",
              "      <td>53615.98</td>\n",
              "      <td>53677.39</td>\n",
              "      <td>81.940577</td>\n",
              "      <td>4.396348e+06</td>\n",
              "      <td>1621</td>\n",
              "    </tr>\n",
              "    <tr>\n",
              "      <th>1</th>\n",
              "      <td>1619742840000</td>\n",
              "      <td>2021-04-30 00:34:00</td>\n",
              "      <td>BTC/USDT</td>\n",
              "      <td>53677.39</td>\n",
              "      <td>53722.40</td>\n",
              "      <td>53564.00</td>\n",
              "      <td>53580.98</td>\n",
              "      <td>89.941874</td>\n",
              "      <td>4.823830e+06</td>\n",
              "      <td>1777</td>\n",
              "    </tr>\n",
              "    <tr>\n",
              "      <th>0</th>\n",
              "      <td>1619742900000</td>\n",
              "      <td>2021-04-30 00:35:00</td>\n",
              "      <td>BTC/USDT</td>\n",
              "      <td>53580.98</td>\n",
              "      <td>53604.23</td>\n",
              "      <td>53518.93</td>\n",
              "      <td>53529.89</td>\n",
              "      <td>35.290715</td>\n",
              "      <td>1.890619e+06</td>\n",
              "      <td>996</td>\n",
              "    </tr>\n",
              "  </tbody>\n",
              "</table>\n",
              "<p>330483 rows × 10 columns</p>\n",
              "</div>"
            ],
            "text/plain": [
              "                 unix                 date  ...   Volume USDT  tradecount\n",
              "330482  1599856800000  2020-09-11 20:40:00  ...  3.403985e+05         342\n",
              "330481  1599856860000  2020-09-11 20:41:00  ...  1.684977e+05         256\n",
              "330480  1599856920000  2020-09-11 20:42:00  ...  1.251089e+05         193\n",
              "330479  1599856980000  2020-09-11 20:43:00  ...  1.398070e+05         187\n",
              "330478  1599857040000  2020-09-11 20:44:00  ...  1.492667e+05         284\n",
              "...               ...                  ...  ...           ...         ...\n",
              "4       1619742660000  2021-04-30 00:31:00  ...  9.132947e+06        2568\n",
              "3       1619742720000  2021-04-30 00:32:00  ...  2.895554e+06        1595\n",
              "2       1619742780000  2021-04-30 00:33:00  ...  4.396348e+06        1621\n",
              "1       1619742840000  2021-04-30 00:34:00  ...  4.823830e+06        1777\n",
              "0       1619742900000  2021-04-30 00:35:00  ...  1.890619e+06         996\n",
              "\n",
              "[330483 rows x 10 columns]"
            ]
          },
          "metadata": {},
          "execution_count": 4
        }
      ]
    },
    {
      "cell_type": "code",
      "metadata": {
        "colab": {
          "base_uri": "https://localhost:8080/"
        },
        "id": "acGpcXyBrxYx",
        "outputId": "0b2a083d-e0ac-4ae1-cd18-cbe529c38c31"
      },
      "source": [
        "# Building features\n",
        "dataset['diff_pct_1'] = ((dataset['close'] / np.roll(dataset['close'], shift=(int(1)))) * 100) - 100\n",
        "dataset['diff_pct_5'] = ((dataset['close'] / np.roll(dataset['close'], shift=(int(5)))) * 100) - 100\n",
        "dataset['diff_pct_15'] = ((dataset['close'] / np.roll(dataset['close'], shift=(int(15)))) * 100) - 100\n",
        "dataset['diff_pct_22'] = ((dataset['close'] / np.roll(dataset['close'], shift=(int(22)))) * 100) - 100\n",
        "\n",
        "print(dataset.columns)\n",
        "print(dataset)"
      ],
      "execution_count": 5,
      "outputs": [
        {
          "output_type": "stream",
          "name": "stdout",
          "text": [
            "Index(['unix', 'date', 'symbol', 'open', 'high', 'low', 'close', 'Volume BTC',\n",
            "       'Volume USDT', 'tradecount', 'diff_pct_1', 'diff_pct_5', 'diff_pct_15',\n",
            "       'diff_pct_22'],\n",
            "      dtype='object')\n",
            "                 unix                 date  ... diff_pct_15  diff_pct_22\n",
            "330482  1599856800000  2020-09-11 20:40:00  ...  -80.610929   -80.668779\n",
            "330481  1599856860000  2020-09-11 20:41:00  ...  -80.614771   -80.676393\n",
            "330480  1599856920000  2020-09-11 20:42:00  ...  -80.616688   -80.629481\n",
            "330479  1599856980000  2020-09-11 20:43:00  ...  -80.588182   -80.576585\n",
            "330478  1599857040000  2020-09-11 20:44:00  ...  -80.618006   -80.559402\n",
            "...               ...                  ...  ...         ...          ...\n",
            "4       1619742660000  2021-04-30 00:31:00  ...    0.951619     0.988622\n",
            "3       1619742720000  2021-04-30 00:32:00  ...    1.031367     0.657491\n",
            "2       1619742780000  2021-04-30 00:33:00  ...    1.121528     0.577845\n",
            "1       1619742840000  2021-04-30 00:34:00  ...    0.856189     0.439316\n",
            "0       1619742900000  2021-04-30 00:35:00  ...    0.636797     0.244460\n",
            "\n",
            "[330483 rows x 14 columns]\n"
          ]
        }
      ]
    },
    {
      "cell_type": "code",
      "metadata": {
        "colab": {
          "base_uri": "https://localhost:8080/"
        },
        "id": "3pFPzw3TcfAy",
        "outputId": "e74c3f22-e765-48d4-e291-39df8fa25bc5"
      },
      "source": [
        "# Drop useless columns\n",
        "\n",
        "print(dataset.columns)\n",
        "dataset = dataset.drop(['unix', 'date', 'symbol', 'Volume BTC', 'Volume USDT', 'open', 'low', 'high', 'tradecount'], axis=1)\n",
        "print(dataset)"
      ],
      "execution_count": 6,
      "outputs": [
        {
          "output_type": "stream",
          "name": "stdout",
          "text": [
            "Index(['unix', 'date', 'symbol', 'open', 'high', 'low', 'close', 'Volume BTC',\n",
            "       'Volume USDT', 'tradecount', 'diff_pct_1', 'diff_pct_5', 'diff_pct_15',\n",
            "       'diff_pct_22'],\n",
            "      dtype='object')\n",
            "           close  diff_pct_1  diff_pct_5  diff_pct_15  diff_pct_22\n",
            "330482  10316.00  -80.728524  -80.818287   -80.610929   -80.668779\n",
            "330481  10319.50    0.033928  -80.773935   -80.614771   -80.676393\n",
            "330480  10319.34   -0.001550  -80.775258   -80.616688   -80.629481\n",
            "330479  10319.00   -0.003295  -80.741300   -80.588182   -80.576585\n",
            "330478  10319.47    0.004555  -80.722041   -80.618006   -80.559402\n",
            "...          ...         ...         ...          ...          ...\n",
            "4       53780.39    0.063986    0.839126     0.951619     0.988622\n",
            "3       53674.53   -0.196838    0.549576     1.031367     0.657491\n",
            "2       53677.39    0.005328    0.427962     1.121528     0.577845\n",
            "1       53580.98   -0.179610   -0.077318     0.856189     0.439316\n",
            "0       53529.89   -0.095351   -0.402095     0.636797     0.244460\n",
            "\n",
            "[330483 rows x 5 columns]\n"
          ]
        }
      ]
    },
    {
      "cell_type": "code",
      "metadata": {
        "colab": {
          "base_uri": "https://localhost:8080/"
        },
        "id": "BL07_m50bJTS",
        "outputId": "65d5e794-5068-49fd-f931-92973b5e0d73"
      },
      "source": [
        "# Select last  5k rows\n",
        "dataset = dataset.tail(5000)\n",
        "\n",
        "# Split into train and test dataset\n",
        "dataset_train, dataset_test = dataset[1:4936], dataset[4935:]\n",
        "print(dataset_train.shape)\n",
        "print(dataset_test.shape)\n",
        "dataset_train = pd.DataFrame(dataset_train)\n",
        "dataset_test = pd.DataFrame(dataset_test)"
      ],
      "execution_count": 7,
      "outputs": [
        {
          "output_type": "stream",
          "name": "stdout",
          "text": [
            "(4935, 5)\n",
            "(65, 5)\n"
          ]
        }
      ]
    },
    {
      "cell_type": "code",
      "metadata": {
        "id": "YYkDFNa7cHH2"
      },
      "source": [
        "# Function to build X_train, X_test, y_train and y_test in the shape [n_samples, n_timesteps, n_features]\n",
        "\n",
        "def split_series(series, n_past, n_future):\n",
        "  #\n",
        "  # n_past ==> no of past observations\n",
        "  #\n",
        "  # n_future ==> no of future observations \n",
        "  #\n",
        "  X, y = list(), list()\n",
        "  for window_start in range(len(series)):\n",
        "    past_end = window_start + n_past\n",
        "    future_end = past_end + n_future\n",
        "    if future_end > len(series):\n",
        "      break\n",
        "    # slicing the past and future parts of the window\n",
        "    past, future = series[window_start:past_end, :], series[past_end:future_end, :]\n",
        "    X.append(past)\n",
        "    y.append(future)\n",
        "  return np.array(X), np.array(y)"
      ],
      "execution_count": 8,
      "outputs": []
    },
    {
      "cell_type": "code",
      "metadata": {
        "id": "1L-1A-ztcI0X"
      },
      "source": [
        "n_past = 50\n",
        "n_future = 15\n",
        "n_features = 5"
      ],
      "execution_count": 9,
      "outputs": []
    },
    {
      "cell_type": "code",
      "metadata": {
        "colab": {
          "base_uri": "https://localhost:8080/"
        },
        "id": "av49aKbBcBtr",
        "outputId": "a8195475-23af-4e18-c3d6-4875e7068fc5"
      },
      "source": [
        "train = dataset_train\n",
        "scalers={}\n",
        "for i in dataset_train.columns:\n",
        "    scaler = MinMaxScaler(feature_range=(-1,1))\n",
        "    s_s = scaler.fit_transform(train[i].values.reshape(-1,1))\n",
        "    s_s=np.reshape(s_s,len(s_s))\n",
        "    scalers['scaler_'+ str(i)] = scaler\n",
        "    train[i]=s_s\n",
        "test = dataset_test\n",
        "for i in dataset_test.columns:\n",
        "    scaler = scalers['scaler_'+ str(i)]\n",
        "    s_s = scaler.transform(test[i].values.reshape(-1,1))\n",
        "    s_s=np.reshape(s_s,len(s_s))\n",
        "    scalers['scaler_'+ str(i)] = scaler\n",
        "    test[i]=s_s\n",
        "print(test.shape)"
      ],
      "execution_count": 10,
      "outputs": [
        {
          "output_type": "stream",
          "name": "stdout",
          "text": [
            "(65, 5)\n"
          ]
        }
      ]
    },
    {
      "cell_type": "code",
      "metadata": {
        "colab": {
          "base_uri": "https://localhost:8080/"
        },
        "id": "W1x8H-UDc8EL",
        "outputId": "c4e56cac-2d75-4b72-b3dd-1c2966f61c13"
      },
      "source": [
        "X_train, y_train = split_series(train.values,n_past, n_future)\n",
        "X_train = X_train.reshape((X_train.shape[0], X_train.shape[1],n_features))\n",
        "y_train = y_train.reshape((y_train.shape[0], y_train.shape[1], n_features))\n",
        "X_test, y_test = split_series(test.values, n_past, n_future)\n",
        "X_test = X_test.reshape((X_test.shape[0], X_test.shape[1],n_features))\n",
        "y_test = y_test.reshape((y_test.shape[0], y_test.shape[1], n_features))\n",
        "\n",
        "print(\"X_train.shape\", X_train.shape)\n",
        "print(\"X_test.shape\", X_test.shape)\n",
        "print(\"y_train.shape\", y_train.shape)\n",
        "print(\"y_test.shape\", y_test.shape)"
      ],
      "execution_count": 11,
      "outputs": [
        {
          "output_type": "stream",
          "name": "stdout",
          "text": [
            "X_train.shape (4871, 50, 5)\n",
            "X_test.shape (1, 50, 5)\n",
            "y_train.shape (4871, 15, 5)\n",
            "y_test.shape (1, 15, 5)\n"
          ]
        }
      ]
    },
    {
      "cell_type": "code",
      "metadata": {
        "colab": {
          "base_uri": "https://localhost:8080/"
        },
        "id": "_B4L-wInnGUr",
        "outputId": "9e7deedd-0a00-400d-fa9b-ea0c9e5f3c92"
      },
      "source": [
        "# Select only close feature from y_train and y_test\n",
        "\n",
        "y_train = y_train[:, :, 3:4]\n",
        "y_test = y_test[:, :, 3:4]\n",
        "\n",
        "print(y_train.shape)\n",
        "print(y_test.shape)\n",
        "\n",
        "X_train = X_train[:, :, 1:5]\n",
        "X_test = X_test[:, : , 1:5]\n",
        "\n",
        "print(\"X_train.shape\", X_train.shape)\n",
        "print(\"X_test.shape\", X_test.shape)"
      ],
      "execution_count": 12,
      "outputs": [
        {
          "output_type": "stream",
          "name": "stdout",
          "text": [
            "(4871, 15, 1)\n",
            "(1, 15, 1)\n",
            "X_train.shape (4871, 50, 4)\n",
            "X_test.shape (1, 50, 4)\n"
          ]
        }
      ]
    },
    {
      "cell_type": "code",
      "metadata": {
        "colab": {
          "base_uri": "https://localhost:8080/"
        },
        "id": "jEHnUMN-dA_q",
        "outputId": "a039fd8c-06b6-4191-c179-165db0b9741e"
      },
      "source": [
        "# Encoder Decoder LSTM\n",
        "# n_features ==> no of features at each timestep in the data.\n",
        "#\n",
        "\n",
        "dropout = 0.2\n",
        "\n",
        "encoder_inputs = tf.keras.layers.Input(shape=(n_past, X_train.shape[2]))\n",
        "encoder_l1 = tf.keras.layers.LSTM(100, return_state=True, dropout=dropout)\n",
        "encoder_outputs1 = encoder_l1(encoder_inputs)\n",
        "\n",
        "encoder_states1 = encoder_outputs1[1:]\n",
        "\n",
        "#\n",
        "decoder_inputs = tf.keras.layers.RepeatVector(n_future)(encoder_outputs1[0])\n",
        "\n",
        "#\n",
        "decoder_l1 = tf.keras.layers.LSTM(100, return_sequences=True, dropout=dropout)(decoder_inputs,initial_state = encoder_states1)\n",
        "decoder_outputs1 = tf.keras.layers.TimeDistributed(tf.keras.layers.Dense(y_test.shape[2]))(decoder_l1)\n",
        "\n",
        "#\n",
        "model= tf.keras.models.Model(encoder_inputs,decoder_outputs1)\n",
        "\n",
        "#\n",
        "model.summary()"
      ],
      "execution_count": 13,
      "outputs": [
        {
          "output_type": "stream",
          "name": "stdout",
          "text": [
            "Model: \"model\"\n",
            "__________________________________________________________________________________________________\n",
            "Layer (type)                    Output Shape         Param #     Connected to                     \n",
            "==================================================================================================\n",
            "input_1 (InputLayer)            [(None, 50, 4)]      0                                            \n",
            "__________________________________________________________________________________________________\n",
            "lstm (LSTM)                     [(None, 100), (None, 42000       input_1[0][0]                    \n",
            "__________________________________________________________________________________________________\n",
            "repeat_vector (RepeatVector)    (None, 15, 100)      0           lstm[0][0]                       \n",
            "__________________________________________________________________________________________________\n",
            "lstm_1 (LSTM)                   (None, 15, 100)      80400       repeat_vector[0][0]              \n",
            "                                                                 lstm[0][1]                       \n",
            "                                                                 lstm[0][2]                       \n",
            "__________________________________________________________________________________________________\n",
            "time_distributed (TimeDistribut (None, 15, 1)        101         lstm_1[0][0]                     \n",
            "==================================================================================================\n",
            "Total params: 122,501\n",
            "Trainable params: 122,501\n",
            "Non-trainable params: 0\n",
            "__________________________________________________________________________________________________\n"
          ]
        }
      ]
    },
    {
      "cell_type": "code",
      "metadata": {
        "colab": {
          "base_uri": "https://localhost:8080/"
        },
        "id": "eNTzc4MfYVfB",
        "outputId": "6bff3310-184f-41d6-abc5-3254fa9744d7"
      },
      "source": [
        "filepath = '/content/checkpoint_2/model{epoch:d}'\n",
        "checkpoint = tf.keras.callbacks.ModelCheckpoint(\n",
        "    filepath=filepath,\n",
        "    period = 5)"
      ],
      "execution_count": 14,
      "outputs": [
        {
          "output_type": "stream",
          "name": "stdout",
          "text": [
            "WARNING:tensorflow:`period` argument is deprecated. Please use `save_freq` to specify the frequency in number of batches seen.\n"
          ]
        }
      ]
    },
    {
      "cell_type": "code",
      "metadata": {
        "id": "MqQKknaidHzT",
        "colab": {
          "base_uri": "https://localhost:8080/"
        },
        "outputId": "df712aef-5c3d-4b40-ef3c-1bd925507692"
      },
      "source": [
        "reduce_lr = tf.keras.callbacks.LearningRateScheduler(lambda x: 1e-3 * 0.90 ** x)\n",
        "model.compile(optimizer=tf.keras.optimizers.Adam(), loss=tf.keras.losses.LogCosh()) #Huber\n",
        "history=model.fit(X_train,y_train,epochs=60,validation_data=(X_test,y_test),batch_size=64,verbose=1,callbacks=[checkpoint, reduce_lr])"
      ],
      "execution_count": 15,
      "outputs": [
        {
          "output_type": "stream",
          "name": "stdout",
          "text": [
            "Epoch 1/60\n",
            "77/77 [==============================] - 7s 33ms/step - loss: 0.0055 - val_loss: 0.0227\n",
            "Epoch 2/60\n",
            "77/77 [==============================] - 2s 21ms/step - loss: 0.0047 - val_loss: 0.0211\n",
            "Epoch 3/60\n",
            "77/77 [==============================] - 2s 21ms/step - loss: 0.0046 - val_loss: 0.0285\n",
            "Epoch 4/60\n",
            "77/77 [==============================] - 2s 21ms/step - loss: 0.0045 - val_loss: 0.0257\n",
            "Epoch 5/60\n",
            "77/77 [==============================] - 2s 21ms/step - loss: 0.0045 - val_loss: 0.0223\n"
          ]
        },
        {
          "output_type": "stream",
          "name": "stderr",
          "text": [
            "WARNING:absl:Found untraced functions such as lstm_cell_layer_call_fn, lstm_cell_layer_call_and_return_conditional_losses, lstm_cell_1_layer_call_fn, lstm_cell_1_layer_call_and_return_conditional_losses, lstm_cell_layer_call_fn while saving (showing 5 of 10). These functions will not be directly callable after loading.\n"
          ]
        },
        {
          "output_type": "stream",
          "name": "stdout",
          "text": [
            "INFO:tensorflow:Assets written to: /content/checkpoint_2/model5/assets\n"
          ]
        },
        {
          "output_type": "stream",
          "name": "stderr",
          "text": [
            "INFO:tensorflow:Assets written to: /content/checkpoint_2/model5/assets\n"
          ]
        },
        {
          "output_type": "stream",
          "name": "stdout",
          "text": [
            "Epoch 6/60\n",
            "77/77 [==============================] - 2s 21ms/step - loss: 0.0045 - val_loss: 0.0218\n",
            "Epoch 7/60\n",
            "77/77 [==============================] - 2s 21ms/step - loss: 0.0043 - val_loss: 0.0224\n",
            "Epoch 8/60\n",
            "77/77 [==============================] - 2s 21ms/step - loss: 0.0042 - val_loss: 0.0225\n",
            "Epoch 9/60\n",
            "77/77 [==============================] - 2s 21ms/step - loss: 0.0042 - val_loss: 0.0173\n",
            "Epoch 10/60\n",
            "77/77 [==============================] - 2s 21ms/step - loss: 0.0043 - val_loss: 0.0202\n"
          ]
        },
        {
          "output_type": "stream",
          "name": "stderr",
          "text": [
            "WARNING:absl:Found untraced functions such as lstm_cell_layer_call_fn, lstm_cell_layer_call_and_return_conditional_losses, lstm_cell_1_layer_call_fn, lstm_cell_1_layer_call_and_return_conditional_losses, lstm_cell_layer_call_fn while saving (showing 5 of 10). These functions will not be directly callable after loading.\n"
          ]
        },
        {
          "output_type": "stream",
          "name": "stdout",
          "text": [
            "INFO:tensorflow:Assets written to: /content/checkpoint_2/model10/assets\n"
          ]
        },
        {
          "output_type": "stream",
          "name": "stderr",
          "text": [
            "INFO:tensorflow:Assets written to: /content/checkpoint_2/model10/assets\n"
          ]
        },
        {
          "output_type": "stream",
          "name": "stdout",
          "text": [
            "Epoch 11/60\n",
            "77/77 [==============================] - 2s 21ms/step - loss: 0.0042 - val_loss: 0.0185\n",
            "Epoch 12/60\n",
            "77/77 [==============================] - 2s 21ms/step - loss: 0.0042 - val_loss: 0.0184\n",
            "Epoch 13/60\n",
            "77/77 [==============================] - 2s 21ms/step - loss: 0.0042 - val_loss: 0.0166\n",
            "Epoch 14/60\n",
            "77/77 [==============================] - 2s 21ms/step - loss: 0.0041 - val_loss: 0.0199\n",
            "Epoch 15/60\n",
            "77/77 [==============================] - 2s 21ms/step - loss: 0.0042 - val_loss: 0.0178\n"
          ]
        },
        {
          "output_type": "stream",
          "name": "stderr",
          "text": [
            "WARNING:absl:Found untraced functions such as lstm_cell_layer_call_fn, lstm_cell_layer_call_and_return_conditional_losses, lstm_cell_1_layer_call_fn, lstm_cell_1_layer_call_and_return_conditional_losses, lstm_cell_layer_call_fn while saving (showing 5 of 10). These functions will not be directly callable after loading.\n"
          ]
        },
        {
          "output_type": "stream",
          "name": "stdout",
          "text": [
            "INFO:tensorflow:Assets written to: /content/checkpoint_2/model15/assets\n"
          ]
        },
        {
          "output_type": "stream",
          "name": "stderr",
          "text": [
            "INFO:tensorflow:Assets written to: /content/checkpoint_2/model15/assets\n"
          ]
        },
        {
          "output_type": "stream",
          "name": "stdout",
          "text": [
            "Epoch 16/60\n",
            "77/77 [==============================] - 2s 21ms/step - loss: 0.0044 - val_loss: 0.0200\n",
            "Epoch 17/60\n",
            "77/77 [==============================] - 2s 21ms/step - loss: 0.0041 - val_loss: 0.0195\n",
            "Epoch 18/60\n",
            "77/77 [==============================] - 2s 21ms/step - loss: 0.0040 - val_loss: 0.0183\n",
            "Epoch 19/60\n",
            "77/77 [==============================] - 2s 21ms/step - loss: 0.0041 - val_loss: 0.0200\n",
            "Epoch 20/60\n",
            "77/77 [==============================] - 2s 21ms/step - loss: 0.0041 - val_loss: 0.0189\n"
          ]
        },
        {
          "output_type": "stream",
          "name": "stderr",
          "text": [
            "WARNING:absl:Found untraced functions such as lstm_cell_layer_call_fn, lstm_cell_layer_call_and_return_conditional_losses, lstm_cell_1_layer_call_fn, lstm_cell_1_layer_call_and_return_conditional_losses, lstm_cell_layer_call_fn while saving (showing 5 of 10). These functions will not be directly callable after loading.\n"
          ]
        },
        {
          "output_type": "stream",
          "name": "stdout",
          "text": [
            "INFO:tensorflow:Assets written to: /content/checkpoint_2/model20/assets\n"
          ]
        },
        {
          "output_type": "stream",
          "name": "stderr",
          "text": [
            "INFO:tensorflow:Assets written to: /content/checkpoint_2/model20/assets\n"
          ]
        },
        {
          "output_type": "stream",
          "name": "stdout",
          "text": [
            "Epoch 21/60\n",
            "77/77 [==============================] - 2s 21ms/step - loss: 0.0040 - val_loss: 0.0188\n",
            "Epoch 22/60\n",
            "77/77 [==============================] - 2s 21ms/step - loss: 0.0041 - val_loss: 0.0189\n",
            "Epoch 23/60\n",
            "77/77 [==============================] - 2s 21ms/step - loss: 0.0040 - val_loss: 0.0189\n",
            "Epoch 24/60\n",
            "77/77 [==============================] - 2s 21ms/step - loss: 0.0040 - val_loss: 0.0197\n",
            "Epoch 25/60\n",
            "77/77 [==============================] - 2s 21ms/step - loss: 0.0040 - val_loss: 0.0184\n"
          ]
        },
        {
          "output_type": "stream",
          "name": "stderr",
          "text": [
            "WARNING:absl:Found untraced functions such as lstm_cell_layer_call_fn, lstm_cell_layer_call_and_return_conditional_losses, lstm_cell_1_layer_call_fn, lstm_cell_1_layer_call_and_return_conditional_losses, lstm_cell_layer_call_fn while saving (showing 5 of 10). These functions will not be directly callable after loading.\n"
          ]
        },
        {
          "output_type": "stream",
          "name": "stdout",
          "text": [
            "INFO:tensorflow:Assets written to: /content/checkpoint_2/model25/assets\n"
          ]
        },
        {
          "output_type": "stream",
          "name": "stderr",
          "text": [
            "INFO:tensorflow:Assets written to: /content/checkpoint_2/model25/assets\n"
          ]
        },
        {
          "output_type": "stream",
          "name": "stdout",
          "text": [
            "Epoch 26/60\n",
            "77/77 [==============================] - 2s 21ms/step - loss: 0.0040 - val_loss: 0.0196\n",
            "Epoch 27/60\n",
            "77/77 [==============================] - 2s 21ms/step - loss: 0.0040 - val_loss: 0.0189\n",
            "Epoch 28/60\n",
            "77/77 [==============================] - 2s 21ms/step - loss: 0.0040 - val_loss: 0.0192\n",
            "Epoch 29/60\n",
            "77/77 [==============================] - 2s 21ms/step - loss: 0.0040 - val_loss: 0.0183\n",
            "Epoch 30/60\n",
            "77/77 [==============================] - 2s 21ms/step - loss: 0.0040 - val_loss: 0.0187\n"
          ]
        },
        {
          "output_type": "stream",
          "name": "stderr",
          "text": [
            "WARNING:absl:Found untraced functions such as lstm_cell_layer_call_fn, lstm_cell_layer_call_and_return_conditional_losses, lstm_cell_1_layer_call_fn, lstm_cell_1_layer_call_and_return_conditional_losses, lstm_cell_layer_call_fn while saving (showing 5 of 10). These functions will not be directly callable after loading.\n"
          ]
        },
        {
          "output_type": "stream",
          "name": "stdout",
          "text": [
            "INFO:tensorflow:Assets written to: /content/checkpoint_2/model30/assets\n"
          ]
        },
        {
          "output_type": "stream",
          "name": "stderr",
          "text": [
            "INFO:tensorflow:Assets written to: /content/checkpoint_2/model30/assets\n"
          ]
        },
        {
          "output_type": "stream",
          "name": "stdout",
          "text": [
            "Epoch 31/60\n",
            "77/77 [==============================] - 2s 21ms/step - loss: 0.0040 - val_loss: 0.0187\n",
            "Epoch 32/60\n",
            "77/77 [==============================] - 2s 21ms/step - loss: 0.0040 - val_loss: 0.0187\n",
            "Epoch 33/60\n",
            "77/77 [==============================] - 2s 21ms/step - loss: 0.0040 - val_loss: 0.0193\n",
            "Epoch 34/60\n",
            "77/77 [==============================] - 2s 21ms/step - loss: 0.0040 - val_loss: 0.0189\n",
            "Epoch 35/60\n",
            "77/77 [==============================] - 2s 21ms/step - loss: 0.0041 - val_loss: 0.0190\n"
          ]
        },
        {
          "output_type": "stream",
          "name": "stderr",
          "text": [
            "WARNING:absl:Found untraced functions such as lstm_cell_layer_call_fn, lstm_cell_layer_call_and_return_conditional_losses, lstm_cell_1_layer_call_fn, lstm_cell_1_layer_call_and_return_conditional_losses, lstm_cell_layer_call_fn while saving (showing 5 of 10). These functions will not be directly callable after loading.\n"
          ]
        },
        {
          "output_type": "stream",
          "name": "stdout",
          "text": [
            "INFO:tensorflow:Assets written to: /content/checkpoint_2/model35/assets\n"
          ]
        },
        {
          "output_type": "stream",
          "name": "stderr",
          "text": [
            "INFO:tensorflow:Assets written to: /content/checkpoint_2/model35/assets\n"
          ]
        },
        {
          "output_type": "stream",
          "name": "stdout",
          "text": [
            "Epoch 36/60\n",
            "77/77 [==============================] - 2s 21ms/step - loss: 0.0040 - val_loss: 0.0191\n",
            "Epoch 37/60\n",
            "77/77 [==============================] - 2s 21ms/step - loss: 0.0040 - val_loss: 0.0192\n",
            "Epoch 38/60\n",
            "77/77 [==============================] - 2s 21ms/step - loss: 0.0041 - val_loss: 0.0192\n",
            "Epoch 39/60\n",
            "77/77 [==============================] - 2s 21ms/step - loss: 0.0040 - val_loss: 0.0195\n",
            "Epoch 40/60\n",
            "77/77 [==============================] - 2s 21ms/step - loss: 0.0040 - val_loss: 0.0194\n"
          ]
        },
        {
          "output_type": "stream",
          "name": "stderr",
          "text": [
            "WARNING:absl:Found untraced functions such as lstm_cell_layer_call_fn, lstm_cell_layer_call_and_return_conditional_losses, lstm_cell_1_layer_call_fn, lstm_cell_1_layer_call_and_return_conditional_losses, lstm_cell_layer_call_fn while saving (showing 5 of 10). These functions will not be directly callable after loading.\n"
          ]
        },
        {
          "output_type": "stream",
          "name": "stdout",
          "text": [
            "INFO:tensorflow:Assets written to: /content/checkpoint_2/model40/assets\n"
          ]
        },
        {
          "output_type": "stream",
          "name": "stderr",
          "text": [
            "INFO:tensorflow:Assets written to: /content/checkpoint_2/model40/assets\n"
          ]
        },
        {
          "output_type": "stream",
          "name": "stdout",
          "text": [
            "Epoch 41/60\n",
            "77/77 [==============================] - 2s 21ms/step - loss: 0.0040 - val_loss: 0.0196\n",
            "Epoch 42/60\n",
            "77/77 [==============================] - 2s 21ms/step - loss: 0.0040 - val_loss: 0.0195\n",
            "Epoch 43/60\n",
            "77/77 [==============================] - 2s 21ms/step - loss: 0.0040 - val_loss: 0.0191\n",
            "Epoch 44/60\n",
            "77/77 [==============================] - 2s 21ms/step - loss: 0.0040 - val_loss: 0.0192\n",
            "Epoch 45/60\n",
            "77/77 [==============================] - 2s 21ms/step - loss: 0.0040 - val_loss: 0.0191\n"
          ]
        },
        {
          "output_type": "stream",
          "name": "stderr",
          "text": [
            "WARNING:absl:Found untraced functions such as lstm_cell_layer_call_fn, lstm_cell_layer_call_and_return_conditional_losses, lstm_cell_1_layer_call_fn, lstm_cell_1_layer_call_and_return_conditional_losses, lstm_cell_layer_call_fn while saving (showing 5 of 10). These functions will not be directly callable after loading.\n"
          ]
        },
        {
          "output_type": "stream",
          "name": "stdout",
          "text": [
            "INFO:tensorflow:Assets written to: /content/checkpoint_2/model45/assets\n"
          ]
        },
        {
          "output_type": "stream",
          "name": "stderr",
          "text": [
            "INFO:tensorflow:Assets written to: /content/checkpoint_2/model45/assets\n"
          ]
        },
        {
          "output_type": "stream",
          "name": "stdout",
          "text": [
            "Epoch 46/60\n",
            "77/77 [==============================] - 2s 21ms/step - loss: 0.0041 - val_loss: 0.0192\n",
            "Epoch 47/60\n",
            "77/77 [==============================] - 2s 21ms/step - loss: 0.0040 - val_loss: 0.0193\n",
            "Epoch 48/60\n",
            "77/77 [==============================] - 2s 22ms/step - loss: 0.0040 - val_loss: 0.0193\n",
            "Epoch 49/60\n",
            "77/77 [==============================] - 2s 22ms/step - loss: 0.0040 - val_loss: 0.0193\n",
            "Epoch 50/60\n",
            "77/77 [==============================] - 2s 22ms/step - loss: 0.0040 - val_loss: 0.0193\n"
          ]
        },
        {
          "output_type": "stream",
          "name": "stderr",
          "text": [
            "WARNING:absl:Found untraced functions such as lstm_cell_layer_call_fn, lstm_cell_layer_call_and_return_conditional_losses, lstm_cell_1_layer_call_fn, lstm_cell_1_layer_call_and_return_conditional_losses, lstm_cell_layer_call_fn while saving (showing 5 of 10). These functions will not be directly callable after loading.\n"
          ]
        },
        {
          "output_type": "stream",
          "name": "stdout",
          "text": [
            "INFO:tensorflow:Assets written to: /content/checkpoint_2/model50/assets\n"
          ]
        },
        {
          "output_type": "stream",
          "name": "stderr",
          "text": [
            "INFO:tensorflow:Assets written to: /content/checkpoint_2/model50/assets\n"
          ]
        },
        {
          "output_type": "stream",
          "name": "stdout",
          "text": [
            "Epoch 51/60\n",
            "77/77 [==============================] - 2s 21ms/step - loss: 0.0040 - val_loss: 0.0192\n",
            "Epoch 52/60\n",
            "77/77 [==============================] - 2s 21ms/step - loss: 0.0040 - val_loss: 0.0192\n",
            "Epoch 53/60\n",
            "77/77 [==============================] - 2s 21ms/step - loss: 0.0040 - val_loss: 0.0192\n",
            "Epoch 54/60\n",
            "77/77 [==============================] - 2s 21ms/step - loss: 0.0040 - val_loss: 0.0193\n",
            "Epoch 55/60\n",
            "77/77 [==============================] - 2s 21ms/step - loss: 0.0039 - val_loss: 0.0194\n"
          ]
        },
        {
          "output_type": "stream",
          "name": "stderr",
          "text": [
            "WARNING:absl:Found untraced functions such as lstm_cell_layer_call_fn, lstm_cell_layer_call_and_return_conditional_losses, lstm_cell_1_layer_call_fn, lstm_cell_1_layer_call_and_return_conditional_losses, lstm_cell_layer_call_fn while saving (showing 5 of 10). These functions will not be directly callable after loading.\n"
          ]
        },
        {
          "output_type": "stream",
          "name": "stdout",
          "text": [
            "INFO:tensorflow:Assets written to: /content/checkpoint_2/model55/assets\n"
          ]
        },
        {
          "output_type": "stream",
          "name": "stderr",
          "text": [
            "INFO:tensorflow:Assets written to: /content/checkpoint_2/model55/assets\n"
          ]
        },
        {
          "output_type": "stream",
          "name": "stdout",
          "text": [
            "Epoch 56/60\n",
            "77/77 [==============================] - 2s 21ms/step - loss: 0.0040 - val_loss: 0.0193\n",
            "Epoch 57/60\n",
            "77/77 [==============================] - 2s 21ms/step - loss: 0.0040 - val_loss: 0.0193\n",
            "Epoch 58/60\n",
            "77/77 [==============================] - 2s 21ms/step - loss: 0.0039 - val_loss: 0.0193\n",
            "Epoch 59/60\n",
            "77/77 [==============================] - 2s 21ms/step - loss: 0.0040 - val_loss: 0.0193\n",
            "Epoch 60/60\n",
            "77/77 [==============================] - 2s 21ms/step - loss: 0.0040 - val_loss: 0.0193\n"
          ]
        },
        {
          "output_type": "stream",
          "name": "stderr",
          "text": [
            "WARNING:absl:Found untraced functions such as lstm_cell_layer_call_fn, lstm_cell_layer_call_and_return_conditional_losses, lstm_cell_1_layer_call_fn, lstm_cell_1_layer_call_and_return_conditional_losses, lstm_cell_layer_call_fn while saving (showing 5 of 10). These functions will not be directly callable after loading.\n"
          ]
        },
        {
          "output_type": "stream",
          "name": "stdout",
          "text": [
            "INFO:tensorflow:Assets written to: /content/checkpoint_2/model60/assets\n"
          ]
        },
        {
          "output_type": "stream",
          "name": "stderr",
          "text": [
            "INFO:tensorflow:Assets written to: /content/checkpoint_2/model60/assets\n"
          ]
        }
      ]
    },
    {
      "cell_type": "code",
      "metadata": {
        "id": "T9V6mLi2sg1P",
        "colab": {
          "base_uri": "https://localhost:8080/",
          "height": 295
        },
        "outputId": "f95db85c-8c23-4c53-e91d-4d02cbc416e6"
      },
      "source": [
        "plt.plot(history.history['loss'])\n",
        "plt.plot(history.history['val_loss'])\n",
        "plt.title(\"Training Loss\")\n",
        "plt.xlabel('Epochs')\n",
        "plt.ylabel('Loss')\n",
        "plt.legend(['loss', 'val_loss'])\n",
        "plt.show()"
      ],
      "execution_count": 16,
      "outputs": [
        {
          "output_type": "display_data",
          "data": {
            "image/png": "[encoded data removed]",
            "text/plain": [
              "<Figure size 432x288 with 1 Axes>"
            ]
          },
          "metadata": {
            "needs_background": "light"
          }
        }
      ]
    },
    {
      "cell_type": "code",
      "metadata": {
        "id": "LZSuYz-2dQaj",
        "colab": {
          "base_uri": "https://localhost:8080/"
        },
        "outputId": "725881d9-62be-45e4-fe68-6b6eb0e724f5"
      },
      "source": [
        "# Make the prediction\n",
        "\n",
        "pred=model.predict(X_test)\n",
        "print(pred.shape)"
      ],
      "execution_count": 17,
      "outputs": [
        {
          "output_type": "stream",
          "name": "stdout",
          "text": [
            "(1, 15, 1)\n"
          ]
        }
      ]
    },
    {
      "cell_type": "code",
      "metadata": {
        "id": "MwbNRLftdSGt",
        "colab": {
          "base_uri": "https://localhost:8080/"
        },
        "outputId": "8a60f2f2-8bfb-4f0d-a426-a7ce79204db4"
      },
      "source": [
        "# Reverse normalized transformation\n",
        "\n",
        "scaler = scalers['scaler_close']\n",
        "pred[:,:,0]=scaler.inverse_transform(pred[:,:,0])\n",
        "\n",
        "print(pred.shape)\n",
        "print(pred)"
      ],
      "execution_count": 18,
      "outputs": [
        {
          "output_type": "stream",
          "name": "stdout",
          "text": [
            "(1, 15, 1)\n",
            "[[[54231.816]\n",
            "  [54248.375]\n",
            "  [54260.984]\n",
            "  [54274.22 ]\n",
            "  [54290.914]\n",
            "  [54312.598]\n",
            "  [54339.758]\n",
            "  [54372.008]\n",
            "  [54408.26 ]\n",
            "  [54446.918]\n",
            "  [54486.035]\n",
            "  [54523.527]\n",
            "  [54557.383]\n",
            "  [54585.8  ]\n",
            "  [54607.363]]]\n"
          ]
        }
      ]
    },
    {
      "cell_type": "code",
      "metadata": {
        "id": "gLTXleRkkAoY",
        "colab": {
          "base_uri": "https://localhost:8080/"
        },
        "outputId": "de6f1f95-9ece-494b-da00-99bef861c278"
      },
      "source": [
        "y_test[:, :, 0] = scalers[\"scaler_close\"].inverse_transform(y_test[:,:,0])\n",
        "print(y_test)"
      ],
      "execution_count": 19,
      "outputs": [
        {
          "output_type": "stream",
          "name": "stdout",
          "text": [
            "[[[54239.10763496]\n",
            "  [54343.79284206]\n",
            "  [54395.77005015]\n",
            "  [54392.82150149]\n",
            "  [54410.57621457]\n",
            "  [54466.6704977 ]\n",
            "  [54554.2127494 ]\n",
            "  [54572.43768009]\n",
            "  [54830.92417671]\n",
            "  [54935.16109667]\n",
            "  [55140.32714481]\n",
            "  [55193.03066047]\n",
            "  [55252.61613826]\n",
            "  [55077.25967646]\n",
            "  [54932.2686325 ]]]\n"
          ]
        }
      ]
    },
    {
      "cell_type": "code",
      "metadata": {
        "id": "ricPdlcImGxI",
        "colab": {
          "base_uri": "https://localhost:8080/",
          "height": 295
        },
        "outputId": "9f4bd50a-76ea-4671-c3ec-0a563ca543e2"
      },
      "source": [
        "plt.plot(y_test[:, :, 0].flatten(), label=\"Actual Price\", color='green')\n",
        "plt.plot(pred[:, :, 0].flatten(), label=\"Predicted Price\", color='red')\n",
        " \n",
        "plt.title('Bitcoin price prediction')\n",
        "plt.xlabel('Time [minutes]')\n",
        "plt.ylabel('Price')\n",
        "plt.legend(loc='best')\n",
        " \n",
        "plt.show();"
      ],
      "execution_count": 20,
      "outputs": [
        {
          "output_type": "display_data",
          "data": {
            "image/png": "[encoded data removed]",
            "text/plain": [
              "<Figure size 432x288 with 1 Axes>"
            ]
          },
          "metadata": {
            "needs_background": "light"
          }
        }
      ]
    },
    {
      "cell_type": "markdown",
      "metadata": {
        "id": "Hz77lU4LSKas"
      },
      "source": [
        "If you find any error or if you have any question please email me at daniele.bertillo@gmail.com"
      ]
    }
  ]
}