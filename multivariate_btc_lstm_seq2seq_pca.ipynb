{
  "nbformat": 4,
  "nbformat_minor": 0,
  "metadata": {
    "accelerator": "TPU",
    "colab": {
      "name": "btc_lstm_seq2seq_1output_pca.ipynb",
      "provenance": [],
      "collapsed_sections": []
    },
    "kernelspec": {
      "display_name": "Python 3",
      "name": "python3"
    },
    "language_info": {
      "name": "python"
    }
  },
  "cells": [
    {
      "cell_type": "markdown",
      "metadata": {
        "id": "CkNVf4FdX3mx"
      },
      "source": [
        "**Bitcoin Price Prediction using Multivariate Data**\n",
        "\n",
        "About this Notebook\n",
        "\n",
        "*   Credits: Daniele Bertillo (daniele.bertillo@gmail.com)\n",
        "*   Sources: https://www.analyticsvidhya.com/blog/2020/10/multivariate-multi-step-time-series-forecasting-using-stacked-lstm-sequence-to-sequence-autoencoder-in-tensorflow-2-0-keras/ , https://www.geeksforgeeks.org/principal-component-analysis-with-python/ , various other blogs and python notebook\n",
        "\n",
        "About the Dataset\n",
        "\n",
        "\n",
        "*   Source: https://www.cryptodatadownload.com/\n",
        "\n",
        "**The goal is to use 50 ticks of 1 minute multivariate bitcoin data to predict the next 15 minute through a Recurrent Encoder Decoder model.** \n",
        "\n",
        "Steps followed:\n",
        "\n",
        "\n",
        "1.   Load dataset\n",
        "2.   Build features (new features are financial indicators)\n",
        "3.   Select last 5k rows and divide it in train_set and test_set\n",
        "4.   Produce y_train and y_test: normalize dataset and build y_train and y_test sets with 1 feature\n",
        "5.   Produce X_train and X_test: normalize dataset, do PCA transformation to reduce trainset dimensionality and then select PCA features up to circa 85% original information as X_train and X_test\n",
        "6.   (Remember that X_train, X_test, y_train and y_test need to be in the shape [n_samples, n_timesteps, n_features]\n",
        "7.   Init the model and train it\n",
        "8.   Make the prediction and inverse normalizazion on the output (no need to reverse PCA because that was only used to reduce dimensionality on the input)\n",
        "9.   Show MAE and other statistcs to understand how good is the actual prediction\n",
        "\n",
        "If you find any error or if you have any question please email me at daniele.bertillo@gmail.com"
      ]
    },
    {
      "cell_type": "code",
      "metadata": {
        "id": "Zf4AxgtDdEXC"
      },
      "source": [
        "# NOTE: to predict just 1 sequence of n future vectors (one vector would be one tick with all features) you'll need to respect those requirements:\n",
        "#  n_vectors to predict = n_future\n",
        "#  test_set[n_samples, features] => n_samples = n_past + n_future\n",
        "#  In this way in the test_set you can use the first n_past tick to predict the n_future tick\n",
        "#  if n_samples > n_past + n_future the model will predict a number of sequence of n_future vectors equal to the that difference (n_sequence = n_samples - n_past - n_future)\n",
        "#         which won't be very useful because only the last one will have all n_future vectors to predict \n",
        "#         (the other ones will predict some vector of which you already know all the values)"
      ],
      "execution_count": 1,
      "outputs": []
    },
    {
      "cell_type": "code",
      "metadata": {
        "id": "jzZ6ONi9Lqf0"
      },
      "source": [
        "import pandas as pd\n",
        "import numpy as np\n",
        "from sklearn.preprocessing import MinMaxScaler\n",
        "import matplotlib.pyplot as plt\n",
        "import tensorflow as tf\n",
        "import os"
      ],
      "execution_count": 2,
      "outputs": []
    },
    {
      "cell_type": "code",
      "metadata": {
        "id": "RlEoAay4atmc"
      },
      "source": [
        "#Class that implemented some financial indicators\n",
        "\n",
        "class Indicators:\n",
        "\n",
        "    @staticmethod\n",
        "    def sma_indicator(df: pd.DataFrame, time_period: int = 20):\n",
        "        \"\"\"\n",
        "        Get The expected indicator in a pandas dataframe.\n",
        "        Args:\n",
        "            df(pandas.DataFrame): pandas Dataframe with close values\\n\n",
        "            time_period(int): look back time period to calculate moving average \\n\n",
        "        Returns:\n",
        "            pandas.DataFrame: new pandas dataframe adding SMA as new column, preserving the columns which already exists\\n\n",
        "        \"\"\"\n",
        "\n",
        "        df[\"SMA\"] = df[\"close\"].rolling(window=time_period).mean()\n",
        "        return df\n",
        "\n",
        "    @staticmethod\n",
        "    def macd_indicator(df: pd.DataFrame, short_time_period: int = 12, long_time_period: int = 26, need_signal: bool = True, signal_time_period: int = 9):\n",
        "        \"\"\"\n",
        "        Get The expected indicator in a pandas dataframe.\n",
        "        Args:\n",
        "            df(pandas.DataFrame): pandas Dataframe with close values\\n\n",
        "            short_time_period(int): short term look back time period.\\n\n",
        "            long_time_period(int): long term look back time period.\\n\n",
        "            need_signal(bool): if True MACD signal line is added as a new column to the returning pandas dataframe.\\n\n",
        "            signal_time_period(int): look back period to calculate signal line\\n\n",
        "        Returns:\n",
        "            pandas.DataFrame: new pandas dataframe adding MACD and MACD_signal_line(if required) as new column/s, preserving the columns which already exists\\n\n",
        "        \"\"\"\n",
        "\n",
        "        df[\"LONG_EMA\"] = df[\"close\"].ewm(span=long_time_period).mean()\n",
        "        df[\"SHORT_EMA\"] = df[\"close\"].ewm(span=short_time_period).mean()\n",
        "\n",
        "        df[\"MACD\"] = df[\"SHORT_EMA\"] - df[\"LONG_EMA\"]\n",
        "        if need_signal:\n",
        "            df[\"MACD_signal_line\"] = df[\"MACD\"].ewm(span=signal_time_period).mean()\n",
        "\n",
        "        df = df.drop([\"LONG_EMA\", \"SHORT_EMA\"], axis=1)\n",
        "        return df\n",
        "\n",
        "    @staticmethod\n",
        "    def atr_indicator(df: pd.DataFrame, time_period: int = 14):\n",
        "        \"\"\"\n",
        "        Get The expected indicator in a pandas dataframe.\n",
        "        Args:\n",
        "            df(pandas.DataFrame): pandas Dataframe with high, low and close values\\n\n",
        "            time_period(int): look back period to calculate ATR\n",
        "        Returns:\n",
        "            pandas.DataFrame: new pandas dataframe adding ATR as a new column, preserving the columns which already exists\n",
        "        \"\"\"\n",
        "\n",
        "        df[\"close_prev\"] = df[\"close\"].shift(1)\n",
        "        df[\"TR\"] = df[[\"high\", \"close_prev\"]].max(\n",
        "            axis=1) - df[[\"low\", \"close_prev\"]].min(axis=1)\n",
        "        df[\"ATR\"] = df[\"TR\"].rolling(window=time_period).mean()\n",
        "\n",
        "        df = df.drop([\"close_prev\", \"TR\"], axis=1)\n",
        "        return df\n",
        "\n",
        "    @staticmethod\n",
        "    def ema_indicator(df: pd.DataFrame, time_period: int = 21):\n",
        "        \"\"\"\n",
        "        Get The expected indicator in a pandas dataframe.\n",
        "        Args:\n",
        "            df(pandas.DataFrame): pandas Dataframe with close values\\n\n",
        "            time_period(int): look back time period\\n\n",
        "        Returns:\n",
        "            pandas.DataFrame: new pandas dataframe adding EMA as a new column, preserving the columns which already exists\\n\n",
        "        \"\"\"\n",
        "        df[\"EMA\"] = df[\"close\"].ewm(span=time_period).mean()\n",
        "        return df\n",
        "\n",
        "\n",
        "    @staticmethod\n",
        "    def kc_indicator(df: pd.DataFrame, time_period: int = 20, atr_time_period: int = 14, atr_multiplier: int = 2):\n",
        "        \"\"\"\n",
        "        Get The expected indicator in a pandas dataframe.\n",
        "        Args:\n",
        "            df(pandas.DataFrame): pandas Dataframe with close values\\n\n",
        "            time_period(int): look back time period to calculate moving average\n",
        "            atr_time_period(int): time period to calculate average true range\n",
        "            atr_multiplier(int): constant value which will be multiplied by average true range\n",
        "        Returns:\n",
        "            pandas.DataFrame: new pandas dataframe adding kc_upper, kc_middle and kc_lower as three columns, preserving the columns which already exists\\n\n",
        "        \"\"\"\n",
        "\n",
        "        df[\"kc_middle\"] = df[\"close\"].ewm(span=time_period).mean()\n",
        "        df = Indicators.atr_indicator(df, atr_time_period)\n",
        "\n",
        "        df[\"kc_upper\"] = df[\"kc_middle\"] + atr_multiplier * df[\"ATR\"]\n",
        "        df[\"kc_lower\"] = df[\"kc_middle\"] - atr_multiplier * df[\"ATR\"]\n",
        "\n",
        "        df = df.drop([\"ATR\"], axis=1)\n",
        "\n",
        "        return df\n",
        "\n",
        "\n",
        "    @staticmethod\n",
        "    def rsi_indicator(df, time_period=14):\n",
        "        \"\"\"\n",
        "        Get The expected indicator in a pandas dataframe.\n",
        "        Args:\n",
        "            df(pandas.DataFrame): pandas Dataframe with close values\\n\n",
        "            time_period(int): look back time period to calculate moving average \\n\n",
        "        Returns:\n",
        "            pandas.DataFrame: new pandas dataframe adding RSI as new column, preserving the columns which already exists\\n\n",
        "        \"\"\"\n",
        "\n",
        "        df[\"close_prev\"] = df[\"close\"].shift(1)\n",
        "\n",
        "        df[\"GAIN\"] = 0.0\n",
        "        df[\"LOSS\"] = 0.0\n",
        "\n",
        "        df.loc[df[\"close\"] > df[\"close_prev\"],\n",
        "               \"GAIN\"] = df[\"close\"] - df[\"close_prev\"]\n",
        "        df.loc[df[\"close_prev\"] > df[\"close\"],\n",
        "               \"LOSS\"] = df[\"close_prev\"] - df[\"close\"]\n",
        "        df[\"AVG_GAIN\"] = df[\"GAIN\"].ewm(span=time_period).mean()\n",
        "        df[\"AVG_LOSS\"] = df[\"LOSS\"].ewm(span=time_period).mean()\n",
        "        df[\"AVG_GAIN\"].iloc[:time_period] = np.nan\n",
        "        df[\"AVG_LOSS\"].iloc[:time_period] = np.nan\n",
        "        df[\"RS\"] = df[\"AVG_GAIN\"] / \\\n",
        "                   (df[\"AVG_LOSS\"] + 0.00000001)  # to avoid divide by zero\n",
        "\n",
        "        df[\"RSI\"] = 100 - ((100 / (1 + df[\"RS\"])))\n",
        "\n",
        "        df = df.drop([\"close_prev\", \"GAIN\", \"LOSS\",\n",
        "                      \"AVG_GAIN\", \"AVG_LOSS\", \"RS\"], axis=1)\n",
        "        return df\n",
        "\n",
        "\n",
        "    @staticmethod\n",
        "    def mom_indicator(df: pd.DataFrame, time_period=1):\n",
        "        \"\"\"\n",
        "        MOM -> Momentum\n",
        "        Momentum helps to determine the price changes from one period to another. \\n\n",
        "        \\n Links:\n",
        "            http://www.ta-guru.com/Book/TechnicalAnalysis/TechnicalIndicators/Momentum.php5\\n\n",
        "        \"\"\"\n",
        "        \"\"\"\n",
        "                Get The expected indicator in a pandas dataframe.\n",
        "                Args:\n",
        "                    df(pandas.DataFrame): pandas Dataframe with close values\\n\n",
        "                    time_period(int): look back time period.\\n\n",
        "                Returns:\n",
        "                    pandas.DataFrame: new pandas dataframe adding MOM as a new column, \n",
        "                    preserving the columns which already exists\\n\n",
        "                \"\"\"\n",
        "        df[\"close_prev\"] = df[\"close\"].shift(time_period)\n",
        "        df[\"MOM\"] = df[\"close\"] - df[\"close_prev\"]\n",
        "        df.drop(columns=\"close_prev\")\n",
        "        return df\n",
        "\n",
        "    @staticmethod\n",
        "    def vhf_indicator(df: pd.DataFrame, time_period: int = 28):\n",
        "        \"\"\"\n",
        "                Get The expected indicator in a pandas dataframe.\n",
        "                Args:\n",
        "                    df(pandas.DataFrame): pandas Dataframe with close values\\n\n",
        "                    time_period(int): look back time period\\n\n",
        "                Returns:\n",
        "                    pandas.DataFrame: new pandas dataframe adding VHF as new column, preserving the columns which already exists\\n\n",
        "                \"\"\"\n",
        "        df[\"PC\"] = df[\"close\"].shift(1)\n",
        "        df[\"DIF\"] = abs(df[\"close\"] - df[\"PC\"])\n",
        "\n",
        "        df[\"HC\"] = df[\"close\"].rolling(window=time_period).max()\n",
        "        df[\"LC\"] = df[\"close\"].rolling(window=time_period).min()\n",
        "\n",
        "        df[\"HC-LC\"] = abs(df[\"HC\"] - df[\"LC\"])\n",
        "\n",
        "        df[\"DIF\"] = df[\"DIF\"].rolling(window=time_period).sum()\n",
        "\n",
        "        df[\"VHF\"] = df[\"HC-LC\"] / df[\"DIF\"]\n",
        "\n",
        "        df = df.drop([\"PC\", \"DIF\", \"HC\", \"LC\", \"HC-LC\"], axis=1)\n",
        "\n",
        "        return df\n",
        "\n",
        "\n",
        "    @staticmethod\n",
        "    def trix_indicator(df: pd.DataFrame, time_period: int = 14):\n",
        "            \"\"\"\n",
        "            Get The expected indicator in a pandas dataframe.\n",
        "            Args:\n",
        "                df(pandas.DataFrame): pandas Dataframe with close values\\n\n",
        "                time_period(int): look back time period \\n\n",
        "            Returns:\n",
        "                pandas.DataFrame: new pandas dataframe adding Trix as new column, preserving the columns which already exists\\n\n",
        "            \"\"\"\n",
        "\n",
        "            df[\"EMA1\"] = df[\"close\"].ewm(span=time_period).mean()\n",
        "            df[\"EMA2\"] = df[\"EMA1\"].ewm(span=time_period).mean()\n",
        "            df[\"EMA3\"] = df[\"EMA2\"].ewm(span=time_period).mean()\n",
        "            df[\"EMA_prev\"] = df[\"EMA3\"].shift(1)\n",
        "\n",
        "            df[\"TRIX\"] = (df[\"EMA3\"] - df[\"EMA_prev\"]) / \\\n",
        "                         df[\"EMA_prev\"] * 100\n",
        "            df = df.drop([\"EMA1\", \"EMA2\", \"EMA3\", \"EMA_prev\"], axis=1)\n",
        "            return df\n",
        "\n",
        "    @staticmethod\n",
        "    def rocv_indicator(df: pd.DataFrame, time_period: int = 12):\n",
        "        \"\"\"\n",
        "           ROCV -> Rate of Change Volume\n",
        "           ROCV indicator is used to identify whether the price movement is confirmed by trading volume.\n",
        "            Links:\n",
        "               http://www.ta-guru.com/Book/TechnicalAnalysis/TechnicalIndicators/VolumeRateOfChange.php5\n",
        "               https://www.investopedia.com/articles/technical/02/091002.asp\n",
        "           \"\"\"\n",
        "\n",
        "        \"\"\"\n",
        "        Get The expected indicator in a pandas dataframe.\n",
        "        Args:\n",
        "            df(pandas.DataFrame): pandas Dataframe with volume values\\n\n",
        "            time_period(int): look back time period\\n\n",
        "        Returns:\n",
        "            pandas.DataFrame: new pandas dataframe adding ROCV as new column, preserving the columns which already exists\\n\n",
        "        \"\"\"\n",
        "        df[\"prev_volume\"] = df[\"Volume BTC\"].shift(time_period)\n",
        "        df[\"ROCV\"] = (df[\"Volume BTC\"] - df[\"prev_volume\"]\n",
        "                      ) / df[\"prev_volume\"] * 100\n",
        "        df = df.drop([\"prev_volume\"], axis=1)\n",
        "\n",
        "\n",
        "        return df"
      ],
      "execution_count": 3,
      "outputs": []
    },
    {
      "cell_type": "code",
      "metadata": {
        "colab": {
          "base_uri": "https://localhost:8080/",
          "height": 434
        },
        "id": "fqvhUKWILtpe",
        "outputId": "0e20bb7f-e8eb-4dfc-c0d3-3dcf90231911"
      },
      "source": [
        "#--------------------- Data Preprocessing --------------------#\n",
        "# Importing and scaling the data\n",
        "#dataset_train = pd.read_csv(\"Bitcoin_Stock_Price_Trainset.csv\")\n",
        "#dataset_train = pd.read_csv('https://github.com/danber93/bitcoin_price_prediction/blob/main/data/Google_Stock_Price_Trainset.csv', skiprows=1)\n",
        "dataset = pd.read_csv('https://github.com/ene610/DRL_finance/blob/main/data/Binance_BTCUSDT_minute.csv?raw=true', skiprows=1)\n",
        "dataset = dataset.iloc[::-1]\n",
        "print(dataset.shape)\n",
        "dataset"
      ],
      "execution_count": 4,
      "outputs": [
        {
          "output_type": "stream",
          "name": "stdout",
          "text": [
            "(330483, 10)\n"
          ]
        },
        {
          "output_type": "execute_result",
          "data": {
            "text/html": [
              "<div>\n",
              "<style scoped>\n",
              "    .dataframe tbody tr th:only-of-type {\n",
              "        vertical-align: middle;\n",
              "    }\n",
              "\n",
              "    .dataframe tbody tr th {\n",
              "        vertical-align: top;\n",
              "    }\n",
              "\n",
              "    .dataframe thead th {\n",
              "        text-align: right;\n",
              "    }\n",
              "</style>\n",
              "<table border=\"1\" class=\"dataframe\">\n",
              "  <thead>\n",
              "    <tr style=\"text-align: right;\">\n",
              "      <th></th>\n",
              "      <th>unix</th>\n",
              "      <th>date</th>\n",
              "      <th>symbol</th>\n",
              "      <th>open</th>\n",
              "      <th>high</th>\n",
              "      <th>low</th>\n",
              "      <th>close</th>\n",
              "      <th>Volume BTC</th>\n",
              "      <th>Volume USDT</th>\n",
              "      <th>tradecount</th>\n",
              "    </tr>\n",
              "  </thead>\n",
              "  <tbody>\n",
              "    <tr>\n",
              "      <th>330482</th>\n",
              "      <td>1599856800000</td>\n",
              "      <td>2020-09-11 20:40:00</td>\n",
              "      <td>BTC/USDT</td>\n",
              "      <td>10317.00</td>\n",
              "      <td>10317.01</td>\n",
              "      <td>10314.36</td>\n",
              "      <td>10316.00</td>\n",
              "      <td>32.997684</td>\n",
              "      <td>3.403985e+05</td>\n",
              "      <td>342</td>\n",
              "    </tr>\n",
              "    <tr>\n",
              "      <th>330481</th>\n",
              "      <td>1599856860000</td>\n",
              "      <td>2020-09-11 20:41:00</td>\n",
              "      <td>BTC/USDT</td>\n",
              "      <td>10316.00</td>\n",
              "      <td>10321.09</td>\n",
              "      <td>10316.00</td>\n",
              "      <td>10319.50</td>\n",
              "      <td>16.328427</td>\n",
              "      <td>1.684977e+05</td>\n",
              "      <td>256</td>\n",
              "    </tr>\n",
              "    <tr>\n",
              "      <th>330480</th>\n",
              "      <td>1599856920000</td>\n",
              "      <td>2020-09-11 20:42:00</td>\n",
              "      <td>BTC/USDT</td>\n",
              "      <td>10319.50</td>\n",
              "      <td>10320.31</td>\n",
              "      <td>10318.49</td>\n",
              "      <td>10319.34</td>\n",
              "      <td>12.123487</td>\n",
              "      <td>1.251089e+05</td>\n",
              "      <td>193</td>\n",
              "    </tr>\n",
              "    <tr>\n",
              "      <th>330479</th>\n",
              "      <td>1599856980000</td>\n",
              "      <td>2020-09-11 20:43:00</td>\n",
              "      <td>BTC/USDT</td>\n",
              "      <td>10319.34</td>\n",
              "      <td>10320.14</td>\n",
              "      <td>10318.89</td>\n",
              "      <td>10319.00</td>\n",
              "      <td>13.548103</td>\n",
              "      <td>1.398070e+05</td>\n",
              "      <td>187</td>\n",
              "    </tr>\n",
              "    <tr>\n",
              "      <th>330478</th>\n",
              "      <td>1599857040000</td>\n",
              "      <td>2020-09-11 20:44:00</td>\n",
              "      <td>BTC/USDT</td>\n",
              "      <td>10318.99</td>\n",
              "      <td>10319.72</td>\n",
              "      <td>10316.58</td>\n",
              "      <td>10319.47</td>\n",
              "      <td>14.466964</td>\n",
              "      <td>1.492667e+05</td>\n",
              "      <td>284</td>\n",
              "    </tr>\n",
              "    <tr>\n",
              "      <th>...</th>\n",
              "      <td>...</td>\n",
              "      <td>...</td>\n",
              "      <td>...</td>\n",
              "      <td>...</td>\n",
              "      <td>...</td>\n",
              "      <td>...</td>\n",
              "      <td>...</td>\n",
              "      <td>...</td>\n",
              "      <td>...</td>\n",
              "      <td>...</td>\n",
              "    </tr>\n",
              "    <tr>\n",
              "      <th>4</th>\n",
              "      <td>1619742660000</td>\n",
              "      <td>2021-04-30 00:31:00</td>\n",
              "      <td>BTC/USDT</td>\n",
              "      <td>53745.99</td>\n",
              "      <td>53816.36</td>\n",
              "      <td>53700.00</td>\n",
              "      <td>53780.39</td>\n",
              "      <td>169.848725</td>\n",
              "      <td>9.132947e+06</td>\n",
              "      <td>2568</td>\n",
              "    </tr>\n",
              "    <tr>\n",
              "      <th>3</th>\n",
              "      <td>1619742720000</td>\n",
              "      <td>2021-04-30 00:32:00</td>\n",
              "      <td>BTC/USDT</td>\n",
              "      <td>53780.39</td>\n",
              "      <td>53784.04</td>\n",
              "      <td>53674.52</td>\n",
              "      <td>53674.53</td>\n",
              "      <td>53.895245</td>\n",
              "      <td>2.895554e+06</td>\n",
              "      <td>1595</td>\n",
              "    </tr>\n",
              "    <tr>\n",
              "      <th>2</th>\n",
              "      <td>1619742780000</td>\n",
              "      <td>2021-04-30 00:33:00</td>\n",
              "      <td>BTC/USDT</td>\n",
              "      <td>53674.53</td>\n",
              "      <td>53691.13</td>\n",
              "      <td>53615.98</td>\n",
              "      <td>53677.39</td>\n",
              "      <td>81.940577</td>\n",
              "      <td>4.396348e+06</td>\n",
              "      <td>1621</td>\n",
              "    </tr>\n",
              "    <tr>\n",
              "      <th>1</th>\n",
              "      <td>1619742840000</td>\n",
              "      <td>2021-04-30 00:34:00</td>\n",
              "      <td>BTC/USDT</td>\n",
              "      <td>53677.39</td>\n",
              "      <td>53722.40</td>\n",
              "      <td>53564.00</td>\n",
              "      <td>53580.98</td>\n",
              "      <td>89.941874</td>\n",
              "      <td>4.823830e+06</td>\n",
              "      <td>1777</td>\n",
              "    </tr>\n",
              "    <tr>\n",
              "      <th>0</th>\n",
              "      <td>1619742900000</td>\n",
              "      <td>2021-04-30 00:35:00</td>\n",
              "      <td>BTC/USDT</td>\n",
              "      <td>53580.98</td>\n",
              "      <td>53604.23</td>\n",
              "      <td>53518.93</td>\n",
              "      <td>53529.89</td>\n",
              "      <td>35.290715</td>\n",
              "      <td>1.890619e+06</td>\n",
              "      <td>996</td>\n",
              "    </tr>\n",
              "  </tbody>\n",
              "</table>\n",
              "<p>330483 rows × 10 columns</p>\n",
              "</div>"
            ],
            "text/plain": [
              "                 unix                 date  ...   Volume USDT  tradecount\n",
              "330482  1599856800000  2020-09-11 20:40:00  ...  3.403985e+05         342\n",
              "330481  1599856860000  2020-09-11 20:41:00  ...  1.684977e+05         256\n",
              "330480  1599856920000  2020-09-11 20:42:00  ...  1.251089e+05         193\n",
              "330479  1599856980000  2020-09-11 20:43:00  ...  1.398070e+05         187\n",
              "330478  1599857040000  2020-09-11 20:44:00  ...  1.492667e+05         284\n",
              "...               ...                  ...  ...           ...         ...\n",
              "4       1619742660000  2021-04-30 00:31:00  ...  9.132947e+06        2568\n",
              "3       1619742720000  2021-04-30 00:32:00  ...  2.895554e+06        1595\n",
              "2       1619742780000  2021-04-30 00:33:00  ...  4.396348e+06        1621\n",
              "1       1619742840000  2021-04-30 00:34:00  ...  4.823830e+06        1777\n",
              "0       1619742900000  2021-04-30 00:35:00  ...  1.890619e+06         996\n",
              "\n",
              "[330483 rows x 10 columns]"
            ]
          },
          "metadata": {},
          "execution_count": 4
        }
      ]
    },
    {
      "cell_type": "code",
      "metadata": {
        "colab": {
          "base_uri": "https://localhost:8080/"
        },
        "id": "acGpcXyBrxYx",
        "outputId": "694537ac-d9b3-455b-d979-9a56c155e1ef"
      },
      "source": [
        "# Building features\n",
        "dataset['diff_pct_1'] = ((dataset['close'] / np.roll(dataset['close'], shift=(int(1)))) * 100) - 100\n",
        "dataset['diff_pct_5'] = ((dataset['close'] / np.roll(dataset['close'], shift=(int(5)))) * 100) - 100\n",
        "dataset['diff_pct_15'] = ((dataset['close'] / np.roll(dataset['close'], shift=(int(15)))) * 100) - 100\n",
        "dataset['diff_pct_22'] = ((dataset['close'] / np.roll(dataset['close'], shift=(int(22)))) * 100) - 100\n",
        "\n",
        "indicators = Indicators()\n",
        "\n",
        "dataset = indicators.sma_indicator(dataset)\n",
        "dataset = indicators.macd_indicator(dataset)\n",
        "dataset = indicators.atr_indicator(dataset)\n",
        "dataset = indicators.kc_indicator(dataset)\n",
        "dataset = indicators.ema_indicator(dataset)\n",
        "dataset = indicators.rsi_indicator(dataset)\n",
        "dataset = indicators.rocv_indicator(dataset)\n",
        "dataset = indicators.trix_indicator(dataset)\n",
        "dataset = indicators.vhf_indicator(dataset)\n",
        "dataset = indicators.mom_indicator(dataset)\n",
        "\n",
        "print(dataset.columns)\n",
        "print(dataset)"
      ],
      "execution_count": 5,
      "outputs": [
        {
          "output_type": "stream",
          "name": "stderr",
          "text": [
            "/usr/local/lib/python3.7/dist-packages/pandas/core/indexing.py:670: SettingWithCopyWarning: \n",
            "A value is trying to be set on a copy of a slice from a DataFrame\n",
            "\n",
            "See the caveats in the documentation: https://pandas.pydata.org/pandas-docs/stable/user_guide/indexing.html#returning-a-view-versus-a-copy\n",
            "  iloc._setitem_with_indexer(indexer, value)\n"
          ]
        },
        {
          "output_type": "stream",
          "name": "stdout",
          "text": [
            "Index(['unix', 'date', 'symbol', 'open', 'high', 'low', 'close', 'Volume BTC',\n",
            "       'Volume USDT', 'tradecount', 'diff_pct_1', 'diff_pct_5', 'diff_pct_15',\n",
            "       'diff_pct_22', 'SMA', 'MACD', 'MACD_signal_line', 'kc_middle',\n",
            "       'kc_upper', 'kc_lower', 'EMA', 'RSI', 'ROCV', 'TRIX', 'VHF',\n",
            "       'close_prev', 'MOM'],\n",
            "      dtype='object')\n",
            "                 unix                 date  ... close_prev     MOM\n",
            "330482  1599856800000  2020-09-11 20:40:00  ...        NaN     NaN\n",
            "330481  1599856860000  2020-09-11 20:41:00  ...   10316.00    3.50\n",
            "330480  1599856920000  2020-09-11 20:42:00  ...   10319.50   -0.16\n",
            "330479  1599856980000  2020-09-11 20:43:00  ...   10319.34   -0.34\n",
            "330478  1599857040000  2020-09-11 20:44:00  ...   10319.00    0.47\n",
            "...               ...                  ...  ...        ...     ...\n",
            "4       1619742660000  2021-04-30 00:31:00  ...   53746.00   34.39\n",
            "3       1619742720000  2021-04-30 00:32:00  ...   53780.39 -105.86\n",
            "2       1619742780000  2021-04-30 00:33:00  ...   53674.53    2.86\n",
            "1       1619742840000  2021-04-30 00:34:00  ...   53677.39  -96.41\n",
            "0       1619742900000  2021-04-30 00:35:00  ...   53580.98  -51.09\n",
            "\n",
            "[330483 rows x 27 columns]\n"
          ]
        }
      ]
    },
    {
      "cell_type": "code",
      "metadata": {
        "colab": {
          "base_uri": "https://localhost:8080/"
        },
        "id": "3pFPzw3TcfAy",
        "outputId": "83808fc5-8ec1-4d4d-97e0-2fb20faea377"
      },
      "source": [
        "# Drop useless columns\n",
        "\n",
        "print(dataset.columns)\n",
        "dataset = dataset.drop(['unix', 'date', 'symbol'], axis=1)\n",
        "print(dataset)"
      ],
      "execution_count": 6,
      "outputs": [
        {
          "output_type": "stream",
          "name": "stdout",
          "text": [
            "Index(['unix', 'date', 'symbol', 'open', 'high', 'low', 'close', 'Volume BTC',\n",
            "       'Volume USDT', 'tradecount', 'diff_pct_1', 'diff_pct_5', 'diff_pct_15',\n",
            "       'diff_pct_22', 'SMA', 'MACD', 'MACD_signal_line', 'kc_middle',\n",
            "       'kc_upper', 'kc_lower', 'EMA', 'RSI', 'ROCV', 'TRIX', 'VHF',\n",
            "       'close_prev', 'MOM'],\n",
            "      dtype='object')\n",
            "            open      high       low  ...       VHF  close_prev     MOM\n",
            "330482  10317.00  10317.01  10314.36  ...       NaN         NaN     NaN\n",
            "330481  10316.00  10321.09  10316.00  ...       NaN    10316.00    3.50\n",
            "330480  10319.50  10320.31  10318.49  ...       NaN    10319.50   -0.16\n",
            "330479  10319.34  10320.14  10318.89  ...       NaN    10319.34   -0.34\n",
            "330478  10318.99  10319.72  10316.58  ...       NaN    10319.00    0.47\n",
            "...          ...       ...       ...  ...       ...         ...     ...\n",
            "4       53745.99  53816.36  53700.00  ...  0.392609    53746.00   34.39\n",
            "3       53780.39  53784.04  53674.52  ...  0.371109    53780.39 -105.86\n",
            "2       53674.53  53691.13  53615.98  ...  0.386095    53674.53    2.86\n",
            "1       53677.39  53722.40  53564.00  ...  0.383582    53677.39  -96.41\n",
            "0       53580.98  53604.23  53518.93  ...  0.384655    53580.98  -51.09\n",
            "\n",
            "[330483 rows x 24 columns]\n"
          ]
        }
      ]
    },
    {
      "cell_type": "code",
      "metadata": {
        "colab": {
          "base_uri": "https://localhost:8080/"
        },
        "id": "BL07_m50bJTS",
        "outputId": "113da869-c137-4ced-fabd-7fe87a66e265"
      },
      "source": [
        "# Select last  5k rows\n",
        "dataset = dataset.tail(5000)\n",
        "\n",
        "# Split into train and test dataset\n",
        "dataset_train, dataset_test = dataset[1:4936], dataset[4935:]\n",
        "print(dataset_train.shape)\n",
        "print(dataset_test.shape)\n",
        "dataset_train = pd.DataFrame(dataset_train)\n",
        "dataset_test = pd.DataFrame(dataset_test)"
      ],
      "execution_count": 7,
      "outputs": [
        {
          "output_type": "stream",
          "name": "stdout",
          "text": [
            "(4935, 24)\n",
            "(65, 24)\n"
          ]
        }
      ]
    },
    {
      "cell_type": "code",
      "metadata": {
        "id": "YYkDFNa7cHH2"
      },
      "source": [
        "# Function to build X_train, X_test, y_train and y_test in the shape [n_samples, n_timesteps, n_features]\n",
        "\n",
        "def split_series(series, n_past, n_future):\n",
        "  #\n",
        "  # n_past ==> no of past observations\n",
        "  #\n",
        "  # n_future ==> no of future observations \n",
        "  #\n",
        "  X, y = list(), list()\n",
        "  print(range(len(series)))\n",
        "  for window_start in range(len(series)):\n",
        "    past_end = window_start + n_past\n",
        "    future_end = past_end + n_future\n",
        "    if future_end > len(series):\n",
        "      break\n",
        "    # slicing the past and future parts of the window\n",
        "    past, future = series[window_start:past_end, :], series[past_end:future_end, :]\n",
        "    X.append(past)\n",
        "    y.append(future)\n",
        "  return np.array(X), np.array(y)"
      ],
      "execution_count": 8,
      "outputs": []
    },
    {
      "cell_type": "code",
      "metadata": {
        "id": "1L-1A-ztcI0X"
      },
      "source": [
        "n_past = 50\n",
        "n_future = 15\n",
        "n_features = 4\n",
        "n_features_y = 24"
      ],
      "execution_count": 9,
      "outputs": []
    },
    {
      "cell_type": "code",
      "metadata": {
        "colab": {
          "base_uri": "https://localhost:8080/"
        },
        "id": "av49aKbBcBtr",
        "outputId": "1f0dba41-8db2-412c-b5fe-93b22eebf605"
      },
      "source": [
        "# Produce y_train and y_test (which will use only some normalized columns -close or diff_pct_15 features)\n",
        "\n",
        "train = dataset_train\n",
        "scalers_y={}\n",
        "for i in dataset_train.columns:\n",
        "    scaler = MinMaxScaler(feature_range=(-1,1))\n",
        "    s_s = scaler.fit_transform(train[i].values.reshape(-1,1))\n",
        "    s_s=np.reshape(s_s,len(s_s))\n",
        "    scalers_y['scaler_'+ str(i)] = scaler\n",
        "    train[i]=s_s\n",
        "test = dataset_test\n",
        "for i in dataset_test.columns:\n",
        "    scaler = scalers_y['scaler_'+ str(i)]\n",
        "    s_s = scaler.transform(test[i].values.reshape(-1,1))\n",
        "    s_s=np.reshape(s_s,len(s_s))\n",
        "    scalers_y['scaler_'+ str(i)] = scaler\n",
        "    test[i]=s_s\n",
        "print(test.shape)"
      ],
      "execution_count": 10,
      "outputs": [
        {
          "output_type": "stream",
          "name": "stdout",
          "text": [
            "(65, 24)\n"
          ]
        }
      ]
    },
    {
      "cell_type": "code",
      "metadata": {
        "colab": {
          "base_uri": "https://localhost:8080/"
        },
        "id": "W1x8H-UDc8EL",
        "outputId": "0ba009cd-fa21-4492-dd44-a89238a3eb65"
      },
      "source": [
        "_, y_train = split_series(train.values,n_past, n_future)\n",
        "#X_train = X_train.reshape((X_train.shape[0], X_train.shape[1],n_features))\n",
        "y_train = y_train.reshape((y_train.shape[0], y_train.shape[1], n_features_y))\n",
        "_, y_test = split_series(test.values, n_past, n_future)\n",
        "#X_test = X_test.reshape((X_test.shape[0], X_test.shape[1],n_features))\n",
        "y_test = y_test.reshape((y_test.shape[0], y_test.shape[1], n_features_y))\n",
        "\n",
        "print(y_train.shape)\n",
        "print(y_test.shape)"
      ],
      "execution_count": 11,
      "outputs": [
        {
          "output_type": "stream",
          "name": "stdout",
          "text": [
            "range(0, 4935)\n",
            "range(0, 65)\n",
            "(4871, 15, 24)\n",
            "(1, 15, 24)\n"
          ]
        }
      ]
    },
    {
      "cell_type": "code",
      "metadata": {
        "colab": {
          "base_uri": "https://localhost:8080/"
        },
        "id": "_B4L-wInnGUr",
        "outputId": "7ded972f-727a-4cdd-cc93-ef65832022a0"
      },
      "source": [
        "# Select only diff_pct_15 feature from y_train and y_test\n",
        "\n",
        "y_train = y_train[:, :, 9:10]\n",
        "y_test = y_test[:, :, 9:10]\n",
        "\n",
        "print(y_train.shape)\n",
        "print(y_test.shape)"
      ],
      "execution_count": 12,
      "outputs": [
        {
          "output_type": "stream",
          "name": "stdout",
          "text": [
            "(4871, 15, 1)\n",
            "(1, 15, 1)\n"
          ]
        }
      ]
    },
    {
      "cell_type": "code",
      "metadata": {
        "id": "JRXtrW2okZwQ",
        "colab": {
          "base_uri": "https://localhost:8080/"
        },
        "outputId": "26342c18-b9e1-4495-a34f-136f9589f445"
      },
      "source": [
        "# PCA to produce X_train and X_test\n",
        "from sklearn.decomposition import PCA\n",
        "\n",
        "# Normalitazion\n",
        "train_norm = dataset_train\n",
        "scalers_X={}\n",
        "for i in dataset_train.columns:\n",
        "    scaler = MinMaxScaler(feature_range=(-1,1))\n",
        "    s_s = scaler.fit_transform(train_norm[i].values.reshape(-1,1))\n",
        "    s_s=np.reshape(s_s,len(s_s))\n",
        "    scalers_X['scaler_'+ str(i)] = scaler\n",
        "    train_norm[i]=s_s\n",
        "test_norm = dataset_test\n",
        "for i in dataset_test.columns:\n",
        "    scaler = scalers_X['scaler_'+ str(i)]\n",
        "    s_s = scaler.transform(test_norm[i].values.reshape(-1,1))\n",
        "    s_s=np.reshape(s_s,len(s_s))\n",
        "    scalers_X['scaler_'+ str(i)] = scaler\n",
        "    test_norm[i]=s_s\n",
        "\n",
        "#PCA\n",
        "pca = PCA(n_components = 4)\n",
        "\n",
        "train_pca = pca.fit_transform(train_norm)\n",
        "test_pca = pca.transform(test_norm)\n",
        "\n",
        "explained_variance = pca.explained_variance_ratio_\n",
        "print(\"explained_variance\", explained_variance)\n",
        "print(\"explained_variance.sum()\", explained_variance.sum())\n",
        "\n",
        "#Split between X_train, X_test, y_train, y_test (discard y_train and y_test)\n",
        "X_train, _ = split_series(train_pca,n_past, n_future)\n",
        "X_train = X_train.reshape((X_train.shape[0], X_train.shape[1],n_features))\n",
        "X_test, _ = split_series(test_pca, n_past, n_future)\n",
        "X_test = X_test.reshape((X_test.shape[0], X_test.shape[1],n_features))\n",
        "\n",
        "print(\"X_train.shape\", X_train.shape)\n",
        "print(\"X_test.shape\", X_test.shape)"
      ],
      "execution_count": 13,
      "outputs": [
        {
          "output_type": "stream",
          "name": "stdout",
          "text": [
            "explained_variance [0.5094112  0.20183035 0.09950163 0.05621052]\n",
            "explained_variance.sum() 0.86695370023263\n",
            "range(0, 4935)\n",
            "range(0, 65)\n",
            "X_train.shape (4871, 50, 4)\n",
            "X_test.shape (1, 50, 4)\n"
          ]
        }
      ]
    },
    {
      "cell_type": "code",
      "metadata": {
        "colab": {
          "base_uri": "https://localhost:8080/"
        },
        "id": "jEHnUMN-dA_q",
        "outputId": "0f0232ff-e2e4-47e1-9b0b-967aa90fa133"
      },
      "source": [
        "# Encoder Decoder LSTM\n",
        "# n_features ==> no of features at each timestep in the data.\n",
        "#\n",
        "encoder_inputs = tf.keras.layers.Input(shape=(n_past, n_features))\n",
        "encoder_l1 = tf.keras.layers.LSTM(100, return_state=True)\n",
        "encoder_outputs1 = encoder_l1(encoder_inputs)\n",
        "\n",
        "encoder_states1 = encoder_outputs1[1:]\n",
        "\n",
        "#\n",
        "decoder_inputs = tf.keras.layers.RepeatVector(n_future)(encoder_outputs1[0])\n",
        "\n",
        "#\n",
        "decoder_l1 = tf.keras.layers.LSTM(100, return_sequences=True)(decoder_inputs,initial_state = encoder_states1)\n",
        "decoder_outputs1 = tf.keras.layers.TimeDistributed(tf.keras.layers.Dense(y_test.shape[2]))(decoder_l1)\n",
        "\n",
        "#\n",
        "model= tf.keras.models.Model(encoder_inputs,decoder_outputs1)\n",
        "\n",
        "#\n",
        "model.summary()"
      ],
      "execution_count": 14,
      "outputs": [
        {
          "output_type": "stream",
          "name": "stdout",
          "text": [
            "Model: \"model\"\n",
            "__________________________________________________________________________________________________\n",
            "Layer (type)                    Output Shape         Param #     Connected to                     \n",
            "==================================================================================================\n",
            "input_1 (InputLayer)            [(None, 50, 4)]      0                                            \n",
            "__________________________________________________________________________________________________\n",
            "lstm (LSTM)                     [(None, 100), (None, 42000       input_1[0][0]                    \n",
            "__________________________________________________________________________________________________\n",
            "repeat_vector (RepeatVector)    (None, 15, 100)      0           lstm[0][0]                       \n",
            "__________________________________________________________________________________________________\n",
            "lstm_1 (LSTM)                   (None, 15, 100)      80400       repeat_vector[0][0]              \n",
            "                                                                 lstm[0][1]                       \n",
            "                                                                 lstm[0][2]                       \n",
            "__________________________________________________________________________________________________\n",
            "time_distributed (TimeDistribut (None, 15, 1)        101         lstm_1[0][0]                     \n",
            "==================================================================================================\n",
            "Total params: 122,501\n",
            "Trainable params: 122,501\n",
            "Non-trainable params: 0\n",
            "__________________________________________________________________________________________________\n"
          ]
        }
      ]
    },
    {
      "cell_type": "code",
      "metadata": {
        "colab": {
          "base_uri": "https://localhost:8080/"
        },
        "id": "eNTzc4MfYVfB",
        "outputId": "50779373-ea2d-4b66-e962-fcb1fe9820b8"
      },
      "source": [
        "filepath = '/content/checkpoint/model{epoch:d}'\n",
        "checkpoint = tf.keras.callbacks.ModelCheckpoint(\n",
        "    filepath=filepath,\n",
        "    period = 5)"
      ],
      "execution_count": 15,
      "outputs": [
        {
          "output_type": "stream",
          "name": "stdout",
          "text": [
            "WARNING:tensorflow:`period` argument is deprecated. Please use `save_freq` to specify the frequency in number of batches seen.\n"
          ]
        }
      ]
    },
    {
      "cell_type": "code",
      "metadata": {
        "colab": {
          "base_uri": "https://localhost:8080/"
        },
        "id": "MqQKknaidHzT",
        "outputId": "f1dbf451-e6e9-4ae3-840c-f1e156168e54"
      },
      "source": [
        "reduce_lr = tf.keras.callbacks.LearningRateScheduler(lambda x: 1e-3 * 0.90 ** x)\n",
        "model.compile(optimizer=tf.keras.optimizers.Adam(), loss=tf.keras.losses.Huber())\n",
        "history=model.fit(X_train,y_train,epochs=85,validation_data=(X_test,y_test),batch_size=32,verbose=1,callbacks=[checkpoint, reduce_lr])"
      ],
      "execution_count": 16,
      "outputs": [
        {
          "output_type": "stream",
          "name": "stdout",
          "text": [
            "Epoch 1/85\n",
            "153/153 [==============================] - 13s 61ms/step - loss: 0.0050 - val_loss: 0.0149\n",
            "Epoch 2/85\n",
            "153/153 [==============================] - 8s 55ms/step - loss: 0.0045 - val_loss: 0.0179\n",
            "Epoch 3/85\n",
            "153/153 [==============================] - 8s 52ms/step - loss: 0.0043 - val_loss: 0.0177\n",
            "Epoch 4/85\n",
            "153/153 [==============================] - 8s 52ms/step - loss: 0.0041 - val_loss: 0.0160\n",
            "Epoch 5/85\n",
            "153/153 [==============================] - 8s 51ms/step - loss: 0.0040 - val_loss: 0.0200\n"
          ]
        },
        {
          "output_type": "stream",
          "name": "stderr",
          "text": [
            "WARNING:absl:Found untraced functions such as lstm_cell_layer_call_fn, lstm_cell_layer_call_and_return_conditional_losses, lstm_cell_1_layer_call_fn, lstm_cell_1_layer_call_and_return_conditional_losses, lstm_cell_layer_call_fn while saving (showing 5 of 10). These functions will not be directly callable after loading.\n"
          ]
        },
        {
          "output_type": "stream",
          "name": "stdout",
          "text": [
            "INFO:tensorflow:Assets written to: /content/checkpoint/model5/assets\n"
          ]
        },
        {
          "output_type": "stream",
          "name": "stderr",
          "text": [
            "INFO:tensorflow:Assets written to: /content/checkpoint/model5/assets\n"
          ]
        },
        {
          "output_type": "stream",
          "name": "stdout",
          "text": [
            "Epoch 6/85\n",
            "153/153 [==============================] - 8s 55ms/step - loss: 0.0040 - val_loss: 0.0172\n",
            "Epoch 7/85\n",
            "153/153 [==============================] - 9s 57ms/step - loss: 0.0039 - val_loss: 0.0203\n",
            "Epoch 8/85\n",
            "153/153 [==============================] - 9s 57ms/step - loss: 0.0039 - val_loss: 0.0202\n",
            "Epoch 9/85\n",
            "153/153 [==============================] - 9s 57ms/step - loss: 0.0039 - val_loss: 0.0202\n",
            "Epoch 10/85\n",
            "153/153 [==============================] - 9s 59ms/step - loss: 0.0039 - val_loss: 0.0188\n"
          ]
        },
        {
          "output_type": "stream",
          "name": "stderr",
          "text": [
            "WARNING:absl:Found untraced functions such as lstm_cell_layer_call_fn, lstm_cell_layer_call_and_return_conditional_losses, lstm_cell_1_layer_call_fn, lstm_cell_1_layer_call_and_return_conditional_losses, lstm_cell_layer_call_fn while saving (showing 5 of 10). These functions will not be directly callable after loading.\n"
          ]
        },
        {
          "output_type": "stream",
          "name": "stdout",
          "text": [
            "INFO:tensorflow:Assets written to: /content/checkpoint/model10/assets\n"
          ]
        },
        {
          "output_type": "stream",
          "name": "stderr",
          "text": [
            "INFO:tensorflow:Assets written to: /content/checkpoint/model10/assets\n"
          ]
        },
        {
          "output_type": "stream",
          "name": "stdout",
          "text": [
            "Epoch 11/85\n",
            "153/153 [==============================] - 9s 58ms/step - loss: 0.0038 - val_loss: 0.0220\n",
            "Epoch 12/85\n",
            "153/153 [==============================] - 9s 57ms/step - loss: 0.0038 - val_loss: 0.0192\n",
            "Epoch 13/85\n",
            "153/153 [==============================] - 9s 58ms/step - loss: 0.0037 - val_loss: 0.0190\n",
            "Epoch 14/85\n",
            "153/153 [==============================] - 9s 57ms/step - loss: 0.0037 - val_loss: 0.0165\n",
            "Epoch 15/85\n",
            "153/153 [==============================] - 9s 56ms/step - loss: 0.0037 - val_loss: 0.0160\n"
          ]
        },
        {
          "output_type": "stream",
          "name": "stderr",
          "text": [
            "WARNING:absl:Found untraced functions such as lstm_cell_layer_call_fn, lstm_cell_layer_call_and_return_conditional_losses, lstm_cell_1_layer_call_fn, lstm_cell_1_layer_call_and_return_conditional_losses, lstm_cell_layer_call_fn while saving (showing 5 of 10). These functions will not be directly callable after loading.\n"
          ]
        },
        {
          "output_type": "stream",
          "name": "stdout",
          "text": [
            "INFO:tensorflow:Assets written to: /content/checkpoint/model15/assets\n"
          ]
        },
        {
          "output_type": "stream",
          "name": "stderr",
          "text": [
            "INFO:tensorflow:Assets written to: /content/checkpoint/model15/assets\n"
          ]
        },
        {
          "output_type": "stream",
          "name": "stdout",
          "text": [
            "Epoch 16/85\n",
            "153/153 [==============================] - 9s 59ms/step - loss: 0.0037 - val_loss: 0.0177\n",
            "Epoch 17/85\n",
            "153/153 [==============================] - 9s 57ms/step - loss: 0.0037 - val_loss: 0.0170\n",
            "Epoch 18/85\n",
            "153/153 [==============================] - 9s 58ms/step - loss: 0.0036 - val_loss: 0.0188\n",
            "Epoch 19/85\n",
            "153/153 [==============================] - 9s 60ms/step - loss: 0.0036 - val_loss: 0.0179\n",
            "Epoch 20/85\n",
            "153/153 [==============================] - 10s 64ms/step - loss: 0.0036 - val_loss: 0.0201\n"
          ]
        },
        {
          "output_type": "stream",
          "name": "stderr",
          "text": [
            "WARNING:absl:Found untraced functions such as lstm_cell_layer_call_fn, lstm_cell_layer_call_and_return_conditional_losses, lstm_cell_1_layer_call_fn, lstm_cell_1_layer_call_and_return_conditional_losses, lstm_cell_layer_call_fn while saving (showing 5 of 10). These functions will not be directly callable after loading.\n"
          ]
        },
        {
          "output_type": "stream",
          "name": "stdout",
          "text": [
            "INFO:tensorflow:Assets written to: /content/checkpoint/model20/assets\n"
          ]
        },
        {
          "output_type": "stream",
          "name": "stderr",
          "text": [
            "INFO:tensorflow:Assets written to: /content/checkpoint/model20/assets\n"
          ]
        },
        {
          "output_type": "stream",
          "name": "stdout",
          "text": [
            "Epoch 21/85\n",
            "153/153 [==============================] - 9s 58ms/step - loss: 0.0035 - val_loss: 0.0193\n",
            "Epoch 22/85\n",
            "153/153 [==============================] - 9s 57ms/step - loss: 0.0035 - val_loss: 0.0201\n",
            "Epoch 23/85\n",
            "153/153 [==============================] - 8s 55ms/step - loss: 0.0035 - val_loss: 0.0206\n",
            "Epoch 24/85\n",
            "153/153 [==============================] - 9s 56ms/step - loss: 0.0034 - val_loss: 0.0243\n",
            "Epoch 25/85\n",
            "153/153 [==============================] - 9s 57ms/step - loss: 0.0034 - val_loss: 0.0220\n"
          ]
        },
        {
          "output_type": "stream",
          "name": "stderr",
          "text": [
            "WARNING:absl:Found untraced functions such as lstm_cell_layer_call_fn, lstm_cell_layer_call_and_return_conditional_losses, lstm_cell_1_layer_call_fn, lstm_cell_1_layer_call_and_return_conditional_losses, lstm_cell_layer_call_fn while saving (showing 5 of 10). These functions will not be directly callable after loading.\n"
          ]
        },
        {
          "output_type": "stream",
          "name": "stdout",
          "text": [
            "INFO:tensorflow:Assets written to: /content/checkpoint/model25/assets\n"
          ]
        },
        {
          "output_type": "stream",
          "name": "stderr",
          "text": [
            "INFO:tensorflow:Assets written to: /content/checkpoint/model25/assets\n"
          ]
        },
        {
          "output_type": "stream",
          "name": "stdout",
          "text": [
            "Epoch 26/85\n",
            "153/153 [==============================] - 10s 67ms/step - loss: 0.0033 - val_loss: 0.0234\n",
            "Epoch 27/85\n",
            "153/153 [==============================] - 9s 58ms/step - loss: 0.0033 - val_loss: 0.0224\n",
            "Epoch 28/85\n",
            "153/153 [==============================] - 9s 57ms/step - loss: 0.0033 - val_loss: 0.0230\n",
            "Epoch 29/85\n",
            "153/153 [==============================] - 9s 57ms/step - loss: 0.0033 - val_loss: 0.0227\n",
            "Epoch 30/85\n",
            "153/153 [==============================] - 9s 57ms/step - loss: 0.0032 - val_loss: 0.0246\n"
          ]
        },
        {
          "output_type": "stream",
          "name": "stderr",
          "text": [
            "WARNING:absl:Found untraced functions such as lstm_cell_layer_call_fn, lstm_cell_layer_call_and_return_conditional_losses, lstm_cell_1_layer_call_fn, lstm_cell_1_layer_call_and_return_conditional_losses, lstm_cell_layer_call_fn while saving (showing 5 of 10). These functions will not be directly callable after loading.\n"
          ]
        },
        {
          "output_type": "stream",
          "name": "stdout",
          "text": [
            "INFO:tensorflow:Assets written to: /content/checkpoint/model30/assets\n"
          ]
        },
        {
          "output_type": "stream",
          "name": "stderr",
          "text": [
            "INFO:tensorflow:Assets written to: /content/checkpoint/model30/assets\n"
          ]
        },
        {
          "output_type": "stream",
          "name": "stdout",
          "text": [
            "Epoch 31/85\n",
            "153/153 [==============================] - 9s 58ms/step - loss: 0.0032 - val_loss: 0.0229\n",
            "Epoch 32/85\n",
            "153/153 [==============================] - 9s 58ms/step - loss: 0.0032 - val_loss: 0.0236\n",
            "Epoch 33/85\n",
            "153/153 [==============================] - 9s 60ms/step - loss: 0.0032 - val_loss: 0.0238\n",
            "Epoch 34/85\n",
            "153/153 [==============================] - 9s 58ms/step - loss: 0.0032 - val_loss: 0.0232\n",
            "Epoch 35/85\n",
            "153/153 [==============================] - 9s 58ms/step - loss: 0.0032 - val_loss: 0.0230\n"
          ]
        },
        {
          "output_type": "stream",
          "name": "stderr",
          "text": [
            "WARNING:absl:Found untraced functions such as lstm_cell_layer_call_fn, lstm_cell_layer_call_and_return_conditional_losses, lstm_cell_1_layer_call_fn, lstm_cell_1_layer_call_and_return_conditional_losses, lstm_cell_layer_call_fn while saving (showing 5 of 10). These functions will not be directly callable after loading.\n"
          ]
        },
        {
          "output_type": "stream",
          "name": "stdout",
          "text": [
            "INFO:tensorflow:Assets written to: /content/checkpoint/model35/assets\n"
          ]
        },
        {
          "output_type": "stream",
          "name": "stderr",
          "text": [
            "INFO:tensorflow:Assets written to: /content/checkpoint/model35/assets\n"
          ]
        },
        {
          "output_type": "stream",
          "name": "stdout",
          "text": [
            "Epoch 36/85\n",
            "153/153 [==============================] - 9s 58ms/step - loss: 0.0032 - val_loss: 0.0226\n",
            "Epoch 37/85\n",
            "153/153 [==============================] - 9s 57ms/step - loss: 0.0032 - val_loss: 0.0225\n",
            "Epoch 38/85\n",
            "153/153 [==============================] - 9s 57ms/step - loss: 0.0032 - val_loss: 0.0227\n",
            "Epoch 39/85\n",
            "153/153 [==============================] - 9s 58ms/step - loss: 0.0032 - val_loss: 0.0229\n",
            "Epoch 40/85\n",
            "153/153 [==============================] - 9s 57ms/step - loss: 0.0032 - val_loss: 0.0226\n"
          ]
        },
        {
          "output_type": "stream",
          "name": "stderr",
          "text": [
            "WARNING:absl:Found untraced functions such as lstm_cell_layer_call_fn, lstm_cell_layer_call_and_return_conditional_losses, lstm_cell_1_layer_call_fn, lstm_cell_1_layer_call_and_return_conditional_losses, lstm_cell_layer_call_fn while saving (showing 5 of 10). These functions will not be directly callable after loading.\n"
          ]
        },
        {
          "output_type": "stream",
          "name": "stdout",
          "text": [
            "INFO:tensorflow:Assets written to: /content/checkpoint/model40/assets\n"
          ]
        },
        {
          "output_type": "stream",
          "name": "stderr",
          "text": [
            "INFO:tensorflow:Assets written to: /content/checkpoint/model40/assets\n"
          ]
        },
        {
          "output_type": "stream",
          "name": "stdout",
          "text": [
            "Epoch 41/85\n",
            "153/153 [==============================] - 9s 58ms/step - loss: 0.0032 - val_loss: 0.0225\n",
            "Epoch 42/85\n",
            "153/153 [==============================] - 9s 59ms/step - loss: 0.0032 - val_loss: 0.0224\n",
            "Epoch 43/85\n",
            "153/153 [==============================] - 9s 60ms/step - loss: 0.0032 - val_loss: 0.0227\n",
            "Epoch 44/85\n",
            "153/153 [==============================] - 9s 60ms/step - loss: 0.0032 - val_loss: 0.0228\n",
            "Epoch 45/85\n",
            "153/153 [==============================] - 9s 62ms/step - loss: 0.0032 - val_loss: 0.0225\n"
          ]
        },
        {
          "output_type": "stream",
          "name": "stderr",
          "text": [
            "WARNING:absl:Found untraced functions such as lstm_cell_layer_call_fn, lstm_cell_layer_call_and_return_conditional_losses, lstm_cell_1_layer_call_fn, lstm_cell_1_layer_call_and_return_conditional_losses, lstm_cell_layer_call_fn while saving (showing 5 of 10). These functions will not be directly callable after loading.\n"
          ]
        },
        {
          "output_type": "stream",
          "name": "stdout",
          "text": [
            "INFO:tensorflow:Assets written to: /content/checkpoint/model45/assets\n"
          ]
        },
        {
          "output_type": "stream",
          "name": "stderr",
          "text": [
            "INFO:tensorflow:Assets written to: /content/checkpoint/model45/assets\n"
          ]
        },
        {
          "output_type": "stream",
          "name": "stdout",
          "text": [
            "Epoch 46/85\n",
            "153/153 [==============================] - 9s 58ms/step - loss: 0.0032 - val_loss: 0.0229\n",
            "Epoch 47/85\n",
            "153/153 [==============================] - 9s 58ms/step - loss: 0.0032 - val_loss: 0.0226\n",
            "Epoch 48/85\n",
            "153/153 [==============================] - 9s 57ms/step - loss: 0.0032 - val_loss: 0.0228\n",
            "Epoch 49/85\n",
            "153/153 [==============================] - 9s 59ms/step - loss: 0.0032 - val_loss: 0.0228\n",
            "Epoch 50/85\n",
            "153/153 [==============================] - 9s 59ms/step - loss: 0.0031 - val_loss: 0.0227\n"
          ]
        },
        {
          "output_type": "stream",
          "name": "stderr",
          "text": [
            "WARNING:absl:Found untraced functions such as lstm_cell_layer_call_fn, lstm_cell_layer_call_and_return_conditional_losses, lstm_cell_1_layer_call_fn, lstm_cell_1_layer_call_and_return_conditional_losses, lstm_cell_layer_call_fn while saving (showing 5 of 10). These functions will not be directly callable after loading.\n"
          ]
        },
        {
          "output_type": "stream",
          "name": "stdout",
          "text": [
            "INFO:tensorflow:Assets written to: /content/checkpoint/model50/assets\n"
          ]
        },
        {
          "output_type": "stream",
          "name": "stderr",
          "text": [
            "INFO:tensorflow:Assets written to: /content/checkpoint/model50/assets\n"
          ]
        },
        {
          "output_type": "stream",
          "name": "stdout",
          "text": [
            "Epoch 51/85\n",
            "153/153 [==============================] - 9s 58ms/step - loss: 0.0031 - val_loss: 0.0226\n",
            "Epoch 52/85\n",
            "153/153 [==============================] - 9s 58ms/step - loss: 0.0031 - val_loss: 0.0226\n",
            "Epoch 53/85\n",
            "153/153 [==============================] - 9s 57ms/step - loss: 0.0031 - val_loss: 0.0227\n",
            "Epoch 54/85\n",
            "153/153 [==============================] - 9s 57ms/step - loss: 0.0031 - val_loss: 0.0226\n",
            "Epoch 55/85\n",
            "153/153 [==============================] - 9s 59ms/step - loss: 0.0031 - val_loss: 0.0226\n"
          ]
        },
        {
          "output_type": "stream",
          "name": "stderr",
          "text": [
            "WARNING:absl:Found untraced functions such as lstm_cell_layer_call_fn, lstm_cell_layer_call_and_return_conditional_losses, lstm_cell_1_layer_call_fn, lstm_cell_1_layer_call_and_return_conditional_losses, lstm_cell_layer_call_fn while saving (showing 5 of 10). These functions will not be directly callable after loading.\n"
          ]
        },
        {
          "output_type": "stream",
          "name": "stdout",
          "text": [
            "INFO:tensorflow:Assets written to: /content/checkpoint/model55/assets\n"
          ]
        },
        {
          "output_type": "stream",
          "name": "stderr",
          "text": [
            "INFO:tensorflow:Assets written to: /content/checkpoint/model55/assets\n"
          ]
        },
        {
          "output_type": "stream",
          "name": "stdout",
          "text": [
            "Epoch 56/85\n",
            "153/153 [==============================] - 9s 57ms/step - loss: 0.0031 - val_loss: 0.0226\n",
            "Epoch 57/85\n",
            "153/153 [==============================] - 9s 58ms/step - loss: 0.0031 - val_loss: 0.0226\n",
            "Epoch 58/85\n",
            "153/153 [==============================] - 9s 56ms/step - loss: 0.0031 - val_loss: 0.0226\n",
            "Epoch 59/85\n",
            "153/153 [==============================] - 9s 56ms/step - loss: 0.0031 - val_loss: 0.0225\n",
            "Epoch 60/85\n",
            "153/153 [==============================] - 9s 59ms/step - loss: 0.0031 - val_loss: 0.0225\n"
          ]
        },
        {
          "output_type": "stream",
          "name": "stderr",
          "text": [
            "WARNING:absl:Found untraced functions such as lstm_cell_layer_call_fn, lstm_cell_layer_call_and_return_conditional_losses, lstm_cell_1_layer_call_fn, lstm_cell_1_layer_call_and_return_conditional_losses, lstm_cell_layer_call_fn while saving (showing 5 of 10). These functions will not be directly callable after loading.\n"
          ]
        },
        {
          "output_type": "stream",
          "name": "stdout",
          "text": [
            "INFO:tensorflow:Assets written to: /content/checkpoint/model60/assets\n"
          ]
        },
        {
          "output_type": "stream",
          "name": "stderr",
          "text": [
            "INFO:tensorflow:Assets written to: /content/checkpoint/model60/assets\n"
          ]
        },
        {
          "output_type": "stream",
          "name": "stdout",
          "text": [
            "Epoch 61/85\n",
            "153/153 [==============================] - 9s 60ms/step - loss: 0.0031 - val_loss: 0.0225\n",
            "Epoch 62/85\n",
            "153/153 [==============================] - 9s 57ms/step - loss: 0.0031 - val_loss: 0.0225\n",
            "Epoch 63/85\n",
            "153/153 [==============================] - 9s 58ms/step - loss: 0.0031 - val_loss: 0.0225\n",
            "Epoch 64/85\n",
            "153/153 [==============================] - 8s 54ms/step - loss: 0.0031 - val_loss: 0.0225\n",
            "Epoch 65/85\n",
            "153/153 [==============================] - 9s 56ms/step - loss: 0.0031 - val_loss: 0.0225\n"
          ]
        },
        {
          "output_type": "stream",
          "name": "stderr",
          "text": [
            "WARNING:absl:Found untraced functions such as lstm_cell_layer_call_fn, lstm_cell_layer_call_and_return_conditional_losses, lstm_cell_1_layer_call_fn, lstm_cell_1_layer_call_and_return_conditional_losses, lstm_cell_layer_call_fn while saving (showing 5 of 10). These functions will not be directly callable after loading.\n"
          ]
        },
        {
          "output_type": "stream",
          "name": "stdout",
          "text": [
            "INFO:tensorflow:Assets written to: /content/checkpoint/model65/assets\n"
          ]
        },
        {
          "output_type": "stream",
          "name": "stderr",
          "text": [
            "INFO:tensorflow:Assets written to: /content/checkpoint/model65/assets\n"
          ]
        },
        {
          "output_type": "stream",
          "name": "stdout",
          "text": [
            "Epoch 66/85\n",
            "153/153 [==============================] - 9s 58ms/step - loss: 0.0031 - val_loss: 0.0225\n",
            "Epoch 67/85\n",
            "153/153 [==============================] - 8s 54ms/step - loss: 0.0031 - val_loss: 0.0225\n",
            "Epoch 68/85\n",
            "153/153 [==============================] - 8s 52ms/step - loss: 0.0031 - val_loss: 0.0225\n",
            "Epoch 69/85\n",
            "153/153 [==============================] - 8s 53ms/step - loss: 0.0031 - val_loss: 0.0225\n",
            "Epoch 70/85\n",
            "153/153 [==============================] - 9s 58ms/step - loss: 0.0031 - val_loss: 0.0225\n"
          ]
        },
        {
          "output_type": "stream",
          "name": "stderr",
          "text": [
            "WARNING:absl:Found untraced functions such as lstm_cell_layer_call_fn, lstm_cell_layer_call_and_return_conditional_losses, lstm_cell_1_layer_call_fn, lstm_cell_1_layer_call_and_return_conditional_losses, lstm_cell_layer_call_fn while saving (showing 5 of 10). These functions will not be directly callable after loading.\n"
          ]
        },
        {
          "output_type": "stream",
          "name": "stdout",
          "text": [
            "INFO:tensorflow:Assets written to: /content/checkpoint/model70/assets\n"
          ]
        },
        {
          "output_type": "stream",
          "name": "stderr",
          "text": [
            "INFO:tensorflow:Assets written to: /content/checkpoint/model70/assets\n"
          ]
        },
        {
          "output_type": "stream",
          "name": "stdout",
          "text": [
            "Epoch 71/85\n",
            "153/153 [==============================] - 9s 57ms/step - loss: 0.0031 - val_loss: 0.0225\n",
            "Epoch 72/85\n",
            "153/153 [==============================] - 8s 55ms/step - loss: 0.0031 - val_loss: 0.0225\n",
            "Epoch 73/85\n",
            "153/153 [==============================] - 8s 52ms/step - loss: 0.0031 - val_loss: 0.0225\n",
            "Epoch 74/85\n",
            "153/153 [==============================] - 8s 54ms/step - loss: 0.0031 - val_loss: 0.0225\n",
            "Epoch 75/85\n",
            "153/153 [==============================] - 8s 53ms/step - loss: 0.0031 - val_loss: 0.0225\n"
          ]
        },
        {
          "output_type": "stream",
          "name": "stderr",
          "text": [
            "WARNING:absl:Found untraced functions such as lstm_cell_layer_call_fn, lstm_cell_layer_call_and_return_conditional_losses, lstm_cell_1_layer_call_fn, lstm_cell_1_layer_call_and_return_conditional_losses, lstm_cell_layer_call_fn while saving (showing 5 of 10). These functions will not be directly callable after loading.\n"
          ]
        },
        {
          "output_type": "stream",
          "name": "stdout",
          "text": [
            "INFO:tensorflow:Assets written to: /content/checkpoint/model75/assets\n"
          ]
        },
        {
          "output_type": "stream",
          "name": "stderr",
          "text": [
            "INFO:tensorflow:Assets written to: /content/checkpoint/model75/assets\n"
          ]
        },
        {
          "output_type": "stream",
          "name": "stdout",
          "text": [
            "Epoch 76/85\n",
            "153/153 [==============================] - 8s 53ms/step - loss: 0.0031 - val_loss: 0.0225\n",
            "Epoch 77/85\n",
            "153/153 [==============================] - 8s 53ms/step - loss: 0.0031 - val_loss: 0.0225\n",
            "Epoch 78/85\n",
            "153/153 [==============================] - 8s 54ms/step - loss: 0.0031 - val_loss: 0.0225\n",
            "Epoch 79/85\n",
            "153/153 [==============================] - 8s 52ms/step - loss: 0.0031 - val_loss: 0.0225\n",
            "Epoch 80/85\n",
            "153/153 [==============================] - 8s 53ms/step - loss: 0.0031 - val_loss: 0.0225\n"
          ]
        },
        {
          "output_type": "stream",
          "name": "stderr",
          "text": [
            "WARNING:absl:Found untraced functions such as lstm_cell_layer_call_fn, lstm_cell_layer_call_and_return_conditional_losses, lstm_cell_1_layer_call_fn, lstm_cell_1_layer_call_and_return_conditional_losses, lstm_cell_layer_call_fn while saving (showing 5 of 10). These functions will not be directly callable after loading.\n"
          ]
        },
        {
          "output_type": "stream",
          "name": "stdout",
          "text": [
            "INFO:tensorflow:Assets written to: /content/checkpoint/model80/assets\n"
          ]
        },
        {
          "output_type": "stream",
          "name": "stderr",
          "text": [
            "INFO:tensorflow:Assets written to: /content/checkpoint/model80/assets\n"
          ]
        },
        {
          "output_type": "stream",
          "name": "stdout",
          "text": [
            "Epoch 81/85\n",
            "153/153 [==============================] - 8s 53ms/step - loss: 0.0031 - val_loss: 0.0225\n",
            "Epoch 82/85\n",
            "153/153 [==============================] - 8s 53ms/step - loss: 0.0031 - val_loss: 0.0225\n",
            "Epoch 83/85\n",
            "153/153 [==============================] - 8s 53ms/step - loss: 0.0031 - val_loss: 0.0225\n",
            "Epoch 84/85\n",
            "153/153 [==============================] - 8s 52ms/step - loss: 0.0031 - val_loss: 0.0225\n",
            "Epoch 85/85\n",
            "153/153 [==============================] - 8s 52ms/step - loss: 0.0031 - val_loss: 0.0225\n"
          ]
        },
        {
          "output_type": "stream",
          "name": "stderr",
          "text": [
            "WARNING:absl:Found untraced functions such as lstm_cell_layer_call_fn, lstm_cell_layer_call_and_return_conditional_losses, lstm_cell_1_layer_call_fn, lstm_cell_1_layer_call_and_return_conditional_losses, lstm_cell_layer_call_fn while saving (showing 5 of 10). These functions will not be directly callable after loading.\n"
          ]
        },
        {
          "output_type": "stream",
          "name": "stdout",
          "text": [
            "INFO:tensorflow:Assets written to: /content/checkpoint/model85/assets\n"
          ]
        },
        {
          "output_type": "stream",
          "name": "stderr",
          "text": [
            "INFO:tensorflow:Assets written to: /content/checkpoint/model85/assets\n"
          ]
        }
      ]
    },
    {
      "cell_type": "code",
      "metadata": {
        "colab": {
          "base_uri": "https://localhost:8080/",
          "height": 295
        },
        "id": "T9V6mLi2sg1P",
        "outputId": "6daf5ed4-1e76-46ac-c984-da87c2190612"
      },
      "source": [
        "plt.plot(history.history['loss'])\n",
        "plt.plot(history.history['val_loss'])\n",
        "plt.title(\"Training Loss\")\n",
        "plt.xlabel('Epochs')\n",
        "plt.ylabel('Loss')\n",
        "plt.legend(['loss', 'val_loss'])\n",
        "plt.show()"
      ],
      "execution_count": 17,
      "outputs": [
        {
          "output_type": "display_data",
          "data": {
            "image/png": "[encoded data removed]",
            "text/plain": [
              "<Figure size 432x288 with 1 Axes>"
            ]
          },
          "metadata": {
            "needs_background": "light"
          }
        }
      ]
    },
    {
      "cell_type": "code",
      "metadata": {
        "id": "LZSuYz-2dQaj",
        "colab": {
          "base_uri": "https://localhost:8080/"
        },
        "outputId": "3796d681-2026-4e9f-d6d5-ead3be69bd9b"
      },
      "source": [
        "# Make the prediction\n",
        "\n",
        "pred=model.predict(X_test)\n",
        "print(pred.shape)"
      ],
      "execution_count": 18,
      "outputs": [
        {
          "output_type": "stream",
          "name": "stdout",
          "text": [
            "(1, 15, 1)\n"
          ]
        }
      ]
    },
    {
      "cell_type": "code",
      "metadata": {
        "colab": {
          "base_uri": "https://localhost:8080/"
        },
        "id": "MwbNRLftdSGt",
        "outputId": "4f749d2d-7a7b-40c2-e540-861bb6e816ba"
      },
      "source": [
        "# Reverse normalized transformation\n",
        "\n",
        "scaler = scalers_y['scaler_diff_pct_15']\n",
        "pred[:,:,0]=scaler.inverse_transform(pred[:,:,0])\n",
        "\n",
        "print(pred.shape)\n",
        "print(pred)"
      ],
      "execution_count": 19,
      "outputs": [
        {
          "output_type": "stream",
          "name": "stdout",
          "text": [
            "(1, 15, 1)\n",
            "[[[-0.35210785]\n",
            "  [-0.31135795]\n",
            "  [-0.28723824]\n",
            "  [-0.27912435]\n",
            "  [-0.28050587]\n",
            "  [-0.28275904]\n",
            "  [-0.27789494]\n",
            "  [-0.26028916]\n",
            "  [-0.22747694]\n",
            "  [-0.18020664]\n",
            "  [-0.12198555]\n",
            "  [-0.0583262 ]\n",
            "  [ 0.00415364]\n",
            "  [ 0.0586768 ]\n",
            "  [ 0.09923097]]]\n"
          ]
        }
      ]
    },
    {
      "cell_type": "code",
      "metadata": {
        "colab": {
          "base_uri": "https://localhost:8080/"
        },
        "id": "cDTXmVIrEL1t",
        "outputId": "4eec9332-49e1-4a40-bfa4-34ff4e1f6137"
      },
      "source": [
        "print(y_test)"
      ],
      "execution_count": 20,
      "outputs": [
        {
          "output_type": "stream",
          "name": "stdout",
          "text": [
            "[[[-0.06312103]\n",
            "  [-0.01013853]\n",
            "  [ 0.01616779]\n",
            "  [ 0.01467549]\n",
            "  [ 0.02366138]\n",
            "  [ 0.0520514 ]\n",
            "  [ 0.09635763]\n",
            "  [ 0.1055815 ]\n",
            "  [ 0.23640477]\n",
            "  [ 0.28916038]\n",
            "  [ 0.3929975 ]\n",
            "  [ 0.41967141]\n",
            "  [ 0.44982837]\n",
            "  [ 0.36107826]\n",
            "  [ 0.28769647]]]\n"
          ]
        }
      ]
    },
    {
      "cell_type": "code",
      "metadata": {
        "colab": {
          "base_uri": "https://localhost:8080/"
        },
        "id": "XvdkFSSqH7L4",
        "outputId": "95d6e7a1-37e0-4a53-c072-a651630f6eb2"
      },
      "source": [
        "# Does the diff_pct_15 follows the trend (decrese/increse)?\n",
        "\n",
        "trend_test = y_test[:, 0, 0] - y_test[:, 14, 0]\n",
        "trend_pred = pred[:, 0, 0] - pred[:, 14, 0]\n",
        "print(\"trend_test\", trend_test)\n",
        "print(\"trend_pred\", trend_pred)\n",
        "if (trend_test < 0 and trend_pred < 0) or (trend_test > 0 and trend_pred > 0):\n",
        "  trend = 1\n",
        "else:\n",
        "  trend = 0\n",
        "\n",
        "test_trend = y_test[:, 0, 0] > y_test[:, 14, 0]\n",
        "pred_trend = pred[:, 0, 0] > pred[:, 14, 0]\n",
        "print(f\"Are they following the same trend? {test_trend==pred_trend}\")"
      ],
      "execution_count": 21,
      "outputs": [
        {
          "output_type": "stream",
          "name": "stdout",
          "text": [
            "trend_test [-0.3508175]\n",
            "trend_pred [-0.45133883]\n",
            "Are they following the same trend? [ True]\n"
          ]
        }
      ]
    },
    {
      "cell_type": "code",
      "metadata": {
        "colab": {
          "base_uri": "https://localhost:8080/"
        },
        "id": "AFCCaT5gHQ4c",
        "outputId": "f9dc12ee-aa65-4138-aeb7-542adacb8b9e"
      },
      "source": [
        "# MAE calculation of the sequence vectorized output for each epoch\n",
        "import keras\n",
        "from sklearn.metrics import mean_absolute_error\n",
        "\n",
        "for epoch in range(5, 85, 5):\n",
        "  print(f\"Model trained for {epoch} epochs:\")\n",
        "  model = keras.models.load_model(f'/content/checkpoint/model{epoch:d}')\n",
        "  pred = model.predict(X_test)\n",
        "  pred[:,:,0]=scalers_y['scaler_diff_pct_15'].inverse_transform(pred[:,:,0])\n",
        "  avg_mae = 0\n",
        "  for i in range(0, y_test.shape[1]):\n",
        "    mae = mean_absolute_error(y_test[:, i, 0], pred[:, i, 0])\n",
        "    print(f\"   MAE[{i}]=\", mae)\n",
        "    avg_mae = avg_mae + mae\n",
        "  print(f'Average MAE ={avg_mae/15}')\n",
        "  print()"
      ],
      "execution_count": 22,
      "outputs": [
        {
          "output_type": "stream",
          "name": "stdout",
          "text": [
            "Model trained for 5 epochs:\n",
            "   MAE[0]= 0.29975586537118204\n",
            "   MAE[1]= 0.3521680380167579\n",
            "   MAE[2]= 0.3713885266508819\n",
            "   MAE[3]= 0.35465460617290784\n",
            "   MAE[4]= 0.33936083569527487\n",
            "   MAE[5]= 0.3346305534032877\n",
            "   MAE[6]= 0.338153665619244\n",
            "   MAE[7]= 0.3008278841660801\n",
            "   MAE[8]= 0.38165131736891555\n",
            "   MAE[9]= 0.38341823678373493\n",
            "   MAE[10]= 0.4376574569994758\n",
            "   MAE[11]= 0.4182502454731766\n",
            "   MAE[12]= 0.4075952804385984\n",
            "   MAE[13]= 0.28460772940483553\n",
            "   MAE[14]= 0.18438648884429798\n",
            "Average MAE =0.34590044869391007\n",
            "\n",
            "Model trained for 10 epochs:\n",
            "   MAE[0]= 0.28146463040108927\n",
            "   MAE[1]= 0.3260118211569404\n",
            "   MAE[2]= 0.34846216628215326\n",
            "   MAE[3]= 0.3426266272758131\n",
            "   MAE[4]= 0.34085724010468343\n",
            "   MAE[5]= 0.34760255066433504\n",
            "   MAE[6]= 0.3572500848344463\n",
            "   MAE[7]= 0.3191168690608326\n",
            "   MAE[8]= 0.3922825210203438\n",
            "   MAE[9]= 0.38099524836897053\n",
            "   MAE[10]= 0.4192074371183465\n",
            "   MAE[11]= 0.3837502031473595\n",
            "   MAE[12]= 0.36005355405801176\n",
            "   MAE[13]= 0.22972032287683947\n",
            "   MAE[14]= 0.12981136595144138\n",
            "Average MAE =0.3306141761547738\n",
            "\n",
            "Model trained for 15 epochs:\n",
            "   MAE[0]= 0.22981005314584024\n",
            "   MAE[1]= 0.25169719708581917\n",
            "   MAE[2]= 0.2637968976225616\n",
            "   MAE[3]= 0.25909576911674786\n",
            "   MAE[4]= 0.2667705590963445\n",
            "   MAE[5]= 0.2870152637151773\n",
            "   MAE[6]= 0.3099798911384243\n",
            "   MAE[7]= 0.2815525914119068\n",
            "   MAE[8]= 0.358649631630352\n",
            "   MAE[9]= 0.344775357208244\n",
            "   MAE[10]= 0.3744799105132173\n",
            "   MAE[11]= 0.32629593749327246\n",
            "   MAE[12]= 0.288110419988569\n",
            "   MAE[13]= 0.14430478075113756\n",
            "   MAE[14]= 0.034539718974970435\n",
            "Average MAE =0.26805826525950566\n",
            "\n",
            "Model trained for 20 epochs:\n",
            "WARNING:tensorflow:5 out of the last 5 calls to <function Model.make_predict_function.<locals>.predict_function at 0x7f5e4e59e3b0> triggered tf.function retracing. Tracing is expensive and the excessive number of tracings could be due to (1) creating @tf.function repeatedly in a loop, (2) passing tensors with different shapes, (3) passing Python objects instead of tensors. For (1), please define your @tf.function outside of the loop. For (2), @tf.function has experimental_relax_shapes=True option that relaxes argument shapes that can avoid unnecessary retracing. For (3), please refer to https://www.tensorflow.org/guide/function#controlling_retracing and https://www.tensorflow.org/api_docs/python/tf/function for  more details.\n"
          ]
        },
        {
          "output_type": "stream",
          "name": "stderr",
          "text": [
            "WARNING:tensorflow:5 out of the last 5 calls to <function Model.make_predict_function.<locals>.predict_function at 0x7f5e4e59e3b0> triggered tf.function retracing. Tracing is expensive and the excessive number of tracings could be due to (1) creating @tf.function repeatedly in a loop, (2) passing tensors with different shapes, (3) passing Python objects instead of tensors. For (1), please define your @tf.function outside of the loop. For (2), @tf.function has experimental_relax_shapes=True option that relaxes argument shapes that can avoid unnecessary retracing. For (3), please refer to https://www.tensorflow.org/guide/function#controlling_retracing and https://www.tensorflow.org/api_docs/python/tf/function for  more details.\n"
          ]
        },
        {
          "output_type": "stream",
          "name": "stdout",
          "text": [
            "   MAE[0]= 0.25368758443589456\n",
            "   MAE[1]= 0.2670816327395057\n",
            "   MAE[2]= 0.27627527901790155\n",
            "   MAE[3]= 0.2760167678092604\n",
            "   MAE[4]= 0.29469859852791647\n",
            "   MAE[5]= 0.3302323266653116\n",
            "   MAE[6]= 0.36992009516273916\n",
            "   MAE[7]= 0.35696435817940864\n",
            "   MAE[8]= 0.446219628344944\n",
            "   MAE[9]= 0.4399639637386719\n",
            "   MAE[10]= 0.4723853880221198\n",
            "   MAE[11]= 0.4224446894021857\n",
            "   MAE[12]= 0.3791312425135934\n",
            "   MAE[13]= 0.22846135356989367\n",
            "   MAE[14]= 0.11206225012674198\n",
            "Average MAE =0.3283696772170726\n",
            "\n",
            "Model trained for 25 epochs:\n",
            "WARNING:tensorflow:6 out of the last 6 calls to <function Model.make_predict_function.<locals>.predict_function at 0x7f5e4df609e0> triggered tf.function retracing. Tracing is expensive and the excessive number of tracings could be due to (1) creating @tf.function repeatedly in a loop, (2) passing tensors with different shapes, (3) passing Python objects instead of tensors. For (1), please define your @tf.function outside of the loop. For (2), @tf.function has experimental_relax_shapes=True option that relaxes argument shapes that can avoid unnecessary retracing. For (3), please refer to https://www.tensorflow.org/guide/function#controlling_retracing and https://www.tensorflow.org/api_docs/python/tf/function for  more details.\n"
          ]
        },
        {
          "output_type": "stream",
          "name": "stderr",
          "text": [
            "WARNING:tensorflow:6 out of the last 6 calls to <function Model.make_predict_function.<locals>.predict_function at 0x7f5e4df609e0> triggered tf.function retracing. Tracing is expensive and the excessive number of tracings could be due to (1) creating @tf.function repeatedly in a loop, (2) passing tensors with different shapes, (3) passing Python objects instead of tensors. For (1), please define your @tf.function outside of the loop. For (2), @tf.function has experimental_relax_shapes=True option that relaxes argument shapes that can avoid unnecessary retracing. For (3), please refer to https://www.tensorflow.org/guide/function#controlling_retracing and https://www.tensorflow.org/api_docs/python/tf/function for  more details.\n"
          ]
        },
        {
          "output_type": "stream",
          "name": "stdout",
          "text": [
            "   MAE[0]= 0.25790917280907877\n",
            "   MAE[1]= 0.27288706553598396\n",
            "   MAE[2]= 0.2808147687639953\n",
            "   MAE[3]= 0.27865269381748486\n",
            "   MAE[4]= 0.29661256327629903\n",
            "   MAE[5]= 0.33370763508358553\n",
            "   MAE[6]= 0.37761028643166006\n",
            "   MAE[7]= 0.37127096304162177\n",
            "   MAE[8]= 0.4688134842027931\n",
            "   MAE[9]= 0.4714654506361405\n",
            "   MAE[10]= 0.5122152382189582\n",
            "   MAE[11]= 0.46884554539603773\n",
            "   MAE[12]= 0.42935332457714914\n",
            "   MAE[13]= 0.2791108102497147\n",
            "   MAE[14]= 0.15961786066427097\n",
            "Average MAE =0.3505924575136516\n",
            "\n",
            "Model trained for 30 epochs:\n",
            "   MAE[0]= 0.2984727561831022\n",
            "   MAE[1]= 0.3192792381109809\n",
            "   MAE[2]= 0.32889610716960443\n",
            "   MAE[3]= 0.3254462738727217\n",
            "   MAE[4]= 0.3405306364536367\n",
            "   MAE[5]= 0.37442702499905184\n",
            "   MAE[6]= 0.4157772862485546\n",
            "   MAE[7]= 0.4081521714614216\n",
            "   MAE[8]= 0.5059665047039299\n",
            "   MAE[9]= 0.5104639501488129\n",
            "   MAE[10]= 0.5544296914393256\n",
            "   MAE[11]= 0.5152639402894456\n",
            "   MAE[12]= 0.48041955369704603\n",
            "   MAE[13]= 0.33457166747715933\n",
            "   MAE[14]= 0.21840158556833134\n",
            "Average MAE =0.39536655918820834\n",
            "\n",
            "Model trained for 35 epochs:\n",
            "   MAE[0]= 0.2833394945024992\n",
            "   MAE[1]= 0.2986030722918128\n",
            "   MAE[2]= 0.3038625437941314\n",
            "   MAE[3]= 0.29713698823200513\n",
            "   MAE[4]= 0.30997893466950277\n",
            "   MAE[5]= 0.34258211103954866\n",
            "   MAE[6]= 0.38346241946731985\n",
            "   MAE[7]= 0.3760495866225544\n",
            "   MAE[8]= 0.4746286325563698\n",
            "   MAE[9]= 0.48033380221485295\n",
            "   MAE[10]= 0.5258536303097556\n",
            "   MAE[11]= 0.4884839012174088\n",
            "   MAE[12]= 0.45554206554957866\n",
            "   MAE[13]= 0.31152344727483255\n",
            "   MAE[14]= 0.19689008300437794\n",
            "Average MAE =0.36855138084977007\n",
            "\n",
            "Model trained for 40 epochs:\n",
            "   MAE[0]= 0.2861778378843809\n",
            "   MAE[1]= 0.3003338719668006\n",
            "   MAE[2]= 0.3045966345991851\n",
            "   MAE[3]= 0.296913977453578\n",
            "   MAE[4]= 0.3087852920532308\n",
            "   MAE[5]= 0.3403520330575998\n",
            "   MAE[6]= 0.3800898694566387\n",
            "   MAE[7]= 0.37141922959550056\n",
            "   MAE[8]= 0.46866028536455917\n",
            "   MAE[9]= 0.4730301023638169\n",
            "   MAE[10]= 0.5173370429927657\n",
            "   MAE[11]= 0.4790111361889321\n",
            "   MAE[12]= 0.4454885291605556\n",
            "   MAE[13]= 0.3013365254696892\n",
            "   MAE[14]= 0.1870189577831255\n",
            "Average MAE =0.3640367550260239\n",
            "\n",
            "Model trained for 45 epochs:\n",
            "   MAE[0]= 0.28697597388024576\n",
            "   MAE[1]= 0.299955620891056\n",
            "   MAE[2]= 0.3030848223891021\n",
            "   MAE[3]= 0.2944485803340559\n",
            "   MAE[4]= 0.3056504453659139\n",
            "   MAE[5]= 0.3368746980814035\n",
            "   MAE[6]= 0.37658118243729055\n",
            "   MAE[7]= 0.36813322552903327\n",
            "   MAE[8]= 0.46577176977293777\n",
            "   MAE[9]= 0.4706283779060761\n",
            "   MAE[10]= 0.5154284948164771\n",
            "   MAE[11]= 0.4775253898350674\n",
            "   MAE[12]= 0.44428586808213233\n",
            "   MAE[13]= 0.30021692672338945\n",
            "   MAE[14]= 0.18573724185361729\n",
            "Average MAE =0.36208657452651993\n",
            "\n",
            "Model trained for 50 epochs:\n",
            "   MAE[0]= 0.28807630542512186\n",
            "   MAE[1]= 0.30092574608942024\n",
            "   MAE[2]= 0.3037630040373565\n",
            "   MAE[3]= 0.29481085736500073\n",
            "   MAE[4]= 0.30579951658249716\n",
            "   MAE[5]= 0.33700433818379\n",
            "   MAE[6]= 0.37693168755089224\n",
            "   MAE[7]= 0.3689482296393696\n",
            "   MAE[8]= 0.4672627054561882\n",
            "   MAE[9]= 0.4729486526167313\n",
            "   MAE[10]= 0.5186559820229362\n",
            "   MAE[11]= 0.48165052671713415\n",
            "   MAE[12]= 0.44920443475426375\n",
            "   MAE[13]= 0.3057278380688713\n",
            "   MAE[14]= 0.1915481284750925\n",
            "Average MAE =0.3642171968656444\n",
            "\n",
            "Model trained for 55 epochs:\n",
            "   MAE[0]= 0.2889313936590696\n",
            "   MAE[1]= 0.30163322342058174\n",
            "   MAE[2]= 0.3042965848173858\n",
            "   MAE[3]= 0.2951405902598982\n",
            "   MAE[4]= 0.30589863910675863\n",
            "   MAE[5]= 0.336850289979368\n",
            "   MAE[6]= 0.376507421689381\n",
            "   MAE[7]= 0.3682447756217304\n",
            "   MAE[8]= 0.46628284979956436\n",
            "   MAE[9]= 0.47170988928436436\n",
            "   MAE[10]= 0.5171920546943496\n",
            "   MAE[11]= 0.48001102645678106\n",
            "   MAE[12]= 0.44745077436969816\n",
            "   MAE[13]= 0.30392655217614634\n",
            "   MAE[14]= 0.18976174746885166\n",
            "Average MAE =0.3635891875202619\n",
            "\n",
            "Model trained for 60 epochs:\n",
            "   MAE[0]= 0.28875913623566873\n",
            "   MAE[1]= 0.30118708265443794\n",
            "   MAE[2]= 0.3035435397352935\n",
            "   MAE[3]= 0.2940868099425917\n",
            "   MAE[4]= 0.30458346261978964\n",
            "   MAE[5]= 0.3353353783277567\n",
            "   MAE[6]= 0.3748655521443981\n",
            "   MAE[7]= 0.3665503049777332\n",
            "   MAE[8]= 0.46460468102591324\n",
            "   MAE[9]= 0.47010631572364964\n",
            "   MAE[10]= 0.5157074669057677\n",
            "   MAE[11]= 0.4786730213908631\n",
            "   MAE[12]= 0.4462681167031938\n",
            "   MAE[13]= 0.30288745695319635\n",
            "   MAE[14]= 0.1888340309752451\n",
            "Average MAE =0.36239949042103325\n",
            "\n",
            "Model trained for 65 epochs:\n",
            "   MAE[0]= 0.28894677165742166\n",
            "   MAE[1]= 0.3013098086180305\n",
            "   MAE[2]= 0.30361688325068964\n",
            "   MAE[3]= 0.29411980111347485\n",
            "   MAE[4]= 0.30458268775940756\n",
            "   MAE[5]= 0.3353071853307779\n",
            "   MAE[6]= 0.3748167955449718\n",
            "   MAE[7]= 0.3664892698214832\n",
            "   MAE[8]= 0.4645415299047737\n",
            "   MAE[9]= 0.47005393814205326\n",
            "   MAE[10]= 0.5156815388852904\n",
            "   MAE[11]= 0.47869108532352034\n",
            "   MAE[12]= 0.44634721602493166\n",
            "   MAE[13]= 0.3030406222638176\n",
            "   MAE[14]= 0.18906569187774525\n",
            "Average MAE =0.362440721701226\n",
            "\n",
            "Model trained for 70 epochs:\n",
            "   MAE[0]= 0.28899624351258524\n",
            "   MAE[1]= 0.3012813474001502\n",
            "   MAE[2]= 0.3035123367037536\n",
            "   MAE[3]= 0.29394450385319043\n",
            "   MAE[4]= 0.3043462361335836\n",
            "   MAE[5]= 0.3350214704660471\n",
            "   MAE[6]= 0.3744947516492504\n",
            "   MAE[7]= 0.36614332446320685\n",
            "   MAE[8]= 0.46418302286761093\n",
            "   MAE[9]= 0.46969285320400395\n",
            "   MAE[10]= 0.5153261387402366\n",
            "   MAE[11]= 0.47834735651297156\n",
            "   MAE[12]= 0.4460181443690622\n",
            "   MAE[13]= 0.3027255185839222\n",
            "   MAE[14]= 0.1887594283117281\n",
            "Average MAE =0.3621861784514202\n",
            "\n",
            "Model trained for 75 epochs:\n",
            "   MAE[0]= 0.2889495730757261\n",
            "   MAE[1]= 0.30120913637300484\n",
            "   MAE[2]= 0.3034210521902801\n",
            "   MAE[3]= 0.29383930165516187\n",
            "   MAE[4]= 0.3042301262855611\n",
            "   MAE[5]= 0.334895704665571\n",
            "   MAE[6]= 0.3743587934545177\n",
            "   MAE[7]= 0.36599586257203254\n",
            "   MAE[8]= 0.46402290989058304\n",
            "   MAE[9]= 0.46952013384460606\n",
            "   MAE[10]= 0.5151425042802642\n",
            "   MAE[11]= 0.47815680418891493\n",
            "   MAE[12]= 0.4458265997208023\n",
            "   MAE[13]= 0.30253994324770433\n",
            "   MAE[14]= 0.18858655249013767\n",
            "Average MAE =0.3620463331956579\n",
            "\n",
            "Model trained for 80 epochs:\n",
            "   MAE[0]= 0.28902720812554605\n",
            "   MAE[1]= 0.30128224146982185\n",
            "   MAE[2]= 0.30348798820636286\n",
            "   MAE[3]= 0.29389869768368054\n",
            "   MAE[4]= 0.30428138628006796\n",
            "   MAE[5]= 0.3349385604051645\n",
            "   MAE[6]= 0.3743934535554546\n",
            "   MAE[7]= 0.3660227740691486\n",
            "   MAE[8]= 0.46404298175471115\n",
            "   MAE[9]= 0.4695347965872208\n",
            "   MAE[10]= 0.5151538738662551\n",
            "   MAE[11]= 0.4781675181238133\n",
            "   MAE[12]= 0.44583958608278274\n",
            "   MAE[13]= 0.30255760857429964\n",
            "   MAE[14]= 0.1886102080835329\n",
            "Average MAE =0.3620825921911909\n",
            "\n"
          ]
        }
      ]
    }
  ]
}