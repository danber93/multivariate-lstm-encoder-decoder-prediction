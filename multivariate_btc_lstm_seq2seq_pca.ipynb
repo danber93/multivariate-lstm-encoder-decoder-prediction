{
  "nbformat": 4,
  "nbformat_minor": 0,
  "metadata": {
    "accelerator": "GPU",
    "colab": {
      "name": "multivariate_btc_lstm_seq2seq_1output.ipynb",
      "provenance": [],
      "collapsed_sections": []
    },
    "kernelspec": {
      "display_name": "Python 3",
      "name": "python3"
    },
    "language_info": {
      "name": "python"
    }
  },
  "cells": [
    {
      "cell_type": "markdown",
      "metadata": {
        "id": "CkNVf4FdX3mx"
      },
      "source": [
        "**Bitcoin Price Prediction using Multivariate Data**\n",
        "\n",
        "About this Notebook\n",
        "\n",
        "*   Sources: https://www.analyticsvidhya.com/blog/2020/10/multivariate-multi-step-time-series-forecasting-using-stacked-lstm-sequence-to-sequence-autoencoder-in-tensorflow-2-0-keras/ , https://www.geeksforgeeks.org/principal-component-analysis-with-python/ , various other blogs and python notebook\n",
        "\n",
        "About the Dataset\n",
        "\n",
        "\n",
        "*   Source: https://www.cryptodatadownload.com/\n",
        "\n",
        "**The goal is to use 50 ticks of 1 minute multivariate bitcoin data to predict the next 15 minute through a Recurrent Encoder Decoder model.** \n",
        "\n",
        "Steps followed:\n",
        "\n",
        "\n",
        "1.   Load dataset\n",
        "2.   Build features (new features are financial indicators)\n",
        "3.   Select last 5k rows and divide it in train_set and test_set\n",
        "4.   Normalize dataset and build X_train, X_test, y_train, y_test\n",
        "5.   (Remember that X_train, X_test, y_train and y_test need to be in the shape [n_samples, n_timesteps, n_features] )\n",
        "6.   Init the model and train it\n",
        "7.   Predict data on X_test and reverse normalization\n",
        "8.   Compare results with y_test\n",
        "\n",
      ]
    },
    {
      "cell_type": "code",
      "metadata": {
        "id": "Zf4AxgtDdEXC"
      },
      "source": [
        "# NOTE: to predict just 1 sequence of n future vectors (one vector would be one tick with all features) you'll need to respect those requirements:\n",
        "#  n_vectors to predict = n_future\n",
        "#  test_set[n_samples, features] => n_samples = n_past + n_future\n",
        "#  In this way in the test_set you can use the first n_past tick to predict the n_future tick\n",
        "#  if n_samples > n_past + n_future the model will predict a number of sequence of n_future vectors equal to the that difference (n_sequence = n_samples - n_past - n_future)\n",
        "#         which won't be very useful because only the last one will have all n_future vectors to predict \n",
        "#         (the other ones will predict some vector of which you already know all the values)"
      ],
      "execution_count": 1,
      "outputs": []
    },
    {
      "cell_type": "code",
      "metadata": {
        "id": "jzZ6ONi9Lqf0"
      },
      "source": [
        "import pandas as pd\n",
        "import numpy as np\n",
        "from sklearn.preprocessing import MinMaxScaler\n",
        "import matplotlib.pyplot as plt\n",
        "import tensorflow as tf\n",
        "import os"
      ],
      "execution_count": 2,
      "outputs": []
    },
    {
      "cell_type": "code",
      "metadata": {
        "id": "RlEoAay4atmc",
        "cellView": "form"
      },
      "source": [
        "#@title\n",
        "#Class that implemented some financial indicators\n",
        "\n",
        "class Indicators:\n",
        "\n",
        "    @staticmethod\n",
        "    def sma_indicator(df: pd.DataFrame, time_period: int = 20):\n",
        "        \"\"\"\n",
        "        Get The expected indicator in a pandas dataframe.\n",
        "        Args:\n",
        "            df(pandas.DataFrame): pandas Dataframe with close values\\n\n",
        "            time_period(int): look back time period to calculate moving average \\n\n",
        "        Returns:\n",
        "            pandas.DataFrame: new pandas dataframe adding SMA as new column, preserving the columns which already exists\\n\n",
        "        \"\"\"\n",
        "\n",
        "        df[\"SMA\"] = df[\"close\"].rolling(window=time_period).mean()\n",
        "        return df\n",
        "\n",
        "    @staticmethod\n",
        "    def macd_indicator(df: pd.DataFrame, short_time_period: int = 12, long_time_period: int = 26, need_signal: bool = True, signal_time_period: int = 9):\n",
        "        \"\"\"\n",
        "        Get The expected indicator in a pandas dataframe.\n",
        "        Args:\n",
        "            df(pandas.DataFrame): pandas Dataframe with close values\\n\n",
        "            short_time_period(int): short term look back time period.\\n\n",
        "            long_time_period(int): long term look back time period.\\n\n",
        "            need_signal(bool): if True MACD signal line is added as a new column to the returning pandas dataframe.\\n\n",
        "            signal_time_period(int): look back period to calculate signal line\\n\n",
        "        Returns:\n",
        "            pandas.DataFrame: new pandas dataframe adding MACD and MACD_signal_line(if required) as new column/s, preserving the columns which already exists\\n\n",
        "        \"\"\"\n",
        "\n",
        "        df[\"LONG_EMA\"] = df[\"close\"].ewm(span=long_time_period).mean()\n",
        "        df[\"SHORT_EMA\"] = df[\"close\"].ewm(span=short_time_period).mean()\n",
        "\n",
        "        df[\"MACD\"] = df[\"SHORT_EMA\"] - df[\"LONG_EMA\"]\n",
        "        if need_signal:\n",
        "            df[\"MACD_signal_line\"] = df[\"MACD\"].ewm(span=signal_time_period).mean()\n",
        "\n",
        "        df = df.drop([\"LONG_EMA\", \"SHORT_EMA\"], axis=1)\n",
        "        return df\n",
        "\n",
        "    @staticmethod\n",
        "    def atr_indicator(df: pd.DataFrame, time_period: int = 14):\n",
        "        \"\"\"\n",
        "        Get The expected indicator in a pandas dataframe.\n",
        "        Args:\n",
        "            df(pandas.DataFrame): pandas Dataframe with high, low and close values\\n\n",
        "            time_period(int): look back period to calculate ATR\n",
        "        Returns:\n",
        "            pandas.DataFrame: new pandas dataframe adding ATR as a new column, preserving the columns which already exists\n",
        "        \"\"\"\n",
        "\n",
        "        df[\"close_prev\"] = df[\"close\"].shift(1)\n",
        "        df[\"TR\"] = df[[\"high\", \"close_prev\"]].max(\n",
        "            axis=1) - df[[\"low\", \"close_prev\"]].min(axis=1)\n",
        "        df[\"ATR\"] = df[\"TR\"].rolling(window=time_period).mean()\n",
        "\n",
        "        df = df.drop([\"close_prev\", \"TR\"], axis=1)\n",
        "        return df\n",
        "\n",
        "    @staticmethod\n",
        "    def ema_indicator(df: pd.DataFrame, time_period: int = 21):\n",
        "        \"\"\"\n",
        "        Get The expected indicator in a pandas dataframe.\n",
        "        Args:\n",
        "            df(pandas.DataFrame): pandas Dataframe with close values\\n\n",
        "            time_period(int): look back time period\\n\n",
        "        Returns:\n",
        "            pandas.DataFrame: new pandas dataframe adding EMA as a new column, preserving the columns which already exists\\n\n",
        "        \"\"\"\n",
        "        df[\"EMA\"] = df[\"close\"].ewm(span=time_period).mean()\n",
        "        return df\n",
        "\n",
        "\n",
        "    @staticmethod\n",
        "    def kc_indicator(df: pd.DataFrame, time_period: int = 20, atr_time_period: int = 14, atr_multiplier: int = 2):\n",
        "        \"\"\"\n",
        "        Get The expected indicator in a pandas dataframe.\n",
        "        Args:\n",
        "            df(pandas.DataFrame): pandas Dataframe with close values\\n\n",
        "            time_period(int): look back time period to calculate moving average\n",
        "            atr_time_period(int): time period to calculate average true range\n",
        "            atr_multiplier(int): constant value which will be multiplied by average true range\n",
        "        Returns:\n",
        "            pandas.DataFrame: new pandas dataframe adding kc_upper, kc_middle and kc_lower as three columns, preserving the columns which already exists\\n\n",
        "        \"\"\"\n",
        "\n",
        "        df[\"kc_middle\"] = df[\"close\"].ewm(span=time_period).mean()\n",
        "        df = Indicators.atr_indicator(df, atr_time_period)\n",
        "\n",
        "        df[\"kc_upper\"] = df[\"kc_middle\"] + atr_multiplier * df[\"ATR\"]\n",
        "        df[\"kc_lower\"] = df[\"kc_middle\"] - atr_multiplier * df[\"ATR\"]\n",
        "\n",
        "        df = df.drop([\"ATR\"], axis=1)\n",
        "\n",
        "        return df\n",
        "\n",
        "\n",
        "    @staticmethod\n",
        "    def rsi_indicator(df, time_period=14):\n",
        "        \"\"\"\n",
        "        Get The expected indicator in a pandas dataframe.\n",
        "        Args:\n",
        "            df(pandas.DataFrame): pandas Dataframe with close values\\n\n",
        "            time_period(int): look back time period to calculate moving average \\n\n",
        "        Returns:\n",
        "            pandas.DataFrame: new pandas dataframe adding RSI as new column, preserving the columns which already exists\\n\n",
        "        \"\"\"\n",
        "\n",
        "        df[\"close_prev\"] = df[\"close\"].shift(1)\n",
        "\n",
        "        df[\"GAIN\"] = 0.0\n",
        "        df[\"LOSS\"] = 0.0\n",
        "\n",
        "        df.loc[df[\"close\"] > df[\"close_prev\"],\n",
        "               \"GAIN\"] = df[\"close\"] - df[\"close_prev\"]\n",
        "        df.loc[df[\"close_prev\"] > df[\"close\"],\n",
        "               \"LOSS\"] = df[\"close_prev\"] - df[\"close\"]\n",
        "        df[\"AVG_GAIN\"] = df[\"GAIN\"].ewm(span=time_period).mean()\n",
        "        df[\"AVG_LOSS\"] = df[\"LOSS\"].ewm(span=time_period).mean()\n",
        "        df[\"AVG_GAIN\"].iloc[:time_period] = np.nan\n",
        "        df[\"AVG_LOSS\"].iloc[:time_period] = np.nan\n",
        "        df[\"RS\"] = df[\"AVG_GAIN\"] / \\\n",
        "                   (df[\"AVG_LOSS\"] + 0.00000001)  # to avoid divide by zero\n",
        "\n",
        "        df[\"RSI\"] = 100 - ((100 / (1 + df[\"RS\"])))\n",
        "\n",
        "        df = df.drop([\"close_prev\", \"GAIN\", \"LOSS\",\n",
        "                      \"AVG_GAIN\", \"AVG_LOSS\", \"RS\"], axis=1)\n",
        "        return df\n",
        "\n",
        "\n",
        "    @staticmethod\n",
        "    def mom_indicator(df: pd.DataFrame, time_period=1):\n",
        "        \"\"\"\n",
        "        MOM -> Momentum\n",
        "        Momentum helps to determine the price changes from one period to another. \\n\n",
        "        \\n Links:\n",
        "            http://www.ta-guru.com/Book/TechnicalAnalysis/TechnicalIndicators/Momentum.php5\\n\n",
        "        \"\"\"\n",
        "        \"\"\"\n",
        "                Get The expected indicator in a pandas dataframe.\n",
        "                Args:\n",
        "                    df(pandas.DataFrame): pandas Dataframe with close values\\n\n",
        "                    time_period(int): look back time period.\\n\n",
        "                Returns:\n",
        "                    pandas.DataFrame: new pandas dataframe adding MOM as a new column, \n",
        "                    preserving the columns which already exists\\n\n",
        "                \"\"\"\n",
        "        df[\"close_prev\"] = df[\"close\"].shift(time_period)\n",
        "        df[\"MOM\"] = df[\"close\"] - df[\"close_prev\"]\n",
        "        df.drop(columns=\"close_prev\")\n",
        "        return df\n",
        "\n",
        "    @staticmethod\n",
        "    def vhf_indicator(df: pd.DataFrame, time_period: int = 28):\n",
        "        \"\"\"\n",
        "                Get The expected indicator in a pandas dataframe.\n",
        "                Args:\n",
        "                    df(pandas.DataFrame): pandas Dataframe with close values\\n\n",
        "                    time_period(int): look back time period\\n\n",
        "                Returns:\n",
        "                    pandas.DataFrame: new pandas dataframe adding VHF as new column, preserving the columns which already exists\\n\n",
        "                \"\"\"\n",
        "        df[\"PC\"] = df[\"close\"].shift(1)\n",
        "        df[\"DIF\"] = abs(df[\"close\"] - df[\"PC\"])\n",
        "\n",
        "        df[\"HC\"] = df[\"close\"].rolling(window=time_period).max()\n",
        "        df[\"LC\"] = df[\"close\"].rolling(window=time_period).min()\n",
        "\n",
        "        df[\"HC-LC\"] = abs(df[\"HC\"] - df[\"LC\"])\n",
        "\n",
        "        df[\"DIF\"] = df[\"DIF\"].rolling(window=time_period).sum()\n",
        "\n",
        "        df[\"VHF\"] = df[\"HC-LC\"] / df[\"DIF\"]\n",
        "\n",
        "        df = df.drop([\"PC\", \"DIF\", \"HC\", \"LC\", \"HC-LC\"], axis=1)\n",
        "\n",
        "        return df\n",
        "\n",
        "\n",
        "    @staticmethod\n",
        "    def trix_indicator(df: pd.DataFrame, time_period: int = 14):\n",
        "            \"\"\"\n",
        "            Get The expected indicator in a pandas dataframe.\n",
        "            Args:\n",
        "                df(pandas.DataFrame): pandas Dataframe with close values\\n\n",
        "                time_period(int): look back time period \\n\n",
        "            Returns:\n",
        "                pandas.DataFrame: new pandas dataframe adding Trix as new column, preserving the columns which already exists\\n\n",
        "            \"\"\"\n",
        "\n",
        "            df[\"EMA1\"] = df[\"close\"].ewm(span=time_period).mean()\n",
        "            df[\"EMA2\"] = df[\"EMA1\"].ewm(span=time_period).mean()\n",
        "            df[\"EMA3\"] = df[\"EMA2\"].ewm(span=time_period).mean()\n",
        "            df[\"EMA_prev\"] = df[\"EMA3\"].shift(1)\n",
        "\n",
        "            df[\"TRIX\"] = (df[\"EMA3\"] - df[\"EMA_prev\"]) / \\\n",
        "                         df[\"EMA_prev\"] * 100\n",
        "            df = df.drop([\"EMA1\", \"EMA2\", \"EMA3\", \"EMA_prev\"], axis=1)\n",
        "            return df\n",
        "\n",
        "    @staticmethod\n",
        "    def rocv_indicator(df: pd.DataFrame, time_period: int = 12):\n",
        "        \"\"\"\n",
        "           ROCV -> Rate of Change Volume\n",
        "           ROCV indicator is used to identify whether the price movement is confirmed by trading volume.\n",
        "            Links:\n",
        "               http://www.ta-guru.com/Book/TechnicalAnalysis/TechnicalIndicators/VolumeRateOfChange.php5\n",
        "               https://www.investopedia.com/articles/technical/02/091002.asp\n",
        "           \"\"\"\n",
        "\n",
        "        \"\"\"\n",
        "        Get The expected indicator in a pandas dataframe.\n",
        "        Args:\n",
        "            df(pandas.DataFrame): pandas Dataframe with volume values\\n\n",
        "            time_period(int): look back time period\\n\n",
        "        Returns:\n",
        "            pandas.DataFrame: new pandas dataframe adding ROCV as new column, preserving the columns which already exists\\n\n",
        "        \"\"\"\n",
        "        df[\"prev_volume\"] = df[\"Volume BTC\"].shift(time_period)\n",
        "        df[\"ROCV\"] = (df[\"Volume BTC\"] - df[\"prev_volume\"]\n",
        "                      ) / df[\"prev_volume\"] * 100\n",
        "        df = df.drop([\"prev_volume\"], axis=1)\n",
        "\n",
        "\n",
        "        return df"
      ],
      "execution_count": 3,
      "outputs": []
    },
    {
      "cell_type": "code",
      "metadata": {
        "colab": {
          "base_uri": "https://localhost:8080/",
          "height": 434
        },
        "id": "fqvhUKWILtpe",
        "outputId": "13850a43-6408-4419-ce40-ca68cf06d752"
      },
      "source": [
        "#--------------------- Data Preprocessing --------------------#\n",
        "# Importing and scaling the data\n",
        "#dataset_train = pd.read_csv(\"Bitcoin_Stock_Price_Trainset.csv\")\n",
        "#dataset_train = pd.read_csv('https://github.com/danber93/bitcoin_price_prediction/blob/main/data/Google_Stock_Price_Trainset.csv', skiprows=1)\n",
        "dataset = pd.read_csv('https://github.com/danber93/multivariate_bitcoin_prediction_lstm_pca/blob/main/Binance_BTCUSDT_minute.csv?raw=true', skiprows=1)\n",
        "dataset = dataset.iloc[::-1]\n",
        "print(dataset.shape)\n",
        "dataset"
      ],
      "execution_count": 4,
      "outputs": [
        {
          "output_type": "stream",
          "name": "stdout",
          "text": [
            "(330483, 10)\n"
          ]
        },
        {
          "output_type": "execute_result",
          "data": {
            "text/html": [
              "<div>\n",
              "<style scoped>\n",
              "    .dataframe tbody tr th:only-of-type {\n",
              "        vertical-align: middle;\n",
              "    }\n",
              "\n",
              "    .dataframe tbody tr th {\n",
              "        vertical-align: top;\n",
              "    }\n",
              "\n",
              "    .dataframe thead th {\n",
              "        text-align: right;\n",
              "    }\n",
              "</style>\n",
              "<table border=\"1\" class=\"dataframe\">\n",
              "  <thead>\n",
              "    <tr style=\"text-align: right;\">\n",
              "      <th></th>\n",
              "      <th>unix</th>\n",
              "      <th>date</th>\n",
              "      <th>symbol</th>\n",
              "      <th>open</th>\n",
              "      <th>high</th>\n",
              "      <th>low</th>\n",
              "      <th>close</th>\n",
              "      <th>Volume BTC</th>\n",
              "      <th>Volume USDT</th>\n",
              "      <th>tradecount</th>\n",
              "    </tr>\n",
              "  </thead>\n",
              "  <tbody>\n",
              "    <tr>\n",
              "      <th>330482</th>\n",
              "      <td>1599856800000</td>\n",
              "      <td>2020-09-11 20:40:00</td>\n",
              "      <td>BTC/USDT</td>\n",
              "      <td>10317.00</td>\n",
              "      <td>10317.01</td>\n",
              "      <td>10314.36</td>\n",
              "      <td>10316.00</td>\n",
              "      <td>32.997684</td>\n",
              "      <td>3.403985e+05</td>\n",
              "      <td>342</td>\n",
              "    </tr>\n",
              "    <tr>\n",
              "      <th>330481</th>\n",
              "      <td>1599856860000</td>\n",
              "      <td>2020-09-11 20:41:00</td>\n",
              "      <td>BTC/USDT</td>\n",
              "      <td>10316.00</td>\n",
              "      <td>10321.09</td>\n",
              "      <td>10316.00</td>\n",
              "      <td>10319.50</td>\n",
              "      <td>16.328427</td>\n",
              "      <td>1.684977e+05</td>\n",
              "      <td>256</td>\n",
              "    </tr>\n",
              "    <tr>\n",
              "      <th>330480</th>\n",
              "      <td>1599856920000</td>\n",
              "      <td>2020-09-11 20:42:00</td>\n",
              "      <td>BTC/USDT</td>\n",
              "      <td>10319.50</td>\n",
              "      <td>10320.31</td>\n",
              "      <td>10318.49</td>\n",
              "      <td>10319.34</td>\n",
              "      <td>12.123487</td>\n",
              "      <td>1.251089e+05</td>\n",
              "      <td>193</td>\n",
              "    </tr>\n",
              "    <tr>\n",
              "      <th>330479</th>\n",
              "      <td>1599856980000</td>\n",
              "      <td>2020-09-11 20:43:00</td>\n",
              "      <td>BTC/USDT</td>\n",
              "      <td>10319.34</td>\n",
              "      <td>10320.14</td>\n",
              "      <td>10318.89</td>\n",
              "      <td>10319.00</td>\n",
              "      <td>13.548103</td>\n",
              "      <td>1.398070e+05</td>\n",
              "      <td>187</td>\n",
              "    </tr>\n",
              "    <tr>\n",
              "      <th>330478</th>\n",
              "      <td>1599857040000</td>\n",
              "      <td>2020-09-11 20:44:00</td>\n",
              "      <td>BTC/USDT</td>\n",
              "      <td>10318.99</td>\n",
              "      <td>10319.72</td>\n",
              "      <td>10316.58</td>\n",
              "      <td>10319.47</td>\n",
              "      <td>14.466964</td>\n",
              "      <td>1.492667e+05</td>\n",
              "      <td>284</td>\n",
              "    </tr>\n",
              "    <tr>\n",
              "      <th>...</th>\n",
              "      <td>...</td>\n",
              "      <td>...</td>\n",
              "      <td>...</td>\n",
              "      <td>...</td>\n",
              "      <td>...</td>\n",
              "      <td>...</td>\n",
              "      <td>...</td>\n",
              "      <td>...</td>\n",
              "      <td>...</td>\n",
              "      <td>...</td>\n",
              "    </tr>\n",
              "    <tr>\n",
              "      <th>4</th>\n",
              "      <td>1619742660000</td>\n",
              "      <td>2021-04-30 00:31:00</td>\n",
              "      <td>BTC/USDT</td>\n",
              "      <td>53745.99</td>\n",
              "      <td>53816.36</td>\n",
              "      <td>53700.00</td>\n",
              "      <td>53780.39</td>\n",
              "      <td>169.848725</td>\n",
              "      <td>9.132947e+06</td>\n",
              "      <td>2568</td>\n",
              "    </tr>\n",
              "    <tr>\n",
              "      <th>3</th>\n",
              "      <td>1619742720000</td>\n",
              "      <td>2021-04-30 00:32:00</td>\n",
              "      <td>BTC/USDT</td>\n",
              "      <td>53780.39</td>\n",
              "      <td>53784.04</td>\n",
              "      <td>53674.52</td>\n",
              "      <td>53674.53</td>\n",
              "      <td>53.895245</td>\n",
              "      <td>2.895554e+06</td>\n",
              "      <td>1595</td>\n",
              "    </tr>\n",
              "    <tr>\n",
              "      <th>2</th>\n",
              "      <td>1619742780000</td>\n",
              "      <td>2021-04-30 00:33:00</td>\n",
              "      <td>BTC/USDT</td>\n",
              "      <td>53674.53</td>\n",
              "      <td>53691.13</td>\n",
              "      <td>53615.98</td>\n",
              "      <td>53677.39</td>\n",
              "      <td>81.940577</td>\n",
              "      <td>4.396348e+06</td>\n",
              "      <td>1621</td>\n",
              "    </tr>\n",
              "    <tr>\n",
              "      <th>1</th>\n",
              "      <td>1619742840000</td>\n",
              "      <td>2021-04-30 00:34:00</td>\n",
              "      <td>BTC/USDT</td>\n",
              "      <td>53677.39</td>\n",
              "      <td>53722.40</td>\n",
              "      <td>53564.00</td>\n",
              "      <td>53580.98</td>\n",
              "      <td>89.941874</td>\n",
              "      <td>4.823830e+06</td>\n",
              "      <td>1777</td>\n",
              "    </tr>\n",
              "    <tr>\n",
              "      <th>0</th>\n",
              "      <td>1619742900000</td>\n",
              "      <td>2021-04-30 00:35:00</td>\n",
              "      <td>BTC/USDT</td>\n",
              "      <td>53580.98</td>\n",
              "      <td>53604.23</td>\n",
              "      <td>53518.93</td>\n",
              "      <td>53529.89</td>\n",
              "      <td>35.290715</td>\n",
              "      <td>1.890619e+06</td>\n",
              "      <td>996</td>\n",
              "    </tr>\n",
              "  </tbody>\n",
              "</table>\n",
              "<p>330483 rows × 10 columns</p>\n",
              "</div>"
            ],
            "text/plain": [
              "                 unix                 date  ...   Volume USDT  tradecount\n",
              "330482  1599856800000  2020-09-11 20:40:00  ...  3.403985e+05         342\n",
              "330481  1599856860000  2020-09-11 20:41:00  ...  1.684977e+05         256\n",
              "330480  1599856920000  2020-09-11 20:42:00  ...  1.251089e+05         193\n",
              "330479  1599856980000  2020-09-11 20:43:00  ...  1.398070e+05         187\n",
              "330478  1599857040000  2020-09-11 20:44:00  ...  1.492667e+05         284\n",
              "...               ...                  ...  ...           ...         ...\n",
              "4       1619742660000  2021-04-30 00:31:00  ...  9.132947e+06        2568\n",
              "3       1619742720000  2021-04-30 00:32:00  ...  2.895554e+06        1595\n",
              "2       1619742780000  2021-04-30 00:33:00  ...  4.396348e+06        1621\n",
              "1       1619742840000  2021-04-30 00:34:00  ...  4.823830e+06        1777\n",
              "0       1619742900000  2021-04-30 00:35:00  ...  1.890619e+06         996\n",
              "\n",
              "[330483 rows x 10 columns]"
            ]
          },
          "metadata": {},
          "execution_count": 4
        }
      ]
    },
    {
      "cell_type": "code",
      "metadata": {
        "colab": {
          "base_uri": "https://localhost:8080/"
        },
        "id": "acGpcXyBrxYx",
        "outputId": "7659f271-4d11-4c41-e886-2b9117cc20a8"
      },
      "source": [
        "# Building features\n",
        "dataset['diff_pct_1'] = ((dataset['close'] / np.roll(dataset['close'], shift=(int(1)))) * 100) - 100\n",
        "dataset['diff_pct_5'] = ((dataset['close'] / np.roll(dataset['close'], shift=(int(5)))) * 100) - 100\n",
        "dataset['diff_pct_15'] = ((dataset['close'] / np.roll(dataset['close'], shift=(int(15)))) * 100) - 100\n",
        "dataset['diff_pct_22'] = ((dataset['close'] / np.roll(dataset['close'], shift=(int(22)))) * 100) - 100\n",
        "\n",
        "print(dataset.columns)\n",
        "print(dataset)"
      ],
      "execution_count": 5,
      "outputs": [
        {
          "output_type": "stream",
          "name": "stdout",
          "text": [
            "Index(['unix', 'date', 'symbol', 'open', 'high', 'low', 'close', 'Volume BTC',\n",
            "       'Volume USDT', 'tradecount', 'diff_pct_1', 'diff_pct_5', 'diff_pct_15',\n",
            "       'diff_pct_22'],\n",
            "      dtype='object')\n",
            "                 unix                 date  ... diff_pct_15  diff_pct_22\n",
            "330482  1599856800000  2020-09-11 20:40:00  ...  -80.610929   -80.668779\n",
            "330481  1599856860000  2020-09-11 20:41:00  ...  -80.614771   -80.676393\n",
            "330480  1599856920000  2020-09-11 20:42:00  ...  -80.616688   -80.629481\n",
            "330479  1599856980000  2020-09-11 20:43:00  ...  -80.588182   -80.576585\n",
            "330478  1599857040000  2020-09-11 20:44:00  ...  -80.618006   -80.559402\n",
            "...               ...                  ...  ...         ...          ...\n",
            "4       1619742660000  2021-04-30 00:31:00  ...    0.951619     0.988622\n",
            "3       1619742720000  2021-04-30 00:32:00  ...    1.031367     0.657491\n",
            "2       1619742780000  2021-04-30 00:33:00  ...    1.121528     0.577845\n",
            "1       1619742840000  2021-04-30 00:34:00  ...    0.856189     0.439316\n",
            "0       1619742900000  2021-04-30 00:35:00  ...    0.636797     0.244460\n",
            "\n",
            "[330483 rows x 14 columns]\n"
          ]
        }
      ]
    },
    {
      "cell_type": "code",
      "metadata": {
        "colab": {
          "base_uri": "https://localhost:8080/"
        },
        "id": "3pFPzw3TcfAy",
        "outputId": "64b852d3-a488-4764-a1ab-3d6a626ff5c7"
      },
      "source": [
        "# Drop useless columns\n",
        "\n",
        "print(dataset.columns)\n",
        "dataset = dataset.drop(['unix', 'date', 'symbol', 'Volume BTC', 'Volume USDT', 'open', 'low', 'high', 'tradecount'], axis=1)\n",
        "print(dataset)"
      ],
      "execution_count": 6,
      "outputs": [
        {
          "output_type": "stream",
          "name": "stdout",
          "text": [
            "Index(['unix', 'date', 'symbol', 'open', 'high', 'low', 'close', 'Volume BTC',\n",
            "       'Volume USDT', 'tradecount', 'diff_pct_1', 'diff_pct_5', 'diff_pct_15',\n",
            "       'diff_pct_22'],\n",
            "      dtype='object')\n",
            "           close  diff_pct_1  diff_pct_5  diff_pct_15  diff_pct_22\n",
            "330482  10316.00  -80.728524  -80.818287   -80.610929   -80.668779\n",
            "330481  10319.50    0.033928  -80.773935   -80.614771   -80.676393\n",
            "330480  10319.34   -0.001550  -80.775258   -80.616688   -80.629481\n",
            "330479  10319.00   -0.003295  -80.741300   -80.588182   -80.576585\n",
            "330478  10319.47    0.004555  -80.722041   -80.618006   -80.559402\n",
            "...          ...         ...         ...          ...          ...\n",
            "4       53780.39    0.063986    0.839126     0.951619     0.988622\n",
            "3       53674.53   -0.196838    0.549576     1.031367     0.657491\n",
            "2       53677.39    0.005328    0.427962     1.121528     0.577845\n",
            "1       53580.98   -0.179610   -0.077318     0.856189     0.439316\n",
            "0       53529.89   -0.095351   -0.402095     0.636797     0.244460\n",
            "\n",
            "[330483 rows x 5 columns]\n"
          ]
        }
      ]
    },
    {
      "cell_type": "code",
      "metadata": {
        "colab": {
          "base_uri": "https://localhost:8080/"
        },
        "id": "BL07_m50bJTS",
        "outputId": "c6178259-c8f9-4bc9-ce6f-65ce18c8c4d5"
      },
      "source": [
        "# Select last  5k rows\n",
        "dataset = dataset.tail(5000)\n",
        "\n",
        "# Split into train and test dataset\n",
        "dataset_train, dataset_test = dataset[1:4936], dataset[4935:]\n",
        "print(dataset_train.shape)\n",
        "print(dataset_test.shape)\n",
        "dataset_train = pd.DataFrame(dataset_train)\n",
        "dataset_test = pd.DataFrame(dataset_test)"
      ],
      "execution_count": 7,
      "outputs": [
        {
          "output_type": "stream",
          "name": "stdout",
          "text": [
            "(4935, 5)\n",
            "(65, 5)\n"
          ]
        }
      ]
    },
    {
      "cell_type": "code",
      "metadata": {
        "id": "YYkDFNa7cHH2"
      },
      "source": [
        "# Function to build X_train, X_test, y_train and y_test in the shape [n_samples, n_timesteps, n_features]\n",
        "\n",
        "def split_series(series, n_past, n_future):\n",
        "  #\n",
        "  # n_past ==> no of past observations\n",
        "  #\n",
        "  # n_future ==> no of future observations \n",
        "  #\n",
        "  X, y = list(), list()\n",
        "  for window_start in range(len(series)):\n",
        "    past_end = window_start + n_past\n",
        "    future_end = past_end + n_future\n",
        "    if future_end > len(series):\n",
        "      break\n",
        "    # slicing the past and future parts of the window\n",
        "    past, future = series[window_start:past_end, :], series[past_end:future_end, :]\n",
        "    X.append(past)\n",
        "    y.append(future)\n",
        "  return np.array(X), np.array(y)"
      ],
      "execution_count": 8,
      "outputs": []
    },
    {
      "cell_type": "code",
      "metadata": {
        "id": "1L-1A-ztcI0X"
      },
      "source": [
        "n_past = 50\n",
        "n_future = 15\n",
        "n_features = 5"
      ],
      "execution_count": 9,
      "outputs": []
    },
    {
      "cell_type": "code",
      "metadata": {
        "colab": {
          "base_uri": "https://localhost:8080/"
        },
        "id": "av49aKbBcBtr",
        "outputId": "a7caaf9a-126f-47e0-87e5-cae8af8a43fa"
      },
      "source": [
        "# Produce y_train and y_test (which will use only some normalized columns -close or diff_pct_15 features)\n",
        "\n",
        "train = dataset_train\n",
        "scalers={}\n",
        "for i in dataset_train.columns:\n",
        "    scaler = MinMaxScaler(feature_range=(-1,1))\n",
        "    s_s = scaler.fit_transform(train[i].values.reshape(-1,1))\n",
        "    s_s=np.reshape(s_s,len(s_s))\n",
        "    scalers['scaler_'+ str(i)] = scaler\n",
        "    train[i]=s_s\n",
        "test = dataset_test\n",
        "for i in dataset_test.columns:\n",
        "    scaler = scalers['scaler_'+ str(i)]\n",
        "    s_s = scaler.transform(test[i].values.reshape(-1,1))\n",
        "    s_s=np.reshape(s_s,len(s_s))\n",
        "    scalers['scaler_'+ str(i)] = scaler\n",
        "    test[i]=s_s\n",
        "print(test.shape)"
      ],
      "execution_count": 10,
      "outputs": [
        {
          "output_type": "stream",
          "name": "stdout",
          "text": [
            "(65, 5)\n"
          ]
        }
      ]
    },
    {
      "cell_type": "code",
      "metadata": {
        "colab": {
          "base_uri": "https://localhost:8080/"
        },
        "id": "W1x8H-UDc8EL",
        "outputId": "e1e18812-9808-45ae-a8e9-81b7b5ebac3c"
      },
      "source": [
        "X_train, y_train = split_series(train.values,n_past, n_future)\n",
        "X_train = X_train.reshape((X_train.shape[0], X_train.shape[1],n_features))\n",
        "y_train = y_train.reshape((y_train.shape[0], y_train.shape[1], n_features))\n",
        "X_test, y_test = split_series(test.values, n_past, n_future)\n",
        "X_test = X_test.reshape((X_test.shape[0], X_test.shape[1],n_features))\n",
        "y_test = y_test.reshape((y_test.shape[0], y_test.shape[1], n_features))\n",
        "\n",
        "print(\"X_train.shape\", X_train.shape)\n",
        "print(\"X_test.shape\", X_test.shape)\n",
        "print(\"y_train.shape\", y_train.shape)\n",
        "print(\"y_test.shape\", y_test.shape)"
      ],
      "execution_count": 11,
      "outputs": [
        {
          "output_type": "stream",
          "name": "stdout",
          "text": [
            "X_train.shape (4871, 50, 5)\n",
            "X_test.shape (1, 50, 5)\n",
            "y_train.shape (4871, 15, 5)\n",
            "y_test.shape (1, 15, 5)\n"
          ]
        }
      ]
    },
    {
      "cell_type": "code",
      "metadata": {
        "colab": {
          "base_uri": "https://localhost:8080/"
        },
        "id": "_B4L-wInnGUr",
        "outputId": "3dde83e0-341f-4e2a-e3f4-0acc9037da8f"
      },
      "source": [
        "# Select only close feature from y_train and y_test\n",
        "\n",
        "y_train = y_train[:, :, 3:4]\n",
        "y_test = y_test[:, :, 3:4]\n",
        "\n",
        "print(y_train.shape)\n",
        "print(y_test.shape)\n",
        "\n",
        "X_train = X_train[:, :, 1:5]\n",
        "X_test = X_test[:, : , 1:5]\n",
        "\n",
        "print(\"X_train.shape\", X_train.shape)\n",
        "print(\"X_test.shape\", X_test.shape)"
      ],
      "execution_count": 12,
      "outputs": [
        {
          "output_type": "stream",
          "name": "stdout",
          "text": [
            "(4871, 15, 1)\n",
            "(1, 15, 1)\n",
            "X_train.shape (4871, 50, 4)\n",
            "X_test.shape (1, 50, 4)\n"
          ]
        }
      ]
    },
    {
      "cell_type": "code",
      "metadata": {
        "colab": {
          "base_uri": "https://localhost:8080/"
        },
        "id": "jEHnUMN-dA_q",
        "outputId": "69953927-5917-4f14-e0a8-f7318cd8da54"
      },
      "source": [
        "# Encoder Decoder LSTM\n",
        "# n_features ==> no of features at each timestep in the data.\n",
        "#\n",
        "\n",
        "dropout = 0.2\n",
        "\n",
        "encoder_inputs = tf.keras.layers.Input(shape=(n_past, X_train.shape[2]))\n",
        "encoder_l1 = tf.keras.layers.LSTM(150, return_state=True, dropout=dropout)\n",
        "encoder_outputs1 = encoder_l1(encoder_inputs)\n",
        "\n",
        "encoder_states1 = encoder_outputs1[1:]\n",
        "\n",
        "#\n",
        "decoder_inputs = tf.keras.layers.RepeatVector(n_future)(encoder_outputs1[0])\n",
        "\n",
        "#\n",
        "decoder_l1 = tf.keras.layers.LSTM(150, return_sequences=True, dropout=dropout)(decoder_inputs,initial_state = encoder_states1)\n",
        "decoder_outputs1 = tf.keras.layers.TimeDistributed(tf.keras.layers.Dense(y_test.shape[2]))(decoder_l1)\n",
        "\n",
        "#\n",
        "model= tf.keras.models.Model(encoder_inputs,decoder_outputs1)\n",
        "\n",
        "#\n",
        "model.summary()"
      ],
      "execution_count": 13,
      "outputs": [
        {
          "output_type": "stream",
          "name": "stdout",
          "text": [
            "Model: \"model\"\n",
            "__________________________________________________________________________________________________\n",
            "Layer (type)                    Output Shape         Param #     Connected to                     \n",
            "==================================================================================================\n",
            "input_1 (InputLayer)            [(None, 50, 4)]      0                                            \n",
            "__________________________________________________________________________________________________\n",
            "lstm (LSTM)                     [(None, 100), (None, 42000       input_1[0][0]                    \n",
            "__________________________________________________________________________________________________\n",
            "repeat_vector (RepeatVector)    (None, 15, 100)      0           lstm[0][0]                       \n",
            "__________________________________________________________________________________________________\n",
            "lstm_1 (LSTM)                   (None, 15, 100)      80400       repeat_vector[0][0]              \n",
            "                                                                 lstm[0][1]                       \n",
            "                                                                 lstm[0][2]                       \n",
            "__________________________________________________________________________________________________\n",
            "time_distributed (TimeDistribut (None, 15, 1)        101         lstm_1[0][0]                     \n",
            "==================================================================================================\n",
            "Total params: 122,501\n",
            "Trainable params: 122,501\n",
            "Non-trainable params: 0\n",
            "__________________________________________________________________________________________________\n"
          ]
        }
      ]
    },
    {
      "cell_type": "code",
      "metadata": {
        "colab": {
          "base_uri": "https://localhost:8080/"
        },
        "id": "eNTzc4MfYVfB",
        "outputId": "8e65a85e-ac9d-4af5-b198-f27083958269"
      },
      "source": [
        "filepath = '/content/checkpoint_1/model{epoch:d}'\n",
        "checkpoint = tf.keras.callbacks.ModelCheckpoint(\n",
        "    filepath=filepath,\n",
        "    period = 5)"
      ],
      "execution_count": 14,
      "outputs": [
        {
          "output_type": "stream",
          "name": "stdout",
          "text": [
            "WARNING:tensorflow:`period` argument is deprecated. Please use `save_freq` to specify the frequency in number of batches seen.\n"
          ]
        }
      ]
    },
    {
      "cell_type": "code",
      "metadata": {
        "colab": {
          "base_uri": "https://localhost:8080/"
        },
        "id": "MqQKknaidHzT",
        "outputId": "6665211d-3eea-46b7-ecc6-be061dcceeae"
      },
      "source": [
        "reduce_lr = tf.keras.callbacks.LearningRateScheduler(lambda x: 1e-3 * 0.90 ** x)\n",
        "model.compile(optimizer=tf.keras.optimizers.Adam(), loss=tf.keras.losses.Huber())\n",
        "history=model.fit(X_train,y_train,epochs=50,validation_data=(X_test,y_test),batch_size=32,verbose=1,callbacks=[checkpoint, reduce_lr])"
      ],
      "execution_count": 15,
      "outputs": [
        {
          "output_type": "stream",
          "name": "stdout",
          "text": [
            "Epoch 1/50\n",
            "153/153 [==============================] - 12s 26ms/step - loss: 0.0056 - val_loss: 0.0307\n"
          ]
        },
        {
          "output_type": "stream",
          "name": "stderr",
          "text": [
            "WARNING:absl:Found untraced functions such as lstm_cell_layer_call_and_return_conditional_losses, lstm_cell_layer_call_fn, lstm_cell_1_layer_call_and_return_conditional_losses, lstm_cell_1_layer_call_fn, lstm_cell_layer_call_fn while saving (showing 5 of 10). These functions will not be directly callable after loading.\n"
          ]
        },
        {
          "output_type": "stream",
          "name": "stdout",
          "text": [
            "INFO:tensorflow:Assets written to: /content/checkpoint_1/model1/assets\n"
          ]
        },
        {
          "output_type": "stream",
          "name": "stderr",
          "text": [
            "INFO:tensorflow:Assets written to: /content/checkpoint_1/model1/assets\n"
          ]
        },
        {
          "output_type": "stream",
          "name": "stdout",
          "text": [
            "Epoch 2/50\n",
            "153/153 [==============================] - 3s 21ms/step - loss: 0.0049 - val_loss: 0.0259\n"
          ]
        },
        {
          "output_type": "stream",
          "name": "stderr",
          "text": [
            "WARNING:absl:Found untraced functions such as lstm_cell_layer_call_and_return_conditional_losses, lstm_cell_layer_call_fn, lstm_cell_1_layer_call_and_return_conditional_losses, lstm_cell_1_layer_call_fn, lstm_cell_layer_call_fn while saving (showing 5 of 10). These functions will not be directly callable after loading.\n"
          ]
        },
        {
          "output_type": "stream",
          "name": "stdout",
          "text": [
            "INFO:tensorflow:Assets written to: /content/checkpoint_1/model2/assets\n"
          ]
        },
        {
          "output_type": "stream",
          "name": "stderr",
          "text": [
            "INFO:tensorflow:Assets written to: /content/checkpoint_1/model2/assets\n"
          ]
        },
        {
          "output_type": "stream",
          "name": "stdout",
          "text": [
            "Epoch 3/50\n",
            "153/153 [==============================] - 3s 20ms/step - loss: 0.0047 - val_loss: 0.0210\n"
          ]
        },
        {
          "output_type": "stream",
          "name": "stderr",
          "text": [
            "WARNING:absl:Found untraced functions such as lstm_cell_layer_call_and_return_conditional_losses, lstm_cell_layer_call_fn, lstm_cell_1_layer_call_and_return_conditional_losses, lstm_cell_1_layer_call_fn, lstm_cell_layer_call_fn while saving (showing 5 of 10). These functions will not be directly callable after loading.\n"
          ]
        },
        {
          "output_type": "stream",
          "name": "stdout",
          "text": [
            "INFO:tensorflow:Assets written to: /content/checkpoint_1/model3/assets\n"
          ]
        },
        {
          "output_type": "stream",
          "name": "stderr",
          "text": [
            "INFO:tensorflow:Assets written to: /content/checkpoint_1/model3/assets\n"
          ]
        },
        {
          "output_type": "stream",
          "name": "stdout",
          "text": [
            "Epoch 4/50\n",
            "153/153 [==============================] - 3s 21ms/step - loss: 0.0046 - val_loss: 0.0274\n"
          ]
        },
        {
          "output_type": "stream",
          "name": "stderr",
          "text": [
            "WARNING:absl:Found untraced functions such as lstm_cell_layer_call_and_return_conditional_losses, lstm_cell_layer_call_fn, lstm_cell_1_layer_call_and_return_conditional_losses, lstm_cell_1_layer_call_fn, lstm_cell_layer_call_fn while saving (showing 5 of 10). These functions will not be directly callable after loading.\n"
          ]
        },
        {
          "output_type": "stream",
          "name": "stdout",
          "text": [
            "INFO:tensorflow:Assets written to: /content/checkpoint_1/model4/assets\n"
          ]
        },
        {
          "output_type": "stream",
          "name": "stderr",
          "text": [
            "INFO:tensorflow:Assets written to: /content/checkpoint_1/model4/assets\n"
          ]
        },
        {
          "output_type": "stream",
          "name": "stdout",
          "text": [
            "Epoch 5/50\n",
            "153/153 [==============================] - 3s 21ms/step - loss: 0.0045 - val_loss: 0.0222\n"
          ]
        },
        {
          "output_type": "stream",
          "name": "stderr",
          "text": [
            "WARNING:absl:Found untraced functions such as lstm_cell_layer_call_and_return_conditional_losses, lstm_cell_layer_call_fn, lstm_cell_1_layer_call_and_return_conditional_losses, lstm_cell_1_layer_call_fn, lstm_cell_layer_call_fn while saving (showing 5 of 10). These functions will not be directly callable after loading.\n"
          ]
        },
        {
          "output_type": "stream",
          "name": "stdout",
          "text": [
            "INFO:tensorflow:Assets written to: /content/checkpoint_1/model5/assets\n"
          ]
        },
        {
          "output_type": "stream",
          "name": "stderr",
          "text": [
            "INFO:tensorflow:Assets written to: /content/checkpoint_1/model5/assets\n"
          ]
        },
        {
          "output_type": "stream",
          "name": "stdout",
          "text": [
            "Epoch 6/50\n",
            "153/153 [==============================] - 3s 20ms/step - loss: 0.0046 - val_loss: 0.0183\n"
          ]
        },
        {
          "output_type": "stream",
          "name": "stderr",
          "text": [
            "WARNING:absl:Found untraced functions such as lstm_cell_layer_call_and_return_conditional_losses, lstm_cell_layer_call_fn, lstm_cell_1_layer_call_and_return_conditional_losses, lstm_cell_1_layer_call_fn, lstm_cell_layer_call_fn while saving (showing 5 of 10). These functions will not be directly callable after loading.\n"
          ]
        },
        {
          "output_type": "stream",
          "name": "stdout",
          "text": [
            "INFO:tensorflow:Assets written to: /content/checkpoint_1/model6/assets\n"
          ]
        },
        {
          "output_type": "stream",
          "name": "stderr",
          "text": [
            "INFO:tensorflow:Assets written to: /content/checkpoint_1/model6/assets\n"
          ]
        },
        {
          "output_type": "stream",
          "name": "stdout",
          "text": [
            "Epoch 7/50\n",
            "153/153 [==============================] - 3s 21ms/step - loss: 0.0045 - val_loss: 0.0249\n"
          ]
        },
        {
          "output_type": "stream",
          "name": "stderr",
          "text": [
            "WARNING:absl:Found untraced functions such as lstm_cell_layer_call_and_return_conditional_losses, lstm_cell_layer_call_fn, lstm_cell_1_layer_call_and_return_conditional_losses, lstm_cell_1_layer_call_fn, lstm_cell_layer_call_fn while saving (showing 5 of 10). These functions will not be directly callable after loading.\n"
          ]
        },
        {
          "output_type": "stream",
          "name": "stdout",
          "text": [
            "INFO:tensorflow:Assets written to: /content/checkpoint_1/model7/assets\n"
          ]
        },
        {
          "output_type": "stream",
          "name": "stderr",
          "text": [
            "INFO:tensorflow:Assets written to: /content/checkpoint_1/model7/assets\n"
          ]
        },
        {
          "output_type": "stream",
          "name": "stdout",
          "text": [
            "Epoch 8/50\n",
            "153/153 [==============================] - 3s 21ms/step - loss: 0.0043 - val_loss: 0.0208\n"
          ]
        },
        {
          "output_type": "stream",
          "name": "stderr",
          "text": [
            "WARNING:absl:Found untraced functions such as lstm_cell_layer_call_and_return_conditional_losses, lstm_cell_layer_call_fn, lstm_cell_1_layer_call_and_return_conditional_losses, lstm_cell_1_layer_call_fn, lstm_cell_layer_call_fn while saving (showing 5 of 10). These functions will not be directly callable after loading.\n"
          ]
        },
        {
          "output_type": "stream",
          "name": "stdout",
          "text": [
            "INFO:tensorflow:Assets written to: /content/checkpoint_1/model8/assets\n"
          ]
        },
        {
          "output_type": "stream",
          "name": "stderr",
          "text": [
            "INFO:tensorflow:Assets written to: /content/checkpoint_1/model8/assets\n"
          ]
        },
        {
          "output_type": "stream",
          "name": "stdout",
          "text": [
            "Epoch 9/50\n",
            "153/153 [==============================] - 3s 21ms/step - loss: 0.0043 - val_loss: 0.0219\n"
          ]
        },
        {
          "output_type": "stream",
          "name": "stderr",
          "text": [
            "WARNING:absl:Found untraced functions such as lstm_cell_layer_call_and_return_conditional_losses, lstm_cell_layer_call_fn, lstm_cell_1_layer_call_and_return_conditional_losses, lstm_cell_1_layer_call_fn, lstm_cell_layer_call_fn while saving (showing 5 of 10). These functions will not be directly callable after loading.\n"
          ]
        },
        {
          "output_type": "stream",
          "name": "stdout",
          "text": [
            "INFO:tensorflow:Assets written to: /content/checkpoint_1/model9/assets\n"
          ]
        },
        {
          "output_type": "stream",
          "name": "stderr",
          "text": [
            "INFO:tensorflow:Assets written to: /content/checkpoint_1/model9/assets\n"
          ]
        },
        {
          "output_type": "stream",
          "name": "stdout",
          "text": [
            "Epoch 10/50\n",
            "153/153 [==============================] - 3s 21ms/step - loss: 0.0043 - val_loss: 0.0198\n"
          ]
        },
        {
          "output_type": "stream",
          "name": "stderr",
          "text": [
            "WARNING:absl:Found untraced functions such as lstm_cell_layer_call_and_return_conditional_losses, lstm_cell_layer_call_fn, lstm_cell_1_layer_call_and_return_conditional_losses, lstm_cell_1_layer_call_fn, lstm_cell_layer_call_fn while saving (showing 5 of 10). These functions will not be directly callable after loading.\n"
          ]
        },
        {
          "output_type": "stream",
          "name": "stdout",
          "text": [
            "INFO:tensorflow:Assets written to: /content/checkpoint_1/model10/assets\n"
          ]
        },
        {
          "output_type": "stream",
          "name": "stderr",
          "text": [
            "INFO:tensorflow:Assets written to: /content/checkpoint_1/model10/assets\n"
          ]
        },
        {
          "output_type": "stream",
          "name": "stdout",
          "text": [
            "Epoch 11/50\n",
            "153/153 [==============================] - 3s 21ms/step - loss: 0.0042 - val_loss: 0.0226\n"
          ]
        },
        {
          "output_type": "stream",
          "name": "stderr",
          "text": [
            "WARNING:absl:Found untraced functions such as lstm_cell_layer_call_and_return_conditional_losses, lstm_cell_layer_call_fn, lstm_cell_1_layer_call_and_return_conditional_losses, lstm_cell_1_layer_call_fn, lstm_cell_layer_call_fn while saving (showing 5 of 10). These functions will not be directly callable after loading.\n"
          ]
        },
        {
          "output_type": "stream",
          "name": "stdout",
          "text": [
            "INFO:tensorflow:Assets written to: /content/checkpoint_1/model11/assets\n"
          ]
        },
        {
          "output_type": "stream",
          "name": "stderr",
          "text": [
            "INFO:tensorflow:Assets written to: /content/checkpoint_1/model11/assets\n"
          ]
        },
        {
          "output_type": "stream",
          "name": "stdout",
          "text": [
            "Epoch 12/50\n",
            "153/153 [==============================] - 3s 21ms/step - loss: 0.0041 - val_loss: 0.0204\n"
          ]
        },
        {
          "output_type": "stream",
          "name": "stderr",
          "text": [
            "WARNING:absl:Found untraced functions such as lstm_cell_layer_call_and_return_conditional_losses, lstm_cell_layer_call_fn, lstm_cell_1_layer_call_and_return_conditional_losses, lstm_cell_1_layer_call_fn, lstm_cell_layer_call_fn while saving (showing 5 of 10). These functions will not be directly callable after loading.\n"
          ]
        },
        {
          "output_type": "stream",
          "name": "stdout",
          "text": [
            "INFO:tensorflow:Assets written to: /content/checkpoint_1/model12/assets\n"
          ]
        },
        {
          "output_type": "stream",
          "name": "stderr",
          "text": [
            "INFO:tensorflow:Assets written to: /content/checkpoint_1/model12/assets\n"
          ]
        },
        {
          "output_type": "stream",
          "name": "stdout",
          "text": [
            "Epoch 13/50\n",
            "153/153 [==============================] - 3s 21ms/step - loss: 0.0041 - val_loss: 0.0192\n"
          ]
        },
        {
          "output_type": "stream",
          "name": "stderr",
          "text": [
            "WARNING:absl:Found untraced functions such as lstm_cell_layer_call_and_return_conditional_losses, lstm_cell_layer_call_fn, lstm_cell_1_layer_call_and_return_conditional_losses, lstm_cell_1_layer_call_fn, lstm_cell_layer_call_fn while saving (showing 5 of 10). These functions will not be directly callable after loading.\n"
          ]
        },
        {
          "output_type": "stream",
          "name": "stdout",
          "text": [
            "INFO:tensorflow:Assets written to: /content/checkpoint_1/model13/assets\n"
          ]
        },
        {
          "output_type": "stream",
          "name": "stderr",
          "text": [
            "INFO:tensorflow:Assets written to: /content/checkpoint_1/model13/assets\n"
          ]
        },
        {
          "output_type": "stream",
          "name": "stdout",
          "text": [
            "Epoch 14/50\n",
            "153/153 [==============================] - 3s 21ms/step - loss: 0.0042 - val_loss: 0.0186\n"
          ]
        },
        {
          "output_type": "stream",
          "name": "stderr",
          "text": [
            "WARNING:absl:Found untraced functions such as lstm_cell_layer_call_and_return_conditional_losses, lstm_cell_layer_call_fn, lstm_cell_1_layer_call_and_return_conditional_losses, lstm_cell_1_layer_call_fn, lstm_cell_layer_call_fn while saving (showing 5 of 10). These functions will not be directly callable after loading.\n"
          ]
        },
        {
          "output_type": "stream",
          "name": "stdout",
          "text": [
            "INFO:tensorflow:Assets written to: /content/checkpoint_1/model14/assets\n"
          ]
        },
        {
          "output_type": "stream",
          "name": "stderr",
          "text": [
            "INFO:tensorflow:Assets written to: /content/checkpoint_1/model14/assets\n"
          ]
        },
        {
          "output_type": "stream",
          "name": "stdout",
          "text": [
            "Epoch 15/50\n",
            "153/153 [==============================] - 3s 21ms/step - loss: 0.0041 - val_loss: 0.0186\n"
          ]
        },
        {
          "output_type": "stream",
          "name": "stderr",
          "text": [
            "WARNING:absl:Found untraced functions such as lstm_cell_layer_call_and_return_conditional_losses, lstm_cell_layer_call_fn, lstm_cell_1_layer_call_and_return_conditional_losses, lstm_cell_1_layer_call_fn, lstm_cell_layer_call_fn while saving (showing 5 of 10). These functions will not be directly callable after loading.\n"
          ]
        },
        {
          "output_type": "stream",
          "name": "stdout",
          "text": [
            "INFO:tensorflow:Assets written to: /content/checkpoint_1/model15/assets\n"
          ]
        },
        {
          "output_type": "stream",
          "name": "stderr",
          "text": [
            "INFO:tensorflow:Assets written to: /content/checkpoint_1/model15/assets\n"
          ]
        },
        {
          "output_type": "stream",
          "name": "stdout",
          "text": [
            "Epoch 16/50\n",
            "153/153 [==============================] - 3s 21ms/step - loss: 0.0041 - val_loss: 0.0169\n"
          ]
        },
        {
          "output_type": "stream",
          "name": "stderr",
          "text": [
            "WARNING:absl:Found untraced functions such as lstm_cell_layer_call_and_return_conditional_losses, lstm_cell_layer_call_fn, lstm_cell_1_layer_call_and_return_conditional_losses, lstm_cell_1_layer_call_fn, lstm_cell_layer_call_fn while saving (showing 5 of 10). These functions will not be directly callable after loading.\n"
          ]
        },
        {
          "output_type": "stream",
          "name": "stdout",
          "text": [
            "INFO:tensorflow:Assets written to: /content/checkpoint_1/model16/assets\n"
          ]
        },
        {
          "output_type": "stream",
          "name": "stderr",
          "text": [
            "INFO:tensorflow:Assets written to: /content/checkpoint_1/model16/assets\n"
          ]
        },
        {
          "output_type": "stream",
          "name": "stdout",
          "text": [
            "Epoch 17/50\n",
            "153/153 [==============================] - 3s 21ms/step - loss: 0.0041 - val_loss: 0.0174\n"
          ]
        },
        {
          "output_type": "stream",
          "name": "stderr",
          "text": [
            "WARNING:absl:Found untraced functions such as lstm_cell_layer_call_and_return_conditional_losses, lstm_cell_layer_call_fn, lstm_cell_1_layer_call_and_return_conditional_losses, lstm_cell_1_layer_call_fn, lstm_cell_layer_call_fn while saving (showing 5 of 10). These functions will not be directly callable after loading.\n"
          ]
        },
        {
          "output_type": "stream",
          "name": "stdout",
          "text": [
            "INFO:tensorflow:Assets written to: /content/checkpoint_1/model17/assets\n"
          ]
        },
        {
          "output_type": "stream",
          "name": "stderr",
          "text": [
            "INFO:tensorflow:Assets written to: /content/checkpoint_1/model17/assets\n"
          ]
        },
        {
          "output_type": "stream",
          "name": "stdout",
          "text": [
            "Epoch 18/50\n",
            "153/153 [==============================] - 3s 21ms/step - loss: 0.0041 - val_loss: 0.0192\n"
          ]
        },
        {
          "output_type": "stream",
          "name": "stderr",
          "text": [
            "WARNING:absl:Found untraced functions such as lstm_cell_layer_call_and_return_conditional_losses, lstm_cell_layer_call_fn, lstm_cell_1_layer_call_and_return_conditional_losses, lstm_cell_1_layer_call_fn, lstm_cell_layer_call_fn while saving (showing 5 of 10). These functions will not be directly callable after loading.\n"
          ]
        },
        {
          "output_type": "stream",
          "name": "stdout",
          "text": [
            "INFO:tensorflow:Assets written to: /content/checkpoint_1/model18/assets\n"
          ]
        },
        {
          "output_type": "stream",
          "name": "stderr",
          "text": [
            "INFO:tensorflow:Assets written to: /content/checkpoint_1/model18/assets\n"
          ]
        },
        {
          "output_type": "stream",
          "name": "stdout",
          "text": [
            "Epoch 19/50\n",
            "153/153 [==============================] - 3s 21ms/step - loss: 0.0041 - val_loss: 0.0197\n"
          ]
        },
        {
          "output_type": "stream",
          "name": "stderr",
          "text": [
            "WARNING:absl:Found untraced functions such as lstm_cell_layer_call_and_return_conditional_losses, lstm_cell_layer_call_fn, lstm_cell_1_layer_call_and_return_conditional_losses, lstm_cell_1_layer_call_fn, lstm_cell_layer_call_fn while saving (showing 5 of 10). These functions will not be directly callable after loading.\n"
          ]
        },
        {
          "output_type": "stream",
          "name": "stdout",
          "text": [
            "INFO:tensorflow:Assets written to: /content/checkpoint_1/model19/assets\n"
          ]
        },
        {
          "output_type": "stream",
          "name": "stderr",
          "text": [
            "INFO:tensorflow:Assets written to: /content/checkpoint_1/model19/assets\n"
          ]
        },
        {
          "output_type": "stream",
          "name": "stdout",
          "text": [
            "Epoch 20/50\n",
            "153/153 [==============================] - 3s 21ms/step - loss: 0.0040 - val_loss: 0.0180\n"
          ]
        },
        {
          "output_type": "stream",
          "name": "stderr",
          "text": [
            "WARNING:absl:Found untraced functions such as lstm_cell_layer_call_and_return_conditional_losses, lstm_cell_layer_call_fn, lstm_cell_1_layer_call_and_return_conditional_losses, lstm_cell_1_layer_call_fn, lstm_cell_layer_call_fn while saving (showing 5 of 10). These functions will not be directly callable after loading.\n"
          ]
        },
        {
          "output_type": "stream",
          "name": "stdout",
          "text": [
            "INFO:tensorflow:Assets written to: /content/checkpoint_1/model20/assets\n"
          ]
        },
        {
          "output_type": "stream",
          "name": "stderr",
          "text": [
            "INFO:tensorflow:Assets written to: /content/checkpoint_1/model20/assets\n"
          ]
        },
        {
          "output_type": "stream",
          "name": "stdout",
          "text": [
            "Epoch 21/50\n",
            "153/153 [==============================] - 3s 20ms/step - loss: 0.0041 - val_loss: 0.0189\n"
          ]
        },
        {
          "output_type": "stream",
          "name": "stderr",
          "text": [
            "WARNING:absl:Found untraced functions such as lstm_cell_layer_call_and_return_conditional_losses, lstm_cell_layer_call_fn, lstm_cell_1_layer_call_and_return_conditional_losses, lstm_cell_1_layer_call_fn, lstm_cell_layer_call_fn while saving (showing 5 of 10). These functions will not be directly callable after loading.\n"
          ]
        },
        {
          "output_type": "stream",
          "name": "stdout",
          "text": [
            "INFO:tensorflow:Assets written to: /content/checkpoint_1/model21/assets\n"
          ]
        },
        {
          "output_type": "stream",
          "name": "stderr",
          "text": [
            "INFO:tensorflow:Assets written to: /content/checkpoint_1/model21/assets\n"
          ]
        },
        {
          "output_type": "stream",
          "name": "stdout",
          "text": [
            "Epoch 22/50\n",
            "153/153 [==============================] - 3s 21ms/step - loss: 0.0040 - val_loss: 0.0192\n"
          ]
        },
        {
          "output_type": "stream",
          "name": "stderr",
          "text": [
            "WARNING:absl:Found untraced functions such as lstm_cell_layer_call_and_return_conditional_losses, lstm_cell_layer_call_fn, lstm_cell_1_layer_call_and_return_conditional_losses, lstm_cell_1_layer_call_fn, lstm_cell_layer_call_fn while saving (showing 5 of 10). These functions will not be directly callable after loading.\n"
          ]
        },
        {
          "output_type": "stream",
          "name": "stdout",
          "text": [
            "INFO:tensorflow:Assets written to: /content/checkpoint_1/model22/assets\n"
          ]
        },
        {
          "output_type": "stream",
          "name": "stderr",
          "text": [
            "INFO:tensorflow:Assets written to: /content/checkpoint_1/model22/assets\n"
          ]
        },
        {
          "output_type": "stream",
          "name": "stdout",
          "text": [
            "Epoch 23/50\n",
            "153/153 [==============================] - 3s 21ms/step - loss: 0.0041 - val_loss: 0.0183\n"
          ]
        },
        {
          "output_type": "stream",
          "name": "stderr",
          "text": [
            "WARNING:absl:Found untraced functions such as lstm_cell_layer_call_and_return_conditional_losses, lstm_cell_layer_call_fn, lstm_cell_1_layer_call_and_return_conditional_losses, lstm_cell_1_layer_call_fn, lstm_cell_layer_call_fn while saving (showing 5 of 10). These functions will not be directly callable after loading.\n"
          ]
        },
        {
          "output_type": "stream",
          "name": "stdout",
          "text": [
            "INFO:tensorflow:Assets written to: /content/checkpoint_1/model23/assets\n"
          ]
        },
        {
          "output_type": "stream",
          "name": "stderr",
          "text": [
            "INFO:tensorflow:Assets written to: /content/checkpoint_1/model23/assets\n"
          ]
        },
        {
          "output_type": "stream",
          "name": "stdout",
          "text": [
            "Epoch 24/50\n",
            "153/153 [==============================] - 3s 21ms/step - loss: 0.0041 - val_loss: 0.0202\n"
          ]
        },
        {
          "output_type": "stream",
          "name": "stderr",
          "text": [
            "WARNING:absl:Found untraced functions such as lstm_cell_layer_call_and_return_conditional_losses, lstm_cell_layer_call_fn, lstm_cell_1_layer_call_and_return_conditional_losses, lstm_cell_1_layer_call_fn, lstm_cell_layer_call_fn while saving (showing 5 of 10). These functions will not be directly callable after loading.\n"
          ]
        },
        {
          "output_type": "stream",
          "name": "stdout",
          "text": [
            "INFO:tensorflow:Assets written to: /content/checkpoint_1/model24/assets\n"
          ]
        },
        {
          "output_type": "stream",
          "name": "stderr",
          "text": [
            "INFO:tensorflow:Assets written to: /content/checkpoint_1/model24/assets\n"
          ]
        },
        {
          "output_type": "stream",
          "name": "stdout",
          "text": [
            "Epoch 25/50\n",
            "153/153 [==============================] - 3s 21ms/step - loss: 0.0040 - val_loss: 0.0196\n"
          ]
        },
        {
          "output_type": "stream",
          "name": "stderr",
          "text": [
            "WARNING:absl:Found untraced functions such as lstm_cell_layer_call_and_return_conditional_losses, lstm_cell_layer_call_fn, lstm_cell_1_layer_call_and_return_conditional_losses, lstm_cell_1_layer_call_fn, lstm_cell_layer_call_fn while saving (showing 5 of 10). These functions will not be directly callable after loading.\n"
          ]
        },
        {
          "output_type": "stream",
          "name": "stdout",
          "text": [
            "INFO:tensorflow:Assets written to: /content/checkpoint_1/model25/assets\n"
          ]
        },
        {
          "output_type": "stream",
          "name": "stderr",
          "text": [
            "INFO:tensorflow:Assets written to: /content/checkpoint_1/model25/assets\n"
          ]
        },
        {
          "output_type": "stream",
          "name": "stdout",
          "text": [
            "Epoch 26/50\n",
            "153/153 [==============================] - 3s 21ms/step - loss: 0.0041 - val_loss: 0.0197\n"
          ]
        },
        {
          "output_type": "stream",
          "name": "stderr",
          "text": [
            "WARNING:absl:Found untraced functions such as lstm_cell_layer_call_and_return_conditional_losses, lstm_cell_layer_call_fn, lstm_cell_1_layer_call_and_return_conditional_losses, lstm_cell_1_layer_call_fn, lstm_cell_layer_call_fn while saving (showing 5 of 10). These functions will not be directly callable after loading.\n"
          ]
        },
        {
          "output_type": "stream",
          "name": "stdout",
          "text": [
            "INFO:tensorflow:Assets written to: /content/checkpoint_1/model26/assets\n"
          ]
        },
        {
          "output_type": "stream",
          "name": "stderr",
          "text": [
            "INFO:tensorflow:Assets written to: /content/checkpoint_1/model26/assets\n"
          ]
        },
        {
          "output_type": "stream",
          "name": "stdout",
          "text": [
            "Epoch 27/50\n",
            "153/153 [==============================] - 3s 21ms/step - loss: 0.0040 - val_loss: 0.0191\n"
          ]
        },
        {
          "output_type": "stream",
          "name": "stderr",
          "text": [
            "WARNING:absl:Found untraced functions such as lstm_cell_layer_call_and_return_conditional_losses, lstm_cell_layer_call_fn, lstm_cell_1_layer_call_and_return_conditional_losses, lstm_cell_1_layer_call_fn, lstm_cell_layer_call_fn while saving (showing 5 of 10). These functions will not be directly callable after loading.\n"
          ]
        },
        {
          "output_type": "stream",
          "name": "stdout",
          "text": [
            "INFO:tensorflow:Assets written to: /content/checkpoint_1/model27/assets\n"
          ]
        },
        {
          "output_type": "stream",
          "name": "stderr",
          "text": [
            "INFO:tensorflow:Assets written to: /content/checkpoint_1/model27/assets\n"
          ]
        },
        {
          "output_type": "stream",
          "name": "stdout",
          "text": [
            "Epoch 28/50\n",
            "153/153 [==============================] - 3s 20ms/step - loss: 0.0040 - val_loss: 0.0199\n"
          ]
        },
        {
          "output_type": "stream",
          "name": "stderr",
          "text": [
            "WARNING:absl:Found untraced functions such as lstm_cell_layer_call_and_return_conditional_losses, lstm_cell_layer_call_fn, lstm_cell_1_layer_call_and_return_conditional_losses, lstm_cell_1_layer_call_fn, lstm_cell_layer_call_fn while saving (showing 5 of 10). These functions will not be directly callable after loading.\n"
          ]
        },
        {
          "output_type": "stream",
          "name": "stdout",
          "text": [
            "INFO:tensorflow:Assets written to: /content/checkpoint_1/model28/assets\n"
          ]
        },
        {
          "output_type": "stream",
          "name": "stderr",
          "text": [
            "INFO:tensorflow:Assets written to: /content/checkpoint_1/model28/assets\n"
          ]
        },
        {
          "output_type": "stream",
          "name": "stdout",
          "text": [
            "Epoch 29/50\n",
            "153/153 [==============================] - 3s 21ms/step - loss: 0.0040 - val_loss: 0.0184\n"
          ]
        },
        {
          "output_type": "stream",
          "name": "stderr",
          "text": [
            "WARNING:absl:Found untraced functions such as lstm_cell_layer_call_and_return_conditional_losses, lstm_cell_layer_call_fn, lstm_cell_1_layer_call_and_return_conditional_losses, lstm_cell_1_layer_call_fn, lstm_cell_layer_call_fn while saving (showing 5 of 10). These functions will not be directly callable after loading.\n"
          ]
        },
        {
          "output_type": "stream",
          "name": "stdout",
          "text": [
            "INFO:tensorflow:Assets written to: /content/checkpoint_1/model29/assets\n"
          ]
        },
        {
          "output_type": "stream",
          "name": "stderr",
          "text": [
            "INFO:tensorflow:Assets written to: /content/checkpoint_1/model29/assets\n"
          ]
        },
        {
          "output_type": "stream",
          "name": "stdout",
          "text": [
            "Epoch 30/50\n",
            "153/153 [==============================] - 3s 21ms/step - loss: 0.0040 - val_loss: 0.0209\n"
          ]
        },
        {
          "output_type": "stream",
          "name": "stderr",
          "text": [
            "WARNING:absl:Found untraced functions such as lstm_cell_layer_call_and_return_conditional_losses, lstm_cell_layer_call_fn, lstm_cell_1_layer_call_and_return_conditional_losses, lstm_cell_1_layer_call_fn, lstm_cell_layer_call_fn while saving (showing 5 of 10). These functions will not be directly callable after loading.\n"
          ]
        },
        {
          "output_type": "stream",
          "name": "stdout",
          "text": [
            "INFO:tensorflow:Assets written to: /content/checkpoint_1/model30/assets\n"
          ]
        },
        {
          "output_type": "stream",
          "name": "stderr",
          "text": [
            "INFO:tensorflow:Assets written to: /content/checkpoint_1/model30/assets\n"
          ]
        },
        {
          "output_type": "stream",
          "name": "stdout",
          "text": [
            "Epoch 31/50\n",
            "153/153 [==============================] - 3s 20ms/step - loss: 0.0040 - val_loss: 0.0189\n"
          ]
        },
        {
          "output_type": "stream",
          "name": "stderr",
          "text": [
            "WARNING:absl:Found untraced functions such as lstm_cell_layer_call_and_return_conditional_losses, lstm_cell_layer_call_fn, lstm_cell_1_layer_call_and_return_conditional_losses, lstm_cell_1_layer_call_fn, lstm_cell_layer_call_fn while saving (showing 5 of 10). These functions will not be directly callable after loading.\n"
          ]
        },
        {
          "output_type": "stream",
          "name": "stdout",
          "text": [
            "INFO:tensorflow:Assets written to: /content/checkpoint_1/model31/assets\n"
          ]
        },
        {
          "output_type": "stream",
          "name": "stderr",
          "text": [
            "INFO:tensorflow:Assets written to: /content/checkpoint_1/model31/assets\n"
          ]
        },
        {
          "output_type": "stream",
          "name": "stdout",
          "text": [
            "Epoch 32/50\n",
            "153/153 [==============================] - 3s 20ms/step - loss: 0.0040 - val_loss: 0.0195\n"
          ]
        },
        {
          "output_type": "stream",
          "name": "stderr",
          "text": [
            "WARNING:absl:Found untraced functions such as lstm_cell_layer_call_and_return_conditional_losses, lstm_cell_layer_call_fn, lstm_cell_1_layer_call_and_return_conditional_losses, lstm_cell_1_layer_call_fn, lstm_cell_layer_call_fn while saving (showing 5 of 10). These functions will not be directly callable after loading.\n"
          ]
        },
        {
          "output_type": "stream",
          "name": "stdout",
          "text": [
            "INFO:tensorflow:Assets written to: /content/checkpoint_1/model32/assets\n"
          ]
        },
        {
          "output_type": "stream",
          "name": "stderr",
          "text": [
            "INFO:tensorflow:Assets written to: /content/checkpoint_1/model32/assets\n"
          ]
        },
        {
          "output_type": "stream",
          "name": "stdout",
          "text": [
            "Epoch 33/50\n",
            "153/153 [==============================] - 3s 21ms/step - loss: 0.0040 - val_loss: 0.0199\n"
          ]
        },
        {
          "output_type": "stream",
          "name": "stderr",
          "text": [
            "WARNING:absl:Found untraced functions such as lstm_cell_layer_call_and_return_conditional_losses, lstm_cell_layer_call_fn, lstm_cell_1_layer_call_and_return_conditional_losses, lstm_cell_1_layer_call_fn, lstm_cell_layer_call_fn while saving (showing 5 of 10). These functions will not be directly callable after loading.\n"
          ]
        },
        {
          "output_type": "stream",
          "name": "stdout",
          "text": [
            "INFO:tensorflow:Assets written to: /content/checkpoint_1/model33/assets\n"
          ]
        },
        {
          "output_type": "stream",
          "name": "stderr",
          "text": [
            "INFO:tensorflow:Assets written to: /content/checkpoint_1/model33/assets\n"
          ]
        },
        {
          "output_type": "stream",
          "name": "stdout",
          "text": [
            "Epoch 34/50\n",
            "153/153 [==============================] - 3s 21ms/step - loss: 0.0039 - val_loss: 0.0192\n"
          ]
        },
        {
          "output_type": "stream",
          "name": "stderr",
          "text": [
            "WARNING:absl:Found untraced functions such as lstm_cell_layer_call_and_return_conditional_losses, lstm_cell_layer_call_fn, lstm_cell_1_layer_call_and_return_conditional_losses, lstm_cell_1_layer_call_fn, lstm_cell_layer_call_fn while saving (showing 5 of 10). These functions will not be directly callable after loading.\n"
          ]
        },
        {
          "output_type": "stream",
          "name": "stdout",
          "text": [
            "INFO:tensorflow:Assets written to: /content/checkpoint_1/model34/assets\n"
          ]
        },
        {
          "output_type": "stream",
          "name": "stderr",
          "text": [
            "INFO:tensorflow:Assets written to: /content/checkpoint_1/model34/assets\n"
          ]
        },
        {
          "output_type": "stream",
          "name": "stdout",
          "text": [
            "Epoch 35/50\n",
            "153/153 [==============================] - 3s 21ms/step - loss: 0.0040 - val_loss: 0.0196\n"
          ]
        },
        {
          "output_type": "stream",
          "name": "stderr",
          "text": [
            "WARNING:absl:Found untraced functions such as lstm_cell_layer_call_and_return_conditional_losses, lstm_cell_layer_call_fn, lstm_cell_1_layer_call_and_return_conditional_losses, lstm_cell_1_layer_call_fn, lstm_cell_layer_call_fn while saving (showing 5 of 10). These functions will not be directly callable after loading.\n"
          ]
        },
        {
          "output_type": "stream",
          "name": "stdout",
          "text": [
            "INFO:tensorflow:Assets written to: /content/checkpoint_1/model35/assets\n"
          ]
        },
        {
          "output_type": "stream",
          "name": "stderr",
          "text": [
            "INFO:tensorflow:Assets written to: /content/checkpoint_1/model35/assets\n"
          ]
        },
        {
          "output_type": "stream",
          "name": "stdout",
          "text": [
            "Epoch 36/50\n",
            "153/153 [==============================] - 3s 21ms/step - loss: 0.0040 - val_loss: 0.0191\n"
          ]
        },
        {
          "output_type": "stream",
          "name": "stderr",
          "text": [
            "WARNING:absl:Found untraced functions such as lstm_cell_layer_call_and_return_conditional_losses, lstm_cell_layer_call_fn, lstm_cell_1_layer_call_and_return_conditional_losses, lstm_cell_1_layer_call_fn, lstm_cell_layer_call_fn while saving (showing 5 of 10). These functions will not be directly callable after loading.\n"
          ]
        },
        {
          "output_type": "stream",
          "name": "stdout",
          "text": [
            "INFO:tensorflow:Assets written to: /content/checkpoint_1/model36/assets\n"
          ]
        },
        {
          "output_type": "stream",
          "name": "stderr",
          "text": [
            "INFO:tensorflow:Assets written to: /content/checkpoint_1/model36/assets\n"
          ]
        },
        {
          "output_type": "stream",
          "name": "stdout",
          "text": [
            "Epoch 37/50\n",
            "153/153 [==============================] - 3s 21ms/step - loss: 0.0039 - val_loss: 0.0201\n"
          ]
        },
        {
          "output_type": "stream",
          "name": "stderr",
          "text": [
            "WARNING:absl:Found untraced functions such as lstm_cell_layer_call_and_return_conditional_losses, lstm_cell_layer_call_fn, lstm_cell_1_layer_call_and_return_conditional_losses, lstm_cell_1_layer_call_fn, lstm_cell_layer_call_fn while saving (showing 5 of 10). These functions will not be directly callable after loading.\n"
          ]
        },
        {
          "output_type": "stream",
          "name": "stdout",
          "text": [
            "INFO:tensorflow:Assets written to: /content/checkpoint_1/model37/assets\n"
          ]
        },
        {
          "output_type": "stream",
          "name": "stderr",
          "text": [
            "INFO:tensorflow:Assets written to: /content/checkpoint_1/model37/assets\n"
          ]
        },
        {
          "output_type": "stream",
          "name": "stdout",
          "text": [
            "Epoch 38/50\n",
            "153/153 [==============================] - 3s 21ms/step - loss: 0.0040 - val_loss: 0.0199\n"
          ]
        },
        {
          "output_type": "stream",
          "name": "stderr",
          "text": [
            "WARNING:absl:Found untraced functions such as lstm_cell_layer_call_and_return_conditional_losses, lstm_cell_layer_call_fn, lstm_cell_1_layer_call_and_return_conditional_losses, lstm_cell_1_layer_call_fn, lstm_cell_layer_call_fn while saving (showing 5 of 10). These functions will not be directly callable after loading.\n"
          ]
        },
        {
          "output_type": "stream",
          "name": "stdout",
          "text": [
            "INFO:tensorflow:Assets written to: /content/checkpoint_1/model38/assets\n"
          ]
        },
        {
          "output_type": "stream",
          "name": "stderr",
          "text": [
            "INFO:tensorflow:Assets written to: /content/checkpoint_1/model38/assets\n"
          ]
        },
        {
          "output_type": "stream",
          "name": "stdout",
          "text": [
            "Epoch 39/50\n",
            "153/153 [==============================] - 3s 21ms/step - loss: 0.0040 - val_loss: 0.0199\n"
          ]
        },
        {
          "output_type": "stream",
          "name": "stderr",
          "text": [
            "WARNING:absl:Found untraced functions such as lstm_cell_layer_call_and_return_conditional_losses, lstm_cell_layer_call_fn, lstm_cell_1_layer_call_and_return_conditional_losses, lstm_cell_1_layer_call_fn, lstm_cell_layer_call_fn while saving (showing 5 of 10). These functions will not be directly callable after loading.\n"
          ]
        },
        {
          "output_type": "stream",
          "name": "stdout",
          "text": [
            "INFO:tensorflow:Assets written to: /content/checkpoint_1/model39/assets\n"
          ]
        },
        {
          "output_type": "stream",
          "name": "stderr",
          "text": [
            "INFO:tensorflow:Assets written to: /content/checkpoint_1/model39/assets\n"
          ]
        },
        {
          "output_type": "stream",
          "name": "stdout",
          "text": [
            "Epoch 40/50\n",
            "153/153 [==============================] - 3s 21ms/step - loss: 0.0040 - val_loss: 0.0196\n"
          ]
        },
        {
          "output_type": "stream",
          "name": "stderr",
          "text": [
            "WARNING:absl:Found untraced functions such as lstm_cell_layer_call_and_return_conditional_losses, lstm_cell_layer_call_fn, lstm_cell_1_layer_call_and_return_conditional_losses, lstm_cell_1_layer_call_fn, lstm_cell_layer_call_fn while saving (showing 5 of 10). These functions will not be directly callable after loading.\n"
          ]
        },
        {
          "output_type": "stream",
          "name": "stdout",
          "text": [
            "INFO:tensorflow:Assets written to: /content/checkpoint_1/model40/assets\n"
          ]
        },
        {
          "output_type": "stream",
          "name": "stderr",
          "text": [
            "INFO:tensorflow:Assets written to: /content/checkpoint_1/model40/assets\n"
          ]
        },
        {
          "output_type": "stream",
          "name": "stdout",
          "text": [
            "Epoch 41/50\n",
            "153/153 [==============================] - 3s 21ms/step - loss: 0.0040 - val_loss: 0.0193\n"
          ]
        },
        {
          "output_type": "stream",
          "name": "stderr",
          "text": [
            "WARNING:absl:Found untraced functions such as lstm_cell_layer_call_and_return_conditional_losses, lstm_cell_layer_call_fn, lstm_cell_1_layer_call_and_return_conditional_losses, lstm_cell_1_layer_call_fn, lstm_cell_layer_call_fn while saving (showing 5 of 10). These functions will not be directly callable after loading.\n"
          ]
        },
        {
          "output_type": "stream",
          "name": "stdout",
          "text": [
            "INFO:tensorflow:Assets written to: /content/checkpoint_1/model41/assets\n"
          ]
        },
        {
          "output_type": "stream",
          "name": "stderr",
          "text": [
            "INFO:tensorflow:Assets written to: /content/checkpoint_1/model41/assets\n"
          ]
        },
        {
          "output_type": "stream",
          "name": "stdout",
          "text": [
            "Epoch 42/50\n",
            "153/153 [==============================] - 3s 21ms/step - loss: 0.0040 - val_loss: 0.0195\n"
          ]
        },
        {
          "output_type": "stream",
          "name": "stderr",
          "text": [
            "WARNING:absl:Found untraced functions such as lstm_cell_layer_call_and_return_conditional_losses, lstm_cell_layer_call_fn, lstm_cell_1_layer_call_and_return_conditional_losses, lstm_cell_1_layer_call_fn, lstm_cell_layer_call_fn while saving (showing 5 of 10). These functions will not be directly callable after loading.\n"
          ]
        },
        {
          "output_type": "stream",
          "name": "stdout",
          "text": [
            "INFO:tensorflow:Assets written to: /content/checkpoint_1/model42/assets\n"
          ]
        },
        {
          "output_type": "stream",
          "name": "stderr",
          "text": [
            "INFO:tensorflow:Assets written to: /content/checkpoint_1/model42/assets\n"
          ]
        },
        {
          "output_type": "stream",
          "name": "stdout",
          "text": [
            "Epoch 43/50\n",
            "153/153 [==============================] - 3s 21ms/step - loss: 0.0040 - val_loss: 0.0195\n"
          ]
        },
        {
          "output_type": "stream",
          "name": "stderr",
          "text": [
            "WARNING:absl:Found untraced functions such as lstm_cell_layer_call_and_return_conditional_losses, lstm_cell_layer_call_fn, lstm_cell_1_layer_call_and_return_conditional_losses, lstm_cell_1_layer_call_fn, lstm_cell_layer_call_fn while saving (showing 5 of 10). These functions will not be directly callable after loading.\n"
          ]
        },
        {
          "output_type": "stream",
          "name": "stdout",
          "text": [
            "INFO:tensorflow:Assets written to: /content/checkpoint_1/model43/assets\n"
          ]
        },
        {
          "output_type": "stream",
          "name": "stderr",
          "text": [
            "INFO:tensorflow:Assets written to: /content/checkpoint_1/model43/assets\n"
          ]
        },
        {
          "output_type": "stream",
          "name": "stdout",
          "text": [
            "Epoch 44/50\n",
            "153/153 [==============================] - 3s 21ms/step - loss: 0.0039 - val_loss: 0.0197\n"
          ]
        },
        {
          "output_type": "stream",
          "name": "stderr",
          "text": [
            "WARNING:absl:Found untraced functions such as lstm_cell_layer_call_and_return_conditional_losses, lstm_cell_layer_call_fn, lstm_cell_1_layer_call_and_return_conditional_losses, lstm_cell_1_layer_call_fn, lstm_cell_layer_call_fn while saving (showing 5 of 10). These functions will not be directly callable after loading.\n"
          ]
        },
        {
          "output_type": "stream",
          "name": "stdout",
          "text": [
            "INFO:tensorflow:Assets written to: /content/checkpoint_1/model44/assets\n"
          ]
        },
        {
          "output_type": "stream",
          "name": "stderr",
          "text": [
            "INFO:tensorflow:Assets written to: /content/checkpoint_1/model44/assets\n"
          ]
        },
        {
          "output_type": "stream",
          "name": "stdout",
          "text": [
            "Epoch 45/50\n",
            "153/153 [==============================] - 3s 21ms/step - loss: 0.0040 - val_loss: 0.0197\n"
          ]
        },
        {
          "output_type": "stream",
          "name": "stderr",
          "text": [
            "WARNING:absl:Found untraced functions such as lstm_cell_layer_call_and_return_conditional_losses, lstm_cell_layer_call_fn, lstm_cell_1_layer_call_and_return_conditional_losses, lstm_cell_1_layer_call_fn, lstm_cell_layer_call_fn while saving (showing 5 of 10). These functions will not be directly callable after loading.\n"
          ]
        },
        {
          "output_type": "stream",
          "name": "stdout",
          "text": [
            "INFO:tensorflow:Assets written to: /content/checkpoint_1/model45/assets\n"
          ]
        },
        {
          "output_type": "stream",
          "name": "stderr",
          "text": [
            "INFO:tensorflow:Assets written to: /content/checkpoint_1/model45/assets\n"
          ]
        },
        {
          "output_type": "stream",
          "name": "stdout",
          "text": [
            "Epoch 46/50\n",
            "153/153 [==============================] - 3s 21ms/step - loss: 0.0040 - val_loss: 0.0195\n"
          ]
        },
        {
          "output_type": "stream",
          "name": "stderr",
          "text": [
            "WARNING:absl:Found untraced functions such as lstm_cell_layer_call_and_return_conditional_losses, lstm_cell_layer_call_fn, lstm_cell_1_layer_call_and_return_conditional_losses, lstm_cell_1_layer_call_fn, lstm_cell_layer_call_fn while saving (showing 5 of 10). These functions will not be directly callable after loading.\n"
          ]
        },
        {
          "output_type": "stream",
          "name": "stdout",
          "text": [
            "INFO:tensorflow:Assets written to: /content/checkpoint_1/model46/assets\n"
          ]
        },
        {
          "output_type": "stream",
          "name": "stderr",
          "text": [
            "INFO:tensorflow:Assets written to: /content/checkpoint_1/model46/assets\n"
          ]
        },
        {
          "output_type": "stream",
          "name": "stdout",
          "text": [
            "Epoch 47/50\n",
            "153/153 [==============================] - 3s 21ms/step - loss: 0.0040 - val_loss: 0.0195\n"
          ]
        },
        {
          "output_type": "stream",
          "name": "stderr",
          "text": [
            "WARNING:absl:Found untraced functions such as lstm_cell_layer_call_and_return_conditional_losses, lstm_cell_layer_call_fn, lstm_cell_1_layer_call_and_return_conditional_losses, lstm_cell_1_layer_call_fn, lstm_cell_layer_call_fn while saving (showing 5 of 10). These functions will not be directly callable after loading.\n"
          ]
        },
        {
          "output_type": "stream",
          "name": "stdout",
          "text": [
            "INFO:tensorflow:Assets written to: /content/checkpoint_1/model47/assets\n"
          ]
        },
        {
          "output_type": "stream",
          "name": "stderr",
          "text": [
            "INFO:tensorflow:Assets written to: /content/checkpoint_1/model47/assets\n"
          ]
        },
        {
          "output_type": "stream",
          "name": "stdout",
          "text": [
            "Epoch 48/50\n",
            "153/153 [==============================] - 3s 21ms/step - loss: 0.0039 - val_loss: 0.0196\n"
          ]
        },
        {
          "output_type": "stream",
          "name": "stderr",
          "text": [
            "WARNING:absl:Found untraced functions such as lstm_cell_layer_call_and_return_conditional_losses, lstm_cell_layer_call_fn, lstm_cell_1_layer_call_and_return_conditional_losses, lstm_cell_1_layer_call_fn, lstm_cell_layer_call_fn while saving (showing 5 of 10). These functions will not be directly callable after loading.\n"
          ]
        },
        {
          "output_type": "stream",
          "name": "stdout",
          "text": [
            "INFO:tensorflow:Assets written to: /content/checkpoint_1/model48/assets\n"
          ]
        },
        {
          "output_type": "stream",
          "name": "stderr",
          "text": [
            "INFO:tensorflow:Assets written to: /content/checkpoint_1/model48/assets\n"
          ]
        },
        {
          "output_type": "stream",
          "name": "stdout",
          "text": [
            "Epoch 49/50\n",
            "153/153 [==============================] - 3s 21ms/step - loss: 0.0039 - val_loss: 0.0196\n"
          ]
        },
        {
          "output_type": "stream",
          "name": "stderr",
          "text": [
            "WARNING:absl:Found untraced functions such as lstm_cell_layer_call_and_return_conditional_losses, lstm_cell_layer_call_fn, lstm_cell_1_layer_call_and_return_conditional_losses, lstm_cell_1_layer_call_fn, lstm_cell_layer_call_fn while saving (showing 5 of 10). These functions will not be directly callable after loading.\n"
          ]
        },
        {
          "output_type": "stream",
          "name": "stdout",
          "text": [
            "INFO:tensorflow:Assets written to: /content/checkpoint_1/model49/assets\n"
          ]
        },
        {
          "output_type": "stream",
          "name": "stderr",
          "text": [
            "INFO:tensorflow:Assets written to: /content/checkpoint_1/model49/assets\n"
          ]
        },
        {
          "output_type": "stream",
          "name": "stdout",
          "text": [
            "Epoch 50/50\n",
            "153/153 [==============================] - 3s 21ms/step - loss: 0.0039 - val_loss: 0.0196\n"
          ]
        },
        {
          "output_type": "stream",
          "name": "stderr",
          "text": [
            "WARNING:absl:Found untraced functions such as lstm_cell_layer_call_and_return_conditional_losses, lstm_cell_layer_call_fn, lstm_cell_1_layer_call_and_return_conditional_losses, lstm_cell_1_layer_call_fn, lstm_cell_layer_call_fn while saving (showing 5 of 10). These functions will not be directly callable after loading.\n"
          ]
        },
        {
          "output_type": "stream",
          "name": "stdout",
          "text": [
            "INFO:tensorflow:Assets written to: /content/checkpoint_1/model50/assets\n"
          ]
        },
        {
          "output_type": "stream",
          "name": "stderr",
          "text": [
            "INFO:tensorflow:Assets written to: /content/checkpoint_1/model50/assets\n"
          ]
        }
      ]
    },
    {
      "cell_type": "code",
      "metadata": {
        "colab": {
          "base_uri": "https://localhost:8080/",
          "height": 295
        },
        "id": "T9V6mLi2sg1P",
        "outputId": "d955e22d-fa95-417d-b8a4-fa065b7db286"
      },
      "source": [
        "plt.plot(history.history['loss'])\n",
        "plt.plot(history.history['val_loss'])\n",
        "plt.title(\"Training Loss\")\n",
        "plt.xlabel('Epochs')\n",
        "plt.ylabel('Loss')\n",
        "plt.legend(['loss', 'val_loss'])\n",
        "plt.show()"
      ],
      "execution_count": 16,
      "outputs": [
        {
          "output_type": "display_data",
          "data": {
            "image/png": "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\n",
            "text/plain": [
              "<Figure size 432x288 with 1 Axes>"
            ]
          },
          "metadata": {
            "needs_background": "light"
          }
        }
      ]
    },
    {
      "cell_type": "code",
      "metadata": {
        "id": "LZSuYz-2dQaj",
        "colab": {
          "base_uri": "https://localhost:8080/"
        },
        "outputId": "97365eb6-c403-4875-b505-cccef2e7c9f8"
      },
      "source": [
        "# Make the prediction\n",
        "\n",
        "pred=model.predict(X_test)\n",
        "print(pred.shape)"
      ],
      "execution_count": 17,
      "outputs": [
        {
          "output_type": "stream",
          "name": "stdout",
          "text": [
            "(1, 15, 1)\n"
          ]
        }
      ]
    },
    {
      "cell_type": "code",
      "metadata": {
        "colab": {
          "base_uri": "https://localhost:8080/"
        },
        "id": "MwbNRLftdSGt",
        "outputId": "ffbcd53b-da90-4bf6-e5db-eacbe27227de"
      },
      "source": [
        "# Reverse normalized transformation\n",
        "\n",
        "scaler = scalers['scaler_close']\n",
        "pred[:,:,0]=scaler.inverse_transform(pred[:,:,0])\n",
        "\n",
        "print(pred.shape)\n",
        "print(pred)"
      ],
      "execution_count": 18,
      "outputs": [
        {
          "output_type": "stream",
          "name": "stdout",
          "text": [
            "(1, 15, 1)\n",
            "[[[54247.71 ]\n",
            "  [54278.387]\n",
            "  [54296.387]\n",
            "  [54304.95 ]\n",
            "  [54309.504]\n",
            "  [54315.8  ]\n",
            "  [54328.62 ]\n",
            "  [54350.957]\n",
            "  [54383.645]\n",
            "  [54425.3  ]\n",
            "  [54472.695]\n",
            "  [54521.355]\n",
            "  [54566.39 ]\n",
            "  [54603.28 ]\n",
            "  [54628.55 ]]]\n"
          ]
        }
      ]
    },
    {
      "cell_type": "code",
      "metadata": {
        "colab": {
          "base_uri": "https://localhost:8080/"
        },
        "id": "gLTXleRkkAoY",
        "outputId": "750826ae-067d-442e-a7ad-bf5226a999ef"
      },
      "source": [
        "y_test[:, :, 0] = scalers[\"scaler_close\"].inverse_transform(y_test[:,:,0])\n",
        "print(y_test)"
      ],
      "execution_count": 19,
      "outputs": [
        {
          "output_type": "stream",
          "name": "stdout",
          "text": [
            "[[[54239.10763496]\n",
            "  [54343.79284206]\n",
            "  [54395.77005015]\n",
            "  [54392.82150149]\n",
            "  [54410.57621457]\n",
            "  [54466.6704977 ]\n",
            "  [54554.2127494 ]\n",
            "  [54572.43768009]\n",
            "  [54830.92417671]\n",
            "  [54935.16109667]\n",
            "  [55140.32714481]\n",
            "  [55193.03066047]\n",
            "  [55252.61613826]\n",
            "  [55077.25967646]\n",
            "  [54932.2686325 ]]]\n"
          ]
        }
      ]
    },
    {
      "cell_type": "code",
      "metadata": {
        "colab": {
          "base_uri": "https://localhost:8080/",
          "height": 295
        },
        "id": "ricPdlcImGxI",
        "outputId": "bcfe17b6-648e-47aa-cfb4-2ff68dfe490e"
      },
      "source": [
        "plt.plot(y_test[:, :, 0].flatten(), label=\"Actual Price\", color='green')\n",
        "plt.plot(pred[:, :, 0].flatten(), label=\"Predicted Price\", color='red')\n",
        " \n",
        "plt.title('Bitcoin price prediction')\n",
        "plt.xlabel('Time [days]')\n",
        "plt.ylabel('Price')\n",
        "plt.legend(loc='best')\n",
        " \n",
        "plt.show();"
      ],
      "execution_count": 20,
      "outputs": [
        {
          "output_type": "display_data",
          "data": {
            "image/png": "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\n",
            "text/plain": [
              "<Figure size 432x288 with 1 Axes>"
            ]
          },
          "metadata": {
            "needs_background": "light"
          }
        }
      ]
    },
    {
      "cell_type": "code",
      "metadata": {
        "colab": {
          "base_uri": "https://localhost:8080/",
          "height": 547
        },
        "id": "O4oQpdqWrvou",
        "outputId": "f7fa90bc-c295-4555-f548-970ef6a705e5"
      },
      "source": [
        "import keras\n",
        "\n",
        "model_10 = keras.models.load_model(\"/content/checkpoint_1/model5\")\n",
        "pred_10 = model_10.predict(X_test)\n",
        "pred_10[:, :, 0] = scalers['scaler_close'].inverse_transform(pred_10[:, :, 0])\n",
        "print(pred_10)\n",
        "\n",
        "plt.plot(y_test[:, :, 0].flatten(), label=\"Actual Price\", color='green')\n",
        "plt.plot(pred_10[:, :, 0].flatten(), label=\"Predicted Price\", color='red')\n",
        "\n",
        "plt.title('Bitcoin price prediction')\n",
        "plt.xlabel('Time [days]')\n",
        "plt.ylabel('Price')\n",
        "plt.legend(loc='best')\n",
        " \n",
        "plt.show();"
      ],
      "execution_count": 21,
      "outputs": [
        {
          "output_type": "stream",
          "name": "stdout",
          "text": [
            "[[[54269.664]\n",
            "  [54280.973]\n",
            "  [54295.656]\n",
            "  [54313.074]\n",
            "  [54332.688]\n",
            "  [54353.902]\n",
            "  [54376.008]\n",
            "  [54398.24 ]\n",
            "  [54419.805]\n",
            "  [54440.   ]\n",
            "  [54458.23 ]\n",
            "  [54474.043]\n",
            "  [54487.16 ]\n",
            "  [54497.473]\n",
            "  [54505.004]]]\n"
          ]
        },
        {
          "output_type": "display_data",
          "data": {
            "image/png": "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\n",
            "text/plain": [
              "<Figure size 432x288 with 1 Axes>"
            ]
          },
          "metadata": {
            "needs_background": "light"
          }
        }
      ]
    }
  ]
}